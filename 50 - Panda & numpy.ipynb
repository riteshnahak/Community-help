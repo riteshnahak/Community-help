{
 "cells": [
  {
   "cell_type": "code",
   "execution_count": 1,
   "id": "e2080461",
   "metadata": {},
   "outputs": [],
   "source": [
    "import pandas as pd"
   ]
  },
  {
   "cell_type": "code",
   "execution_count": 5,
   "id": "9b9eab81",
   "metadata": {},
   "outputs": [],
   "source": [
    "df=pd.DataFrame({\n",
    "    'col1' : [1,2,3,4,5],\n",
    "    'col2' : [45,56,67,34,34],\n",
    "    'col3': 'ritesh kumar nahak ineur one'.split()\n",
    "})"
   ]
  },
  {
   "cell_type": "code",
   "execution_count": 6,
   "id": "202e7111",
   "metadata": {},
   "outputs": [
    {
     "data": {
      "text/html": [
       "<div>\n",
       "<style scoped>\n",
       "    .dataframe tbody tr th:only-of-type {\n",
       "        vertical-align: middle;\n",
       "    }\n",
       "\n",
       "    .dataframe tbody tr th {\n",
       "        vertical-align: top;\n",
       "    }\n",
       "\n",
       "    .dataframe thead th {\n",
       "        text-align: right;\n",
       "    }\n",
       "</style>\n",
       "<table border=\"1\" class=\"dataframe\">\n",
       "  <thead>\n",
       "    <tr style=\"text-align: right;\">\n",
       "      <th></th>\n",
       "      <th>col1</th>\n",
       "      <th>col2</th>\n",
       "      <th>col3</th>\n",
       "    </tr>\n",
       "  </thead>\n",
       "  <tbody>\n",
       "    <tr>\n",
       "      <th>0</th>\n",
       "      <td>1</td>\n",
       "      <td>45</td>\n",
       "      <td>ritesh</td>\n",
       "    </tr>\n",
       "    <tr>\n",
       "      <th>1</th>\n",
       "      <td>2</td>\n",
       "      <td>56</td>\n",
       "      <td>kumar</td>\n",
       "    </tr>\n",
       "    <tr>\n",
       "      <th>2</th>\n",
       "      <td>3</td>\n",
       "      <td>67</td>\n",
       "      <td>nahak</td>\n",
       "    </tr>\n",
       "    <tr>\n",
       "      <th>3</th>\n",
       "      <td>4</td>\n",
       "      <td>34</td>\n",
       "      <td>ineur</td>\n",
       "    </tr>\n",
       "    <tr>\n",
       "      <th>4</th>\n",
       "      <td>5</td>\n",
       "      <td>34</td>\n",
       "      <td>one</td>\n",
       "    </tr>\n",
       "  </tbody>\n",
       "</table>\n",
       "</div>"
      ],
      "text/plain": [
       "   col1  col2    col3\n",
       "0     1    45  ritesh\n",
       "1     2    56   kumar\n",
       "2     3    67   nahak\n",
       "3     4    34   ineur\n",
       "4     5    34     one"
      ]
     },
     "execution_count": 6,
     "metadata": {},
     "output_type": "execute_result"
    }
   ],
   "source": [
    "df"
   ]
  },
  {
   "cell_type": "code",
   "execution_count": 12,
   "id": "a6c08614",
   "metadata": {},
   "outputs": [],
   "source": [
    "# Creat a col4 and put value as square of col1"
   ]
  },
  {
   "cell_type": "code",
   "execution_count": 40,
   "id": "75b241d1",
   "metadata": {},
   "outputs": [],
   "source": [
    "df['col4']=df['col1']**2"
   ]
  },
  {
   "cell_type": "code",
   "execution_count": 13,
   "id": "9701b278",
   "metadata": {},
   "outputs": [
    {
     "data": {
      "text/html": [
       "<div>\n",
       "<style scoped>\n",
       "    .dataframe tbody tr th:only-of-type {\n",
       "        vertical-align: middle;\n",
       "    }\n",
       "\n",
       "    .dataframe tbody tr th {\n",
       "        vertical-align: top;\n",
       "    }\n",
       "\n",
       "    .dataframe thead th {\n",
       "        text-align: right;\n",
       "    }\n",
       "</style>\n",
       "<table border=\"1\" class=\"dataframe\">\n",
       "  <thead>\n",
       "    <tr style=\"text-align: right;\">\n",
       "      <th></th>\n",
       "      <th>col1</th>\n",
       "      <th>col2</th>\n",
       "      <th>col3</th>\n",
       "      <th>col4</th>\n",
       "    </tr>\n",
       "  </thead>\n",
       "  <tbody>\n",
       "    <tr>\n",
       "      <th>0</th>\n",
       "      <td>1</td>\n",
       "      <td>45</td>\n",
       "      <td>ritesh</td>\n",
       "      <td>1</td>\n",
       "    </tr>\n",
       "    <tr>\n",
       "      <th>1</th>\n",
       "      <td>2</td>\n",
       "      <td>56</td>\n",
       "      <td>kumar</td>\n",
       "      <td>4</td>\n",
       "    </tr>\n",
       "    <tr>\n",
       "      <th>2</th>\n",
       "      <td>3</td>\n",
       "      <td>67</td>\n",
       "      <td>nahak</td>\n",
       "      <td>9</td>\n",
       "    </tr>\n",
       "    <tr>\n",
       "      <th>3</th>\n",
       "      <td>4</td>\n",
       "      <td>34</td>\n",
       "      <td>ineur</td>\n",
       "      <td>16</td>\n",
       "    </tr>\n",
       "    <tr>\n",
       "      <th>4</th>\n",
       "      <td>5</td>\n",
       "      <td>34</td>\n",
       "      <td>one</td>\n",
       "      <td>25</td>\n",
       "    </tr>\n",
       "  </tbody>\n",
       "</table>\n",
       "</div>"
      ],
      "text/plain": [
       "   col1  col2    col3  col4\n",
       "0     1    45  ritesh     1\n",
       "1     2    56   kumar     4\n",
       "2     3    67   nahak     9\n",
       "3     4    34   ineur    16\n",
       "4     5    34     one    25"
      ]
     },
     "execution_count": 13,
     "metadata": {},
     "output_type": "execute_result"
    }
   ],
   "source": [
    "df"
   ]
  },
  {
   "cell_type": "code",
   "execution_count": 15,
   "id": "a9bf59bc",
   "metadata": {},
   "outputs": [],
   "source": [
    "# Craet col 5 and put value as first letter of col3 string"
   ]
  },
  {
   "cell_type": "code",
   "execution_count": 41,
   "id": "971b17fc",
   "metadata": {},
   "outputs": [],
   "source": [
    "df['col5']=df['col3'].str[0]"
   ]
  },
  {
   "cell_type": "code",
   "execution_count": 16,
   "id": "0a8bc712",
   "metadata": {},
   "outputs": [
    {
     "data": {
      "text/html": [
       "<div>\n",
       "<style scoped>\n",
       "    .dataframe tbody tr th:only-of-type {\n",
       "        vertical-align: middle;\n",
       "    }\n",
       "\n",
       "    .dataframe tbody tr th {\n",
       "        vertical-align: top;\n",
       "    }\n",
       "\n",
       "    .dataframe thead th {\n",
       "        text-align: right;\n",
       "    }\n",
       "</style>\n",
       "<table border=\"1\" class=\"dataframe\">\n",
       "  <thead>\n",
       "    <tr style=\"text-align: right;\">\n",
       "      <th></th>\n",
       "      <th>col1</th>\n",
       "      <th>col2</th>\n",
       "      <th>col3</th>\n",
       "      <th>col4</th>\n",
       "      <th>col5</th>\n",
       "    </tr>\n",
       "  </thead>\n",
       "  <tbody>\n",
       "    <tr>\n",
       "      <th>0</th>\n",
       "      <td>1</td>\n",
       "      <td>45</td>\n",
       "      <td>ritesh</td>\n",
       "      <td>1</td>\n",
       "      <td>r</td>\n",
       "    </tr>\n",
       "    <tr>\n",
       "      <th>1</th>\n",
       "      <td>2</td>\n",
       "      <td>56</td>\n",
       "      <td>kumar</td>\n",
       "      <td>4</td>\n",
       "      <td>k</td>\n",
       "    </tr>\n",
       "    <tr>\n",
       "      <th>2</th>\n",
       "      <td>3</td>\n",
       "      <td>67</td>\n",
       "      <td>nahak</td>\n",
       "      <td>9</td>\n",
       "      <td>n</td>\n",
       "    </tr>\n",
       "    <tr>\n",
       "      <th>3</th>\n",
       "      <td>4</td>\n",
       "      <td>34</td>\n",
       "      <td>ineur</td>\n",
       "      <td>16</td>\n",
       "      <td>i</td>\n",
       "    </tr>\n",
       "    <tr>\n",
       "      <th>4</th>\n",
       "      <td>5</td>\n",
       "      <td>34</td>\n",
       "      <td>one</td>\n",
       "      <td>25</td>\n",
       "      <td>o</td>\n",
       "    </tr>\n",
       "  </tbody>\n",
       "</table>\n",
       "</div>"
      ],
      "text/plain": [
       "   col1  col2    col3  col4 col5\n",
       "0     1    45  ritesh     1    r\n",
       "1     2    56   kumar     4    k\n",
       "2     3    67   nahak     9    n\n",
       "3     4    34   ineur    16    i\n",
       "4     5    34     one    25    o"
      ]
     },
     "execution_count": 16,
     "metadata": {},
     "output_type": "execute_result"
    }
   ],
   "source": [
    "df"
   ]
  },
  {
   "cell_type": "code",
   "execution_count": 42,
   "id": "7495a32f",
   "metadata": {},
   "outputs": [],
   "source": [
    "# Creat a col4 and put value as square of col1 using outside fucnction"
   ]
  },
  {
   "cell_type": "code",
   "execution_count": 43,
   "id": "d8e584f6",
   "metadata": {},
   "outputs": [],
   "source": [
    "def test(a):\n",
    "    return a**2"
   ]
  },
  {
   "cell_type": "code",
   "execution_count": 44,
   "id": "e66e098d",
   "metadata": {},
   "outputs": [],
   "source": [
    "df['col4_4']=df['col1'].apply(test)"
   ]
  },
  {
   "cell_type": "code",
   "execution_count": 45,
   "id": "70cd83c9",
   "metadata": {},
   "outputs": [
    {
     "data": {
      "text/html": [
       "<div>\n",
       "<style scoped>\n",
       "    .dataframe tbody tr th:only-of-type {\n",
       "        vertical-align: middle;\n",
       "    }\n",
       "\n",
       "    .dataframe tbody tr th {\n",
       "        vertical-align: top;\n",
       "    }\n",
       "\n",
       "    .dataframe thead th {\n",
       "        text-align: right;\n",
       "    }\n",
       "</style>\n",
       "<table border=\"1\" class=\"dataframe\">\n",
       "  <thead>\n",
       "    <tr style=\"text-align: right;\">\n",
       "      <th></th>\n",
       "      <th>col1</th>\n",
       "      <th>col2</th>\n",
       "      <th>col3</th>\n",
       "      <th>col4</th>\n",
       "      <th>col5</th>\n",
       "      <th>col4_4</th>\n",
       "      <th>col6</th>\n",
       "      <th>col6_6</th>\n",
       "      <th>col7</th>\n",
       "      <th>col7_7</th>\n",
       "      <th>col8</th>\n",
       "    </tr>\n",
       "  </thead>\n",
       "  <tbody>\n",
       "    <tr>\n",
       "      <th>0</th>\n",
       "      <td>1</td>\n",
       "      <td>45</td>\n",
       "      <td>ritesh</td>\n",
       "      <td>1</td>\n",
       "      <td>r</td>\n",
       "      <td>1</td>\n",
       "      <td>r</td>\n",
       "      <td>r</td>\n",
       "      <td>5</td>\n",
       "      <td>6</td>\n",
       "      <td>3.806662</td>\n",
       "    </tr>\n",
       "    <tr>\n",
       "      <th>1</th>\n",
       "      <td>2</td>\n",
       "      <td>56</td>\n",
       "      <td>kumar</td>\n",
       "      <td>4</td>\n",
       "      <td>k</td>\n",
       "      <td>4</td>\n",
       "      <td>z</td>\n",
       "      <td>z</td>\n",
       "      <td>5</td>\n",
       "      <td>5</td>\n",
       "      <td>4.025352</td>\n",
       "    </tr>\n",
       "    <tr>\n",
       "      <th>2</th>\n",
       "      <td>3</td>\n",
       "      <td>67</td>\n",
       "      <td>nahak</td>\n",
       "      <td>9</td>\n",
       "      <td>n</td>\n",
       "      <td>9</td>\n",
       "      <td>z</td>\n",
       "      <td>z</td>\n",
       "      <td>5</td>\n",
       "      <td>5</td>\n",
       "      <td>4.204693</td>\n",
       "    </tr>\n",
       "    <tr>\n",
       "      <th>3</th>\n",
       "      <td>4</td>\n",
       "      <td>34</td>\n",
       "      <td>ineur</td>\n",
       "      <td>16</td>\n",
       "      <td>i</td>\n",
       "      <td>16</td>\n",
       "      <td>z</td>\n",
       "      <td>z</td>\n",
       "      <td>5</td>\n",
       "      <td>5</td>\n",
       "      <td>3.526361</td>\n",
       "    </tr>\n",
       "    <tr>\n",
       "      <th>4</th>\n",
       "      <td>5</td>\n",
       "      <td>34</td>\n",
       "      <td>one</td>\n",
       "      <td>25</td>\n",
       "      <td>o</td>\n",
       "      <td>25</td>\n",
       "      <td>z</td>\n",
       "      <td>z</td>\n",
       "      <td>5</td>\n",
       "      <td>3</td>\n",
       "      <td>3.526361</td>\n",
       "    </tr>\n",
       "  </tbody>\n",
       "</table>\n",
       "</div>"
      ],
      "text/plain": [
       "   col1  col2    col3  col4 col5  col4_4 col6 col6_6  col7  col7_7      col8\n",
       "0     1    45  ritesh     1    r       1    r      r     5       6  3.806662\n",
       "1     2    56   kumar     4    k       4    z      z     5       5  4.025352\n",
       "2     3    67   nahak     9    n       9    z      z     5       5  4.204693\n",
       "3     4    34   ineur    16    i      16    z      z     5       5  3.526361\n",
       "4     5    34     one    25    o      25    z      z     5       3  3.526361"
      ]
     },
     "execution_count": 45,
     "metadata": {},
     "output_type": "execute_result"
    }
   ],
   "source": [
    "df"
   ]
  },
  {
   "cell_type": "code",
   "execution_count": 46,
   "id": "57c67c46",
   "metadata": {},
   "outputs": [],
   "source": [
    "# Creat a col6 and put value as r if value in col 5 is r else put z"
   ]
  },
  {
   "cell_type": "code",
   "execution_count": 20,
   "id": "8c476c00",
   "metadata": {},
   "outputs": [],
   "source": [
    "def test1(a):\n",
    "    if a == 'r':\n",
    "        return 'r'\n",
    "    else:\n",
    "        return 'z'"
   ]
  },
  {
   "cell_type": "code",
   "execution_count": 21,
   "id": "b9d6fcbe",
   "metadata": {},
   "outputs": [],
   "source": [
    "df['col6']=df['col5'].apply(test1)"
   ]
  },
  {
   "cell_type": "code",
   "execution_count": 22,
   "id": "74853889",
   "metadata": {},
   "outputs": [
    {
     "data": {
      "text/html": [
       "<div>\n",
       "<style scoped>\n",
       "    .dataframe tbody tr th:only-of-type {\n",
       "        vertical-align: middle;\n",
       "    }\n",
       "\n",
       "    .dataframe tbody tr th {\n",
       "        vertical-align: top;\n",
       "    }\n",
       "\n",
       "    .dataframe thead th {\n",
       "        text-align: right;\n",
       "    }\n",
       "</style>\n",
       "<table border=\"1\" class=\"dataframe\">\n",
       "  <thead>\n",
       "    <tr style=\"text-align: right;\">\n",
       "      <th></th>\n",
       "      <th>col1</th>\n",
       "      <th>col2</th>\n",
       "      <th>col3</th>\n",
       "      <th>col4</th>\n",
       "      <th>col5</th>\n",
       "      <th>col4_4</th>\n",
       "      <th>col6</th>\n",
       "    </tr>\n",
       "  </thead>\n",
       "  <tbody>\n",
       "    <tr>\n",
       "      <th>0</th>\n",
       "      <td>1</td>\n",
       "      <td>45</td>\n",
       "      <td>ritesh</td>\n",
       "      <td>1</td>\n",
       "      <td>r</td>\n",
       "      <td>1</td>\n",
       "      <td>r</td>\n",
       "    </tr>\n",
       "    <tr>\n",
       "      <th>1</th>\n",
       "      <td>2</td>\n",
       "      <td>56</td>\n",
       "      <td>kumar</td>\n",
       "      <td>4</td>\n",
       "      <td>k</td>\n",
       "      <td>4</td>\n",
       "      <td>z</td>\n",
       "    </tr>\n",
       "    <tr>\n",
       "      <th>2</th>\n",
       "      <td>3</td>\n",
       "      <td>67</td>\n",
       "      <td>nahak</td>\n",
       "      <td>9</td>\n",
       "      <td>n</td>\n",
       "      <td>9</td>\n",
       "      <td>z</td>\n",
       "    </tr>\n",
       "    <tr>\n",
       "      <th>3</th>\n",
       "      <td>4</td>\n",
       "      <td>34</td>\n",
       "      <td>ineur</td>\n",
       "      <td>16</td>\n",
       "      <td>i</td>\n",
       "      <td>16</td>\n",
       "      <td>z</td>\n",
       "    </tr>\n",
       "    <tr>\n",
       "      <th>4</th>\n",
       "      <td>5</td>\n",
       "      <td>34</td>\n",
       "      <td>one</td>\n",
       "      <td>25</td>\n",
       "      <td>o</td>\n",
       "      <td>25</td>\n",
       "      <td>z</td>\n",
       "    </tr>\n",
       "  </tbody>\n",
       "</table>\n",
       "</div>"
      ],
      "text/plain": [
       "   col1  col2    col3  col4 col5  col4_4 col6\n",
       "0     1    45  ritesh     1    r       1    r\n",
       "1     2    56   kumar     4    k       4    z\n",
       "2     3    67   nahak     9    n       9    z\n",
       "3     4    34   ineur    16    i      16    z\n",
       "4     5    34     one    25    o      25    z"
      ]
     },
     "execution_count": 22,
     "metadata": {},
     "output_type": "execute_result"
    }
   ],
   "source": [
    "df"
   ]
  },
  {
   "cell_type": "code",
   "execution_count": 47,
   "id": "f2816dcf",
   "metadata": {},
   "outputs": [],
   "source": [
    "# Creat a col6 and put value as r if value in col 5 is r else put z(instead of ourside function use lamda)"
   ]
  },
  {
   "cell_type": "code",
   "execution_count": 25,
   "id": "e4efc7d9",
   "metadata": {},
   "outputs": [],
   "source": [
    "df[\"col6_6\"]=df[\"col5\"].apply(lambda a:'r' if a == 'r' else 'z')"
   ]
  },
  {
   "cell_type": "code",
   "execution_count": 26,
   "id": "8aeb29ca",
   "metadata": {},
   "outputs": [
    {
     "data": {
      "text/html": [
       "<div>\n",
       "<style scoped>\n",
       "    .dataframe tbody tr th:only-of-type {\n",
       "        vertical-align: middle;\n",
       "    }\n",
       "\n",
       "    .dataframe tbody tr th {\n",
       "        vertical-align: top;\n",
       "    }\n",
       "\n",
       "    .dataframe thead th {\n",
       "        text-align: right;\n",
       "    }\n",
       "</style>\n",
       "<table border=\"1\" class=\"dataframe\">\n",
       "  <thead>\n",
       "    <tr style=\"text-align: right;\">\n",
       "      <th></th>\n",
       "      <th>col1</th>\n",
       "      <th>col2</th>\n",
       "      <th>col3</th>\n",
       "      <th>col4</th>\n",
       "      <th>col5</th>\n",
       "      <th>col4_4</th>\n",
       "      <th>col6</th>\n",
       "      <th>col6_6</th>\n",
       "    </tr>\n",
       "  </thead>\n",
       "  <tbody>\n",
       "    <tr>\n",
       "      <th>0</th>\n",
       "      <td>1</td>\n",
       "      <td>45</td>\n",
       "      <td>ritesh</td>\n",
       "      <td>1</td>\n",
       "      <td>r</td>\n",
       "      <td>1</td>\n",
       "      <td>r</td>\n",
       "      <td>r</td>\n",
       "    </tr>\n",
       "    <tr>\n",
       "      <th>1</th>\n",
       "      <td>2</td>\n",
       "      <td>56</td>\n",
       "      <td>kumar</td>\n",
       "      <td>4</td>\n",
       "      <td>k</td>\n",
       "      <td>4</td>\n",
       "      <td>z</td>\n",
       "      <td>z</td>\n",
       "    </tr>\n",
       "    <tr>\n",
       "      <th>2</th>\n",
       "      <td>3</td>\n",
       "      <td>67</td>\n",
       "      <td>nahak</td>\n",
       "      <td>9</td>\n",
       "      <td>n</td>\n",
       "      <td>9</td>\n",
       "      <td>z</td>\n",
       "      <td>z</td>\n",
       "    </tr>\n",
       "    <tr>\n",
       "      <th>3</th>\n",
       "      <td>4</td>\n",
       "      <td>34</td>\n",
       "      <td>ineur</td>\n",
       "      <td>16</td>\n",
       "      <td>i</td>\n",
       "      <td>16</td>\n",
       "      <td>z</td>\n",
       "      <td>z</td>\n",
       "    </tr>\n",
       "    <tr>\n",
       "      <th>4</th>\n",
       "      <td>5</td>\n",
       "      <td>34</td>\n",
       "      <td>one</td>\n",
       "      <td>25</td>\n",
       "      <td>o</td>\n",
       "      <td>25</td>\n",
       "      <td>z</td>\n",
       "      <td>z</td>\n",
       "    </tr>\n",
       "  </tbody>\n",
       "</table>\n",
       "</div>"
      ],
      "text/plain": [
       "   col1  col2    col3  col4 col5  col4_4 col6 col6_6\n",
       "0     1    45  ritesh     1    r       1    r      r\n",
       "1     2    56   kumar     4    k       4    z      z\n",
       "2     3    67   nahak     9    n       9    z      z\n",
       "3     4    34   ineur    16    i      16    z      z\n",
       "4     5    34     one    25    o      25    z      z"
      ]
     },
     "execution_count": 26,
     "metadata": {},
     "output_type": "execute_result"
    }
   ],
   "source": [
    "df"
   ]
  },
  {
   "cell_type": "code",
   "execution_count": null,
   "id": "e8471f84",
   "metadata": {},
   "outputs": [],
   "source": [
    "# Craet col7 which will store length of string of col3"
   ]
  },
  {
   "cell_type": "code",
   "execution_count": 48,
   "id": "d5871e0c",
   "metadata": {},
   "outputs": [],
   "source": [
    "df['col7']=len(df['col3'])   # This is wrong approach.."
   ]
  },
  {
   "cell_type": "code",
   "execution_count": 30,
   "id": "9944bb5b",
   "metadata": {},
   "outputs": [],
   "source": [
    "df['col7_7']=df['col3'].apply(len)"
   ]
  },
  {
   "cell_type": "code",
   "execution_count": 31,
   "id": "a19fee8c",
   "metadata": {},
   "outputs": [
    {
     "data": {
      "text/html": [
       "<div>\n",
       "<style scoped>\n",
       "    .dataframe tbody tr th:only-of-type {\n",
       "        vertical-align: middle;\n",
       "    }\n",
       "\n",
       "    .dataframe tbody tr th {\n",
       "        vertical-align: top;\n",
       "    }\n",
       "\n",
       "    .dataframe thead th {\n",
       "        text-align: right;\n",
       "    }\n",
       "</style>\n",
       "<table border=\"1\" class=\"dataframe\">\n",
       "  <thead>\n",
       "    <tr style=\"text-align: right;\">\n",
       "      <th></th>\n",
       "      <th>col1</th>\n",
       "      <th>col2</th>\n",
       "      <th>col3</th>\n",
       "      <th>col4</th>\n",
       "      <th>col5</th>\n",
       "      <th>col4_4</th>\n",
       "      <th>col6</th>\n",
       "      <th>col6_6</th>\n",
       "      <th>col7</th>\n",
       "      <th>col7_7</th>\n",
       "    </tr>\n",
       "  </thead>\n",
       "  <tbody>\n",
       "    <tr>\n",
       "      <th>0</th>\n",
       "      <td>1</td>\n",
       "      <td>45</td>\n",
       "      <td>ritesh</td>\n",
       "      <td>1</td>\n",
       "      <td>r</td>\n",
       "      <td>1</td>\n",
       "      <td>r</td>\n",
       "      <td>r</td>\n",
       "      <td>5</td>\n",
       "      <td>6</td>\n",
       "    </tr>\n",
       "    <tr>\n",
       "      <th>1</th>\n",
       "      <td>2</td>\n",
       "      <td>56</td>\n",
       "      <td>kumar</td>\n",
       "      <td>4</td>\n",
       "      <td>k</td>\n",
       "      <td>4</td>\n",
       "      <td>z</td>\n",
       "      <td>z</td>\n",
       "      <td>5</td>\n",
       "      <td>5</td>\n",
       "    </tr>\n",
       "    <tr>\n",
       "      <th>2</th>\n",
       "      <td>3</td>\n",
       "      <td>67</td>\n",
       "      <td>nahak</td>\n",
       "      <td>9</td>\n",
       "      <td>n</td>\n",
       "      <td>9</td>\n",
       "      <td>z</td>\n",
       "      <td>z</td>\n",
       "      <td>5</td>\n",
       "      <td>5</td>\n",
       "    </tr>\n",
       "    <tr>\n",
       "      <th>3</th>\n",
       "      <td>4</td>\n",
       "      <td>34</td>\n",
       "      <td>ineur</td>\n",
       "      <td>16</td>\n",
       "      <td>i</td>\n",
       "      <td>16</td>\n",
       "      <td>z</td>\n",
       "      <td>z</td>\n",
       "      <td>5</td>\n",
       "      <td>5</td>\n",
       "    </tr>\n",
       "    <tr>\n",
       "      <th>4</th>\n",
       "      <td>5</td>\n",
       "      <td>34</td>\n",
       "      <td>one</td>\n",
       "      <td>25</td>\n",
       "      <td>o</td>\n",
       "      <td>25</td>\n",
       "      <td>z</td>\n",
       "      <td>z</td>\n",
       "      <td>5</td>\n",
       "      <td>3</td>\n",
       "    </tr>\n",
       "  </tbody>\n",
       "</table>\n",
       "</div>"
      ],
      "text/plain": [
       "   col1  col2    col3  col4 col5  col4_4 col6 col6_6  col7  col7_7\n",
       "0     1    45  ritesh     1    r       1    r      r     5       6\n",
       "1     2    56   kumar     4    k       4    z      z     5       5\n",
       "2     3    67   nahak     9    n       9    z      z     5       5\n",
       "3     4    34   ineur    16    i      16    z      z     5       5\n",
       "4     5    34     one    25    o      25    z      z     5       3"
      ]
     },
     "execution_count": 31,
     "metadata": {},
     "output_type": "execute_result"
    }
   ],
   "source": [
    "df"
   ]
  },
  {
   "cell_type": "code",
   "execution_count": 36,
   "id": "942e2c5e",
   "metadata": {},
   "outputs": [],
   "source": [
    "# Craete col 8 which will hold log value of col2"
   ]
  },
  {
   "cell_type": "code",
   "execution_count": 37,
   "id": "ad13d932",
   "metadata": {},
   "outputs": [],
   "source": [
    "import math   # as math package in not available in python core"
   ]
  },
  {
   "cell_type": "code",
   "execution_count": 38,
   "id": "61140b74",
   "metadata": {},
   "outputs": [],
   "source": [
    "df['col8']=df['col2'].apply(math.log)"
   ]
  },
  {
   "cell_type": "code",
   "execution_count": 39,
   "id": "1e78d1a0",
   "metadata": {},
   "outputs": [
    {
     "data": {
      "text/html": [
       "<div>\n",
       "<style scoped>\n",
       "    .dataframe tbody tr th:only-of-type {\n",
       "        vertical-align: middle;\n",
       "    }\n",
       "\n",
       "    .dataframe tbody tr th {\n",
       "        vertical-align: top;\n",
       "    }\n",
       "\n",
       "    .dataframe thead th {\n",
       "        text-align: right;\n",
       "    }\n",
       "</style>\n",
       "<table border=\"1\" class=\"dataframe\">\n",
       "  <thead>\n",
       "    <tr style=\"text-align: right;\">\n",
       "      <th></th>\n",
       "      <th>col1</th>\n",
       "      <th>col2</th>\n",
       "      <th>col3</th>\n",
       "      <th>col4</th>\n",
       "      <th>col5</th>\n",
       "      <th>col4_4</th>\n",
       "      <th>col6</th>\n",
       "      <th>col6_6</th>\n",
       "      <th>col7</th>\n",
       "      <th>col7_7</th>\n",
       "      <th>col8</th>\n",
       "    </tr>\n",
       "  </thead>\n",
       "  <tbody>\n",
       "    <tr>\n",
       "      <th>0</th>\n",
       "      <td>1</td>\n",
       "      <td>45</td>\n",
       "      <td>ritesh</td>\n",
       "      <td>1</td>\n",
       "      <td>r</td>\n",
       "      <td>1</td>\n",
       "      <td>r</td>\n",
       "      <td>r</td>\n",
       "      <td>5</td>\n",
       "      <td>6</td>\n",
       "      <td>3.806662</td>\n",
       "    </tr>\n",
       "    <tr>\n",
       "      <th>1</th>\n",
       "      <td>2</td>\n",
       "      <td>56</td>\n",
       "      <td>kumar</td>\n",
       "      <td>4</td>\n",
       "      <td>k</td>\n",
       "      <td>4</td>\n",
       "      <td>z</td>\n",
       "      <td>z</td>\n",
       "      <td>5</td>\n",
       "      <td>5</td>\n",
       "      <td>4.025352</td>\n",
       "    </tr>\n",
       "    <tr>\n",
       "      <th>2</th>\n",
       "      <td>3</td>\n",
       "      <td>67</td>\n",
       "      <td>nahak</td>\n",
       "      <td>9</td>\n",
       "      <td>n</td>\n",
       "      <td>9</td>\n",
       "      <td>z</td>\n",
       "      <td>z</td>\n",
       "      <td>5</td>\n",
       "      <td>5</td>\n",
       "      <td>4.204693</td>\n",
       "    </tr>\n",
       "    <tr>\n",
       "      <th>3</th>\n",
       "      <td>4</td>\n",
       "      <td>34</td>\n",
       "      <td>ineur</td>\n",
       "      <td>16</td>\n",
       "      <td>i</td>\n",
       "      <td>16</td>\n",
       "      <td>z</td>\n",
       "      <td>z</td>\n",
       "      <td>5</td>\n",
       "      <td>5</td>\n",
       "      <td>3.526361</td>\n",
       "    </tr>\n",
       "    <tr>\n",
       "      <th>4</th>\n",
       "      <td>5</td>\n",
       "      <td>34</td>\n",
       "      <td>one</td>\n",
       "      <td>25</td>\n",
       "      <td>o</td>\n",
       "      <td>25</td>\n",
       "      <td>z</td>\n",
       "      <td>z</td>\n",
       "      <td>5</td>\n",
       "      <td>3</td>\n",
       "      <td>3.526361</td>\n",
       "    </tr>\n",
       "  </tbody>\n",
       "</table>\n",
       "</div>"
      ],
      "text/plain": [
       "   col1  col2    col3  col4 col5  col4_4 col6 col6_6  col7  col7_7      col8\n",
       "0     1    45  ritesh     1    r       1    r      r     5       6  3.806662\n",
       "1     2    56   kumar     4    k       4    z      z     5       5  4.025352\n",
       "2     3    67   nahak     9    n       9    z      z     5       5  4.204693\n",
       "3     4    34   ineur    16    i      16    z      z     5       5  3.526361\n",
       "4     5    34     one    25    o      25    z      z     5       3  3.526361"
      ]
     },
     "execution_count": 39,
     "metadata": {},
     "output_type": "execute_result"
    }
   ],
   "source": [
    "df"
   ]
  },
  {
   "cell_type": "code",
   "execution_count": 50,
   "id": "55e69a41",
   "metadata": {},
   "outputs": [],
   "source": [
    "# Lets learn NUMPY(numerical python)"
   ]
  },
  {
   "cell_type": "code",
   "execution_count": 51,
   "id": "46fa9db8",
   "metadata": {},
   "outputs": [],
   "source": [
    "import numpy as np"
   ]
  },
  {
   "cell_type": "code",
   "execution_count": 52,
   "id": "557478c7",
   "metadata": {},
   "outputs": [],
   "source": [
    "l=['ritu',2,4,5,6]"
   ]
  },
  {
   "cell_type": "code",
   "execution_count": 54,
   "id": "6dc44905",
   "metadata": {},
   "outputs": [
    {
     "data": {
      "text/plain": [
       "array(['ritu', '2', '4', '5', '6'], dtype='<U11')"
      ]
     },
     "execution_count": 54,
     "metadata": {},
     "output_type": "execute_result"
    }
   ],
   "source": [
    "np.array(l)   # pass list in aray"
   ]
  },
  {
   "cell_type": "code",
   "execution_count": 55,
   "id": "c34f22b9",
   "metadata": {},
   "outputs": [
    {
     "data": {
      "text/plain": [
       "numpy.ndarray"
      ]
     },
     "execution_count": 55,
     "metadata": {},
     "output_type": "execute_result"
    }
   ],
   "source": [
    "type(np.array(l))    #nd array = n dimension aray"
   ]
  },
  {
   "cell_type": "code",
   "execution_count": 56,
   "id": "8bfa4aa1",
   "metadata": {},
   "outputs": [
    {
     "data": {
      "text/plain": [
       "array([3., 4., 5., 6., 3.])"
      ]
     },
     "execution_count": 56,
     "metadata": {},
     "output_type": "execute_result"
    }
   ],
   "source": [
    "np.array([3,4,5,6,3.0])  # upcast all int to floating if one in floaing"
   ]
  },
  {
   "cell_type": "code",
   "execution_count": 59,
   "id": "da5ee073",
   "metadata": {},
   "outputs": [],
   "source": [
    "a=np.array([[1,2],[3,4]])"
   ]
  },
  {
   "cell_type": "code",
   "execution_count": 60,
   "id": "379b55a1",
   "metadata": {},
   "outputs": [
    {
     "data": {
      "text/plain": [
       "array([[1, 2],\n",
       "       [3, 4]])"
      ]
     },
     "execution_count": 60,
     "metadata": {},
     "output_type": "execute_result"
    }
   ],
   "source": [
    "a"
   ]
  },
  {
   "cell_type": "code",
   "execution_count": 61,
   "id": "d8aa919f",
   "metadata": {},
   "outputs": [],
   "source": [
    "# pull 4 out of a"
   ]
  },
  {
   "cell_type": "code",
   "execution_count": 62,
   "id": "c53a1ec2",
   "metadata": {},
   "outputs": [],
   "source": [
    "# 1 is available in 0th row and 0th column similarly 4 is available at 1st row and 1st column "
   ]
  },
  {
   "cell_type": "code",
   "execution_count": 63,
   "id": "df9a5720",
   "metadata": {},
   "outputs": [
    {
     "data": {
      "text/plain": [
       "4"
      ]
     },
     "execution_count": 63,
     "metadata": {},
     "output_type": "execute_result"
    }
   ],
   "source": [
    "a[1][1]"
   ]
  },
  {
   "cell_type": "code",
   "execution_count": 64,
   "id": "1f840fd1",
   "metadata": {},
   "outputs": [],
   "source": [
    "a1=np.array([3,4,5,6,3.0])"
   ]
  },
  {
   "cell_type": "code",
   "execution_count": 65,
   "id": "5fc3d896",
   "metadata": {},
   "outputs": [
    {
     "data": {
      "text/plain": [
       "4.0"
      ]
     },
     "execution_count": 65,
     "metadata": {},
     "output_type": "execute_result"
    }
   ],
   "source": [
    "a1[1]"
   ]
  },
  {
   "cell_type": "code",
   "execution_count": 68,
   "id": "1bd019f1",
   "metadata": {},
   "outputs": [
    {
     "data": {
      "text/plain": [
       "array([1, 2, 3, 4])"
      ]
     },
     "execution_count": 68,
     "metadata": {},
     "output_type": "execute_result"
    }
   ],
   "source": [
    "np.array([1,2,3,4],ndmin=1)"
   ]
  },
  {
   "cell_type": "code",
   "execution_count": 69,
   "id": "a57e9e10",
   "metadata": {},
   "outputs": [
    {
     "data": {
      "text/plain": [
       "array([[1, 2, 3, 4]])"
      ]
     },
     "execution_count": 69,
     "metadata": {},
     "output_type": "execute_result"
    }
   ],
   "source": [
    "np.array([1,2,3,4],ndmin=2)     # Two dimension array"
   ]
  },
  {
   "cell_type": "code",
   "execution_count": 70,
   "id": "dc0bc7ba",
   "metadata": {},
   "outputs": [
    {
     "data": {
      "text/plain": [
       "array([[[1, 2, 3, 4]]])"
      ]
     },
     "execution_count": 70,
     "metadata": {},
     "output_type": "execute_result"
    }
   ],
   "source": [
    "np.array([1,2,3,4],ndmin=3)   # Three dimension array"
   ]
  },
  {
   "cell_type": "code",
   "execution_count": 71,
   "id": "8efa5acb",
   "metadata": {},
   "outputs": [],
   "source": [
    "a2=np.array([1,2,3,4],ndmin=3)"
   ]
  },
  {
   "cell_type": "code",
   "execution_count": 75,
   "id": "c9c40962",
   "metadata": {},
   "outputs": [
    {
     "data": {
      "text/plain": [
       "1"
      ]
     },
     "execution_count": 75,
     "metadata": {},
     "output_type": "execute_result"
    }
   ],
   "source": [
    "a2[0][0][0]     # as array is 3d array so give index 3 times"
   ]
  },
  {
   "cell_type": "code",
   "execution_count": 76,
   "id": "1ed3a7a6",
   "metadata": {},
   "outputs": [
    {
     "data": {
      "text/plain": [
       "array([[1, 2],\n",
       "       [3, 4]])"
      ]
     },
     "execution_count": 76,
     "metadata": {},
     "output_type": "execute_result"
    }
   ],
   "source": [
    "a      # this is 2 dimension array"
   ]
  },
  {
   "cell_type": "code",
   "execution_count": 78,
   "id": "1612141b",
   "metadata": {},
   "outputs": [
    {
     "data": {
      "text/plain": [
       "array([1, 2, 3, 4, 5])"
      ]
     },
     "execution_count": 78,
     "metadata": {},
     "output_type": "execute_result"
    }
   ],
   "source": [
    "np.asarray([1,2,3,4,5])"
   ]
  },
  {
   "cell_type": "code",
   "execution_count": 79,
   "id": "524e4b2d",
   "metadata": {},
   "outputs": [
    {
     "data": {
      "text/plain": [
       "array([1, 2, 3, 4, 5])"
      ]
     },
     "execution_count": 79,
     "metadata": {},
     "output_type": "execute_result"
    }
   ],
   "source": [
    "np.asanyarray([1,2,3,4,5])"
   ]
  },
  {
   "cell_type": "code",
   "execution_count": 80,
   "id": "d510301f",
   "metadata": {},
   "outputs": [
    {
     "data": {
      "text/plain": [
       "matrix([[1, 2, 3, 4, 5]])"
      ]
     },
     "execution_count": 80,
     "metadata": {},
     "output_type": "execute_result"
    }
   ],
   "source": [
    "np.mat([1,2,3,4,5])     # at min matrix will give 2 dimension only not less than that but array can have zero,1,2,3....."
   ]
  },
  {
   "cell_type": "code",
   "execution_count": 81,
   "id": "ff1e6b3c",
   "metadata": {},
   "outputs": [],
   "source": [
    "a=[1,2,3,4,5]"
   ]
  },
  {
   "cell_type": "code",
   "execution_count": 82,
   "id": "e5a437ee",
   "metadata": {},
   "outputs": [
    {
     "data": {
      "text/plain": [
       "array([1, 2, 3, 4, 5])"
      ]
     },
     "execution_count": 82,
     "metadata": {},
     "output_type": "execute_result"
    }
   ],
   "source": [
    "np.asanyarray(a)   # Here asanyarray convert list to array"
   ]
  },
  {
   "cell_type": "code",
   "execution_count": 83,
   "id": "7771207f",
   "metadata": {},
   "outputs": [
    {
     "data": {
      "text/plain": [
       "matrix([[1, 2, 3, 4, 5]])"
      ]
     },
     "execution_count": 83,
     "metadata": {},
     "output_type": "execute_result"
    }
   ],
   "source": [
    "np.mat(a)   # matrix is subclass of array"
   ]
  },
  {
   "cell_type": "code",
   "execution_count": 85,
   "id": "16619836",
   "metadata": {},
   "outputs": [
    {
     "data": {
      "text/plain": [
       "matrix([[1, 2, 3, 4, 5]])"
      ]
     },
     "execution_count": 85,
     "metadata": {},
     "output_type": "execute_result"
    }
   ],
   "source": [
    "np.asanyarray(np.mat(a))    # Here asannyarray didnt covert matrix to array as asanyarray  first check whether somenthing is available in form of array \n",
    "# if not available in form of array then it wll convert .if available it wont convert to array."
   ]
  },
  {
   "cell_type": "code",
   "execution_count": 86,
   "id": "0029dc13",
   "metadata": {},
   "outputs": [
    {
     "data": {
      "text/plain": [
       "array([[ True, False, False],\n",
       "       [False,  True, False],\n",
       "       [False, False,  True]])"
      ]
     },
     "execution_count": 86,
     "metadata": {},
     "output_type": "execute_result"
    }
   ],
   "source": [
    "np.fromfunction(lambda i,j : i==j ,(3,3)) "
   ]
  },
  {
   "cell_type": "code",
   "execution_count": 87,
   "id": "dd5489e4",
   "metadata": {},
   "outputs": [
    {
     "data": {
      "text/plain": [
       "array([[0., 0., 0., 0.],\n",
       "       [0., 1., 2., 3.],\n",
       "       [0., 2., 4., 6.],\n",
       "       [0., 3., 6., 9.]])"
      ]
     },
     "execution_count": 87,
     "metadata": {},
     "output_type": "execute_result"
    }
   ],
   "source": [
    "np.fromfunction(lambda i,j : i*j,(4,4))"
   ]
  },
  {
   "cell_type": "code",
   "execution_count": 88,
   "id": "aaeea8b3",
   "metadata": {},
   "outputs": [
    {
     "data": {
      "text/plain": [
       "array([[0, 0, 0, 0],\n",
       "       [0, 1, 2, 3],\n",
       "       [0, 2, 4, 6],\n",
       "       [0, 3, 6, 9]])"
      ]
     },
     "execution_count": 88,
     "metadata": {},
     "output_type": "execute_result"
    }
   ],
   "source": [
    "np.fromfunction(lambda i,j : i*j,(4,4),dtype = int)"
   ]
  },
  {
   "cell_type": "code",
   "execution_count": 91,
   "id": "6858fb03",
   "metadata": {
    "scrolled": true
   },
   "outputs": [
    {
     "data": {
      "text/plain": [
       "array([[[ 0,  0,  0],\n",
       "        [ 0,  0,  0],\n",
       "        [ 0,  0,  0],\n",
       "        [ 0,  0,  0]],\n",
       "\n",
       "       [[ 0,  0,  0],\n",
       "        [ 0,  1,  2],\n",
       "        [ 0,  2,  4],\n",
       "        [ 0,  3,  6]],\n",
       "\n",
       "       [[ 0,  0,  0],\n",
       "        [ 0,  2,  4],\n",
       "        [ 0,  4,  8],\n",
       "        [ 0,  6, 12]],\n",
       "\n",
       "       [[ 0,  0,  0],\n",
       "        [ 0,  3,  6],\n",
       "        [ 0,  6, 12],\n",
       "        [ 0,  9, 18]],\n",
       "\n",
       "       [[ 0,  0,  0],\n",
       "        [ 0,  4,  8],\n",
       "        [ 0,  8, 16],\n",
       "        [ 0, 12, 24]]])"
      ]
     },
     "execution_count": 91,
     "metadata": {},
     "output_type": "execute_result"
    }
   ],
   "source": [
    "np.fromfunction(lambda i,j,k : i*j*k,(5,4,3),dtype = int)    # 3d matrix (3 array arranged in layer form)\n",
    "# (5,4,3) means we want 5 such matrixes of 4*3"
   ]
  },
  {
   "cell_type": "code",
   "execution_count": 93,
   "id": "bde8edce",
   "metadata": {
    "scrolled": true
   },
   "outputs": [
    {
     "data": {
      "text/plain": [
       "array([[[[0, 0],\n",
       "         [0, 0]],\n",
       "\n",
       "        [[0, 0],\n",
       "         [0, 0]],\n",
       "\n",
       "        [[0, 0],\n",
       "         [0, 0]]],\n",
       "\n",
       "\n",
       "       [[[0, 0],\n",
       "         [0, 0]],\n",
       "\n",
       "        [[0, 0],\n",
       "         [0, 1]],\n",
       "\n",
       "        [[0, 0],\n",
       "         [0, 2]]],\n",
       "\n",
       "\n",
       "       [[[0, 0],\n",
       "         [0, 0]],\n",
       "\n",
       "        [[0, 0],\n",
       "         [0, 2]],\n",
       "\n",
       "        [[0, 0],\n",
       "         [0, 4]]],\n",
       "\n",
       "\n",
       "       [[[0, 0],\n",
       "         [0, 0]],\n",
       "\n",
       "        [[0, 0],\n",
       "         [0, 3]],\n",
       "\n",
       "        [[0, 0],\n",
       "         [0, 6]]]])"
      ]
     },
     "execution_count": 93,
     "metadata": {},
     "output_type": "execute_result"
    }
   ],
   "source": [
    "np.fromfunction(lambda i,j,k,l : i*j*k*l,(4,3,2,2),dtype = int)\n",
    "#(4,3,2,2) means 2*2 array , 3 such array in one bundle ,4 such bundle "
   ]
  },
  {
   "cell_type": "code",
   "execution_count": 94,
   "id": "16d551e2",
   "metadata": {},
   "outputs": [],
   "source": [
    "a=np.fromfunction(lambda i,j,k : i*j*k,(5,4,3),dtype = int)"
   ]
  },
  {
   "cell_type": "code",
   "execution_count": 95,
   "id": "3aa6ce52",
   "metadata": {},
   "outputs": [
    {
     "data": {
      "text/plain": [
       "3"
      ]
     },
     "execution_count": 95,
     "metadata": {},
     "output_type": "execute_result"
    }
   ],
   "source": [
    "a.ndim  # tell it is 3d array"
   ]
  },
  {
   "cell_type": "code",
   "execution_count": 96,
   "id": "0590a1d2",
   "metadata": {},
   "outputs": [
    {
     "data": {
      "text/plain": [
       "60"
      ]
     },
     "execution_count": 96,
     "metadata": {},
     "output_type": "execute_result"
    }
   ],
   "source": [
    "a.size # total 60 element inside the array"
   ]
  },
  {
   "cell_type": "code",
   "execution_count": 97,
   "id": "51f0a4c7",
   "metadata": {},
   "outputs": [
    {
     "data": {
      "text/plain": [
       "(5, 4, 3)"
      ]
     },
     "execution_count": 97,
     "metadata": {},
     "output_type": "execute_result"
    }
   ],
   "source": [
    "a.shape"
   ]
  },
  {
   "cell_type": "code",
   "execution_count": 99,
   "id": "142e820e",
   "metadata": {},
   "outputs": [
    {
     "data": {
      "text/plain": [
       "dtype('int32')"
      ]
     },
     "execution_count": 99,
     "metadata": {},
     "output_type": "execute_result"
    }
   ],
   "source": [
    "a.dtype"
   ]
  },
  {
   "cell_type": "code",
   "execution_count": 100,
   "id": "6e886ceb",
   "metadata": {},
   "outputs": [],
   "source": [
    "# Covert array to dataframe"
   ]
  },
  {
   "cell_type": "code",
   "execution_count": 101,
   "id": "3e78f372",
   "metadata": {
    "scrolled": true
   },
   "outputs": [
    {
     "ename": "ValueError",
     "evalue": "Must pass 2-d input. shape=(5, 4, 3)",
     "output_type": "error",
     "traceback": [
      "\u001b[1;31m---------------------------------------------------------------------------\u001b[0m",
      "\u001b[1;31mValueError\u001b[0m                                Traceback (most recent call last)",
      "\u001b[1;32m~\\AppData\\Local\\Temp/ipykernel_9608/516763050.py\u001b[0m in \u001b[0;36m<module>\u001b[1;34m\u001b[0m\n\u001b[1;32m----> 1\u001b[1;33m \u001b[0mpd\u001b[0m\u001b[1;33m.\u001b[0m\u001b[0mDataFrame\u001b[0m\u001b[1;33m(\u001b[0m\u001b[0ma\u001b[0m\u001b[1;33m)\u001b[0m\u001b[1;33m\u001b[0m\u001b[1;33m\u001b[0m\u001b[0m\n\u001b[0m",
      "\u001b[1;32m~\\anaconda3\\lib\\site-packages\\pandas\\core\\frame.py\u001b[0m in \u001b[0;36m__init__\u001b[1;34m(self, data, index, columns, dtype, copy)\u001b[0m\n\u001b[0;32m    670\u001b[0m                 )\n\u001b[0;32m    671\u001b[0m             \u001b[1;32melse\u001b[0m\u001b[1;33m:\u001b[0m\u001b[1;33m\u001b[0m\u001b[1;33m\u001b[0m\u001b[0m\n\u001b[1;32m--> 672\u001b[1;33m                 mgr = ndarray_to_mgr(\n\u001b[0m\u001b[0;32m    673\u001b[0m                     \u001b[0mdata\u001b[0m\u001b[1;33m,\u001b[0m\u001b[1;33m\u001b[0m\u001b[1;33m\u001b[0m\u001b[0m\n\u001b[0;32m    674\u001b[0m                     \u001b[0mindex\u001b[0m\u001b[1;33m,\u001b[0m\u001b[1;33m\u001b[0m\u001b[1;33m\u001b[0m\u001b[0m\n",
      "\u001b[1;32m~\\anaconda3\\lib\\site-packages\\pandas\\core\\internals\\construction.py\u001b[0m in \u001b[0;36mndarray_to_mgr\u001b[1;34m(values, index, columns, dtype, copy, typ)\u001b[0m\n\u001b[0;32m    302\u001b[0m         \u001b[1;31m# by definition an array here\u001b[0m\u001b[1;33m\u001b[0m\u001b[1;33m\u001b[0m\u001b[0m\n\u001b[0;32m    303\u001b[0m         \u001b[1;31m# the dtypes will be coerced to a single dtype\u001b[0m\u001b[1;33m\u001b[0m\u001b[1;33m\u001b[0m\u001b[0m\n\u001b[1;32m--> 304\u001b[1;33m         \u001b[0mvalues\u001b[0m \u001b[1;33m=\u001b[0m \u001b[0m_prep_ndarray\u001b[0m\u001b[1;33m(\u001b[0m\u001b[0mvalues\u001b[0m\u001b[1;33m,\u001b[0m \u001b[0mcopy\u001b[0m\u001b[1;33m=\u001b[0m\u001b[0mcopy\u001b[0m\u001b[1;33m)\u001b[0m\u001b[1;33m\u001b[0m\u001b[1;33m\u001b[0m\u001b[0m\n\u001b[0m\u001b[0;32m    305\u001b[0m \u001b[1;33m\u001b[0m\u001b[0m\n\u001b[0;32m    306\u001b[0m     \u001b[1;32mif\u001b[0m \u001b[0mdtype\u001b[0m \u001b[1;32mis\u001b[0m \u001b[1;32mnot\u001b[0m \u001b[1;32mNone\u001b[0m \u001b[1;32mand\u001b[0m \u001b[1;32mnot\u001b[0m \u001b[0mis_dtype_equal\u001b[0m\u001b[1;33m(\u001b[0m\u001b[0mvalues\u001b[0m\u001b[1;33m.\u001b[0m\u001b[0mdtype\u001b[0m\u001b[1;33m,\u001b[0m \u001b[0mdtype\u001b[0m\u001b[1;33m)\u001b[0m\u001b[1;33m:\u001b[0m\u001b[1;33m\u001b[0m\u001b[1;33m\u001b[0m\u001b[0m\n",
      "\u001b[1;32m~\\anaconda3\\lib\\site-packages\\pandas\\core\\internals\\construction.py\u001b[0m in \u001b[0;36m_prep_ndarray\u001b[1;34m(values, copy)\u001b[0m\n\u001b[0;32m    553\u001b[0m         \u001b[0mvalues\u001b[0m \u001b[1;33m=\u001b[0m \u001b[0mvalues\u001b[0m\u001b[1;33m.\u001b[0m\u001b[0mreshape\u001b[0m\u001b[1;33m(\u001b[0m\u001b[1;33m(\u001b[0m\u001b[0mvalues\u001b[0m\u001b[1;33m.\u001b[0m\u001b[0mshape\u001b[0m\u001b[1;33m[\u001b[0m\u001b[1;36m0\u001b[0m\u001b[1;33m]\u001b[0m\u001b[1;33m,\u001b[0m \u001b[1;36m1\u001b[0m\u001b[1;33m)\u001b[0m\u001b[1;33m)\u001b[0m\u001b[1;33m\u001b[0m\u001b[1;33m\u001b[0m\u001b[0m\n\u001b[0;32m    554\u001b[0m     \u001b[1;32melif\u001b[0m \u001b[0mvalues\u001b[0m\u001b[1;33m.\u001b[0m\u001b[0mndim\u001b[0m \u001b[1;33m!=\u001b[0m \u001b[1;36m2\u001b[0m\u001b[1;33m:\u001b[0m\u001b[1;33m\u001b[0m\u001b[1;33m\u001b[0m\u001b[0m\n\u001b[1;32m--> 555\u001b[1;33m         \u001b[1;32mraise\u001b[0m \u001b[0mValueError\u001b[0m\u001b[1;33m(\u001b[0m\u001b[1;34mf\"Must pass 2-d input. shape={values.shape}\"\u001b[0m\u001b[1;33m)\u001b[0m\u001b[1;33m\u001b[0m\u001b[1;33m\u001b[0m\u001b[0m\n\u001b[0m\u001b[0;32m    556\u001b[0m \u001b[1;33m\u001b[0m\u001b[0m\n\u001b[0;32m    557\u001b[0m     \u001b[1;32mreturn\u001b[0m \u001b[0mvalues\u001b[0m\u001b[1;33m\u001b[0m\u001b[1;33m\u001b[0m\u001b[0m\n",
      "\u001b[1;31mValueError\u001b[0m: Must pass 2-d input. shape=(5, 4, 3)"
     ]
    }
   ],
   "source": [
    "pd.DataFrame(a)   # As dataframe is 2d array so u cant pass 3d,,,for 2d u can creat"
   ]
  },
  {
   "cell_type": "code",
   "execution_count": 102,
   "id": "df7355f0",
   "metadata": {},
   "outputs": [],
   "source": [
    "# Creat a dataframe of 200 row and 100 column logic of values  is i*j"
   ]
  },
  {
   "cell_type": "code",
   "execution_count": 107,
   "id": "5297a57b",
   "metadata": {},
   "outputs": [],
   "source": [
    "a=np.fromfunction(lambda i,j : i*j ,(200,100),dtype = int)"
   ]
  },
  {
   "cell_type": "code",
   "execution_count": 108,
   "id": "022efa09",
   "metadata": {},
   "outputs": [
    {
     "data": {
      "text/html": [
       "<div>\n",
       "<style scoped>\n",
       "    .dataframe tbody tr th:only-of-type {\n",
       "        vertical-align: middle;\n",
       "    }\n",
       "\n",
       "    .dataframe tbody tr th {\n",
       "        vertical-align: top;\n",
       "    }\n",
       "\n",
       "    .dataframe thead th {\n",
       "        text-align: right;\n",
       "    }\n",
       "</style>\n",
       "<table border=\"1\" class=\"dataframe\">\n",
       "  <thead>\n",
       "    <tr style=\"text-align: right;\">\n",
       "      <th></th>\n",
       "      <th>0</th>\n",
       "      <th>1</th>\n",
       "      <th>2</th>\n",
       "      <th>3</th>\n",
       "      <th>4</th>\n",
       "      <th>5</th>\n",
       "      <th>6</th>\n",
       "      <th>7</th>\n",
       "      <th>8</th>\n",
       "      <th>9</th>\n",
       "      <th>...</th>\n",
       "      <th>90</th>\n",
       "      <th>91</th>\n",
       "      <th>92</th>\n",
       "      <th>93</th>\n",
       "      <th>94</th>\n",
       "      <th>95</th>\n",
       "      <th>96</th>\n",
       "      <th>97</th>\n",
       "      <th>98</th>\n",
       "      <th>99</th>\n",
       "    </tr>\n",
       "  </thead>\n",
       "  <tbody>\n",
       "    <tr>\n",
       "      <th>0</th>\n",
       "      <td>0</td>\n",
       "      <td>0</td>\n",
       "      <td>0</td>\n",
       "      <td>0</td>\n",
       "      <td>0</td>\n",
       "      <td>0</td>\n",
       "      <td>0</td>\n",
       "      <td>0</td>\n",
       "      <td>0</td>\n",
       "      <td>0</td>\n",
       "      <td>...</td>\n",
       "      <td>0</td>\n",
       "      <td>0</td>\n",
       "      <td>0</td>\n",
       "      <td>0</td>\n",
       "      <td>0</td>\n",
       "      <td>0</td>\n",
       "      <td>0</td>\n",
       "      <td>0</td>\n",
       "      <td>0</td>\n",
       "      <td>0</td>\n",
       "    </tr>\n",
       "    <tr>\n",
       "      <th>1</th>\n",
       "      <td>0</td>\n",
       "      <td>1</td>\n",
       "      <td>2</td>\n",
       "      <td>3</td>\n",
       "      <td>4</td>\n",
       "      <td>5</td>\n",
       "      <td>6</td>\n",
       "      <td>7</td>\n",
       "      <td>8</td>\n",
       "      <td>9</td>\n",
       "      <td>...</td>\n",
       "      <td>90</td>\n",
       "      <td>91</td>\n",
       "      <td>92</td>\n",
       "      <td>93</td>\n",
       "      <td>94</td>\n",
       "      <td>95</td>\n",
       "      <td>96</td>\n",
       "      <td>97</td>\n",
       "      <td>98</td>\n",
       "      <td>99</td>\n",
       "    </tr>\n",
       "    <tr>\n",
       "      <th>2</th>\n",
       "      <td>0</td>\n",
       "      <td>2</td>\n",
       "      <td>4</td>\n",
       "      <td>6</td>\n",
       "      <td>8</td>\n",
       "      <td>10</td>\n",
       "      <td>12</td>\n",
       "      <td>14</td>\n",
       "      <td>16</td>\n",
       "      <td>18</td>\n",
       "      <td>...</td>\n",
       "      <td>180</td>\n",
       "      <td>182</td>\n",
       "      <td>184</td>\n",
       "      <td>186</td>\n",
       "      <td>188</td>\n",
       "      <td>190</td>\n",
       "      <td>192</td>\n",
       "      <td>194</td>\n",
       "      <td>196</td>\n",
       "      <td>198</td>\n",
       "    </tr>\n",
       "    <tr>\n",
       "      <th>3</th>\n",
       "      <td>0</td>\n",
       "      <td>3</td>\n",
       "      <td>6</td>\n",
       "      <td>9</td>\n",
       "      <td>12</td>\n",
       "      <td>15</td>\n",
       "      <td>18</td>\n",
       "      <td>21</td>\n",
       "      <td>24</td>\n",
       "      <td>27</td>\n",
       "      <td>...</td>\n",
       "      <td>270</td>\n",
       "      <td>273</td>\n",
       "      <td>276</td>\n",
       "      <td>279</td>\n",
       "      <td>282</td>\n",
       "      <td>285</td>\n",
       "      <td>288</td>\n",
       "      <td>291</td>\n",
       "      <td>294</td>\n",
       "      <td>297</td>\n",
       "    </tr>\n",
       "    <tr>\n",
       "      <th>4</th>\n",
       "      <td>0</td>\n",
       "      <td>4</td>\n",
       "      <td>8</td>\n",
       "      <td>12</td>\n",
       "      <td>16</td>\n",
       "      <td>20</td>\n",
       "      <td>24</td>\n",
       "      <td>28</td>\n",
       "      <td>32</td>\n",
       "      <td>36</td>\n",
       "      <td>...</td>\n",
       "      <td>360</td>\n",
       "      <td>364</td>\n",
       "      <td>368</td>\n",
       "      <td>372</td>\n",
       "      <td>376</td>\n",
       "      <td>380</td>\n",
       "      <td>384</td>\n",
       "      <td>388</td>\n",
       "      <td>392</td>\n",
       "      <td>396</td>\n",
       "    </tr>\n",
       "    <tr>\n",
       "      <th>...</th>\n",
       "      <td>...</td>\n",
       "      <td>...</td>\n",
       "      <td>...</td>\n",
       "      <td>...</td>\n",
       "      <td>...</td>\n",
       "      <td>...</td>\n",
       "      <td>...</td>\n",
       "      <td>...</td>\n",
       "      <td>...</td>\n",
       "      <td>...</td>\n",
       "      <td>...</td>\n",
       "      <td>...</td>\n",
       "      <td>...</td>\n",
       "      <td>...</td>\n",
       "      <td>...</td>\n",
       "      <td>...</td>\n",
       "      <td>...</td>\n",
       "      <td>...</td>\n",
       "      <td>...</td>\n",
       "      <td>...</td>\n",
       "      <td>...</td>\n",
       "    </tr>\n",
       "    <tr>\n",
       "      <th>195</th>\n",
       "      <td>0</td>\n",
       "      <td>195</td>\n",
       "      <td>390</td>\n",
       "      <td>585</td>\n",
       "      <td>780</td>\n",
       "      <td>975</td>\n",
       "      <td>1170</td>\n",
       "      <td>1365</td>\n",
       "      <td>1560</td>\n",
       "      <td>1755</td>\n",
       "      <td>...</td>\n",
       "      <td>17550</td>\n",
       "      <td>17745</td>\n",
       "      <td>17940</td>\n",
       "      <td>18135</td>\n",
       "      <td>18330</td>\n",
       "      <td>18525</td>\n",
       "      <td>18720</td>\n",
       "      <td>18915</td>\n",
       "      <td>19110</td>\n",
       "      <td>19305</td>\n",
       "    </tr>\n",
       "    <tr>\n",
       "      <th>196</th>\n",
       "      <td>0</td>\n",
       "      <td>196</td>\n",
       "      <td>392</td>\n",
       "      <td>588</td>\n",
       "      <td>784</td>\n",
       "      <td>980</td>\n",
       "      <td>1176</td>\n",
       "      <td>1372</td>\n",
       "      <td>1568</td>\n",
       "      <td>1764</td>\n",
       "      <td>...</td>\n",
       "      <td>17640</td>\n",
       "      <td>17836</td>\n",
       "      <td>18032</td>\n",
       "      <td>18228</td>\n",
       "      <td>18424</td>\n",
       "      <td>18620</td>\n",
       "      <td>18816</td>\n",
       "      <td>19012</td>\n",
       "      <td>19208</td>\n",
       "      <td>19404</td>\n",
       "    </tr>\n",
       "    <tr>\n",
       "      <th>197</th>\n",
       "      <td>0</td>\n",
       "      <td>197</td>\n",
       "      <td>394</td>\n",
       "      <td>591</td>\n",
       "      <td>788</td>\n",
       "      <td>985</td>\n",
       "      <td>1182</td>\n",
       "      <td>1379</td>\n",
       "      <td>1576</td>\n",
       "      <td>1773</td>\n",
       "      <td>...</td>\n",
       "      <td>17730</td>\n",
       "      <td>17927</td>\n",
       "      <td>18124</td>\n",
       "      <td>18321</td>\n",
       "      <td>18518</td>\n",
       "      <td>18715</td>\n",
       "      <td>18912</td>\n",
       "      <td>19109</td>\n",
       "      <td>19306</td>\n",
       "      <td>19503</td>\n",
       "    </tr>\n",
       "    <tr>\n",
       "      <th>198</th>\n",
       "      <td>0</td>\n",
       "      <td>198</td>\n",
       "      <td>396</td>\n",
       "      <td>594</td>\n",
       "      <td>792</td>\n",
       "      <td>990</td>\n",
       "      <td>1188</td>\n",
       "      <td>1386</td>\n",
       "      <td>1584</td>\n",
       "      <td>1782</td>\n",
       "      <td>...</td>\n",
       "      <td>17820</td>\n",
       "      <td>18018</td>\n",
       "      <td>18216</td>\n",
       "      <td>18414</td>\n",
       "      <td>18612</td>\n",
       "      <td>18810</td>\n",
       "      <td>19008</td>\n",
       "      <td>19206</td>\n",
       "      <td>19404</td>\n",
       "      <td>19602</td>\n",
       "    </tr>\n",
       "    <tr>\n",
       "      <th>199</th>\n",
       "      <td>0</td>\n",
       "      <td>199</td>\n",
       "      <td>398</td>\n",
       "      <td>597</td>\n",
       "      <td>796</td>\n",
       "      <td>995</td>\n",
       "      <td>1194</td>\n",
       "      <td>1393</td>\n",
       "      <td>1592</td>\n",
       "      <td>1791</td>\n",
       "      <td>...</td>\n",
       "      <td>17910</td>\n",
       "      <td>18109</td>\n",
       "      <td>18308</td>\n",
       "      <td>18507</td>\n",
       "      <td>18706</td>\n",
       "      <td>18905</td>\n",
       "      <td>19104</td>\n",
       "      <td>19303</td>\n",
       "      <td>19502</td>\n",
       "      <td>19701</td>\n",
       "    </tr>\n",
       "  </tbody>\n",
       "</table>\n",
       "<p>200 rows × 100 columns</p>\n",
       "</div>"
      ],
      "text/plain": [
       "     0    1    2    3    4    5     6     7     8     9   ...     90     91  \\\n",
       "0     0    0    0    0    0    0     0     0     0     0  ...      0      0   \n",
       "1     0    1    2    3    4    5     6     7     8     9  ...     90     91   \n",
       "2     0    2    4    6    8   10    12    14    16    18  ...    180    182   \n",
       "3     0    3    6    9   12   15    18    21    24    27  ...    270    273   \n",
       "4     0    4    8   12   16   20    24    28    32    36  ...    360    364   \n",
       "..   ..  ...  ...  ...  ...  ...   ...   ...   ...   ...  ...    ...    ...   \n",
       "195   0  195  390  585  780  975  1170  1365  1560  1755  ...  17550  17745   \n",
       "196   0  196  392  588  784  980  1176  1372  1568  1764  ...  17640  17836   \n",
       "197   0  197  394  591  788  985  1182  1379  1576  1773  ...  17730  17927   \n",
       "198   0  198  396  594  792  990  1188  1386  1584  1782  ...  17820  18018   \n",
       "199   0  199  398  597  796  995  1194  1393  1592  1791  ...  17910  18109   \n",
       "\n",
       "        92     93     94     95     96     97     98     99  \n",
       "0        0      0      0      0      0      0      0      0  \n",
       "1       92     93     94     95     96     97     98     99  \n",
       "2      184    186    188    190    192    194    196    198  \n",
       "3      276    279    282    285    288    291    294    297  \n",
       "4      368    372    376    380    384    388    392    396  \n",
       "..     ...    ...    ...    ...    ...    ...    ...    ...  \n",
       "195  17940  18135  18330  18525  18720  18915  19110  19305  \n",
       "196  18032  18228  18424  18620  18816  19012  19208  19404  \n",
       "197  18124  18321  18518  18715  18912  19109  19306  19503  \n",
       "198  18216  18414  18612  18810  19008  19206  19404  19602  \n",
       "199  18308  18507  18706  18905  19104  19303  19502  19701  \n",
       "\n",
       "[200 rows x 100 columns]"
      ]
     },
     "execution_count": 108,
     "metadata": {},
     "output_type": "execute_result"
    }
   ],
   "source": [
    "pd.DataFrame(a)"
   ]
  },
  {
   "cell_type": "code",
   "execution_count": null,
   "id": "88e6cc56",
   "metadata": {},
   "outputs": [],
   "source": [
    "## Random "
   ]
  },
  {
   "cell_type": "code",
   "execution_count": 109,
   "id": "26ac2257",
   "metadata": {
    "scrolled": true
   },
   "outputs": [
    {
     "data": {
      "text/plain": [
       "array([[8.34221914e-01, 2.98534250e-02, 7.82167860e-01, 7.89617585e-01],\n",
       "       [9.01250658e-01, 7.87954857e-02, 5.84720176e-01, 1.55363654e-01],\n",
       "       [9.81560048e-01, 2.35348298e-01, 8.24760491e-01, 9.55550549e-01],\n",
       "       [6.87968168e-01, 8.72269016e-01, 4.21881572e-01, 8.80949315e-01],\n",
       "       [3.46716368e-01, 1.90425565e-01, 1.19067819e-01, 6.67665454e-01],\n",
       "       [9.90263665e-01, 2.85301281e-02, 7.50397671e-01, 8.18583700e-01],\n",
       "       [3.11518354e-01, 5.23091961e-01, 4.70406677e-01, 5.53414239e-01],\n",
       "       [5.03260135e-01, 8.83394679e-01, 6.59995698e-02, 1.75250234e-01],\n",
       "       [1.08738770e-03, 8.47039114e-01, 6.84345231e-01, 7.26036290e-01],\n",
       "       [3.76827501e-01, 9.25040444e-01, 9.61819237e-01, 3.68682018e-01],\n",
       "       [5.51406475e-01, 3.82141851e-01, 4.49364976e-01, 8.80814618e-01],\n",
       "       [6.01214913e-01, 8.50728065e-01, 3.74260880e-01, 4.70768827e-01],\n",
       "       [8.11804191e-01, 2.86042768e-01, 8.60026060e-01, 3.20274321e-01],\n",
       "       [8.27485079e-01, 7.62085175e-01, 5.35127091e-01, 3.63744060e-01],\n",
       "       [1.44383802e-01, 4.81080714e-01, 1.85369588e-01, 6.36227197e-01],\n",
       "       [7.09481236e-01, 2.64791606e-01, 3.00154360e-01, 1.00256542e-01],\n",
       "       [1.02682486e-01, 3.29409245e-01, 1.98068250e-01, 8.92269998e-01],\n",
       "       [9.00012983e-01, 3.77740039e-01, 3.84650248e-01, 2.71809607e-01],\n",
       "       [2.55109558e-01, 9.61093998e-01, 4.19484791e-01, 7.41812748e-01],\n",
       "       [9.58348813e-01, 7.17275407e-01, 3.73918127e-01, 9.85350473e-01],\n",
       "       [5.15399160e-01, 9.78031019e-01, 5.14733278e-01, 7.24020976e-01],\n",
       "       [8.83691492e-01, 1.81290082e-01, 6.41409101e-01, 8.65062569e-02],\n",
       "       [1.26518226e-01, 6.91528970e-01, 1.69086200e-01, 7.94601417e-01],\n",
       "       [4.73969547e-01, 9.36812853e-01, 6.49265889e-01, 5.11433112e-03],\n",
       "       [6.66060887e-01, 7.60282780e-01, 9.43587898e-02, 9.24308551e-02],\n",
       "       [4.71475503e-01, 2.18933671e-01, 4.01646758e-01, 1.62815355e-01],\n",
       "       [5.38888845e-01, 7.68501147e-01, 8.19131852e-01, 3.10960722e-01],\n",
       "       [8.53672725e-01, 2.19307664e-01, 3.93965880e-02, 2.70339168e-01],\n",
       "       [2.80340347e-02, 6.91533785e-01, 4.76502968e-01, 6.88195470e-01],\n",
       "       [4.47334009e-01, 1.60457659e-01, 6.62725374e-01, 3.01906822e-01],\n",
       "       [4.53572006e-01, 7.70448660e-01, 3.07461270e-01, 4.10664995e-01],\n",
       "       [3.15951795e-01, 8.10798205e-01, 2.21854300e-01, 8.96241299e-01],\n",
       "       [4.55607785e-01, 5.15549914e-01, 3.27667624e-01, 8.71842584e-01],\n",
       "       [1.06835278e-02, 9.14788565e-01, 7.42646451e-01, 6.19239249e-01],\n",
       "       [1.17594841e-01, 1.65645128e-01, 8.27443284e-01, 7.05658300e-01],\n",
       "       [3.88091033e-01, 6.63332332e-01, 6.77829764e-01, 3.27808792e-01],\n",
       "       [7.74045817e-01, 1.80988607e-01, 7.96702696e-01, 7.80740956e-01],\n",
       "       [4.44103712e-01, 1.19266869e-01, 3.97040679e-01, 7.63940463e-01],\n",
       "       [9.27643768e-01, 8.25001723e-01, 5.20883516e-01, 5.02686033e-01],\n",
       "       [3.10028397e-01, 4.56644775e-01, 5.36866912e-01, 1.61384149e-01],\n",
       "       [7.80669778e-03, 5.25469231e-01, 1.10541016e-01, 8.13115992e-01],\n",
       "       [3.05548441e-02, 2.45095799e-01, 4.90516018e-01, 3.64027314e-01],\n",
       "       [8.12251941e-01, 3.39110050e-01, 3.04344809e-01, 6.22427035e-01],\n",
       "       [3.82542050e-01, 1.46926333e-01, 1.64158547e-01, 5.60242347e-01],\n",
       "       [6.20369721e-01, 2.07330363e-01, 6.58985434e-01, 4.95550898e-01],\n",
       "       [5.80832100e-01, 8.14671368e-01, 7.27058144e-01, 4.86224050e-01],\n",
       "       [2.07076263e-01, 2.44310951e-01, 2.54980008e-01, 8.85175615e-01],\n",
       "       [3.49592628e-01, 6.71862102e-02, 7.86965214e-01, 8.34005703e-01],\n",
       "       [8.97250422e-01, 1.08647291e-01, 8.21393619e-02, 9.96214507e-01],\n",
       "       [1.84366688e-01, 2.09079380e-01, 3.06131420e-01, 5.23337883e-02],\n",
       "       [2.87978674e-01, 3.32459036e-01, 9.62552545e-01, 6.47926391e-01],\n",
       "       [8.42446928e-01, 6.88962742e-01, 3.95389504e-01, 9.96074571e-01],\n",
       "       [4.84180793e-01, 8.42834081e-01, 3.66956717e-01, 3.82099307e-01],\n",
       "       [5.17035083e-01, 9.16856897e-01, 2.27443351e-01, 2.04196425e-01],\n",
       "       [3.67466219e-01, 8.49854795e-01, 2.02972727e-01, 1.18937562e-01],\n",
       "       [2.00987763e-01, 7.61886556e-01, 3.24500008e-01, 4.81179865e-01],\n",
       "       [2.26466612e-01, 8.61379727e-01, 5.95193330e-02, 2.99671235e-01],\n",
       "       [1.32468568e-01, 1.21315982e-01, 2.69911089e-02, 5.83079406e-01],\n",
       "       [1.87568987e-01, 9.87205934e-01, 4.32415282e-01, 1.95884399e-01],\n",
       "       [3.22356963e-01, 5.71118632e-01, 5.90282690e-01, 5.97493761e-01],\n",
       "       [8.90428363e-01, 3.16419829e-01, 4.83606703e-01, 8.45677366e-01],\n",
       "       [8.75228423e-01, 2.34447755e-01, 8.13516493e-01, 7.81761465e-01],\n",
       "       [5.83234911e-01, 6.42451759e-01, 6.11541506e-01, 8.14514636e-01],\n",
       "       [2.18878025e-01, 4.08082600e-01, 9.77795497e-01, 5.75514369e-01],\n",
       "       [1.45896287e-01, 1.73284238e-01, 2.21707562e-01, 3.73213507e-01],\n",
       "       [9.61798628e-01, 8.34446528e-01, 7.06716935e-01, 9.25838287e-01],\n",
       "       [1.38645925e-01, 8.94716855e-01, 1.05890400e-01, 1.72790950e-01],\n",
       "       [6.18688087e-02, 1.01182631e-01, 9.46424041e-01, 2.86505614e-01],\n",
       "       [1.08342731e-01, 8.73685429e-01, 5.23480235e-01, 5.88680978e-01],\n",
       "       [5.90868144e-01, 3.65042953e-01, 5.93332561e-02, 2.44771361e-01],\n",
       "       [6.24862261e-01, 4.80023691e-02, 8.22899099e-01, 4.50695570e-01],\n",
       "       [1.32318182e-01, 3.85443732e-01, 3.36228482e-01, 1.36465701e-01],\n",
       "       [1.00453680e-01, 5.25715153e-01, 6.04947451e-01, 8.48462159e-01],\n",
       "       [3.25547646e-01, 3.29440467e-01, 6.57099654e-01, 1.15859820e-02],\n",
       "       [7.34718984e-01, 3.36316254e-01, 8.64789695e-01, 1.21965558e-01],\n",
       "       [2.73512284e-01, 2.77637093e-01, 7.76215164e-01, 9.05717688e-01],\n",
       "       [9.76299228e-01, 7.16475921e-01, 3.26562129e-01, 9.03501198e-01],\n",
       "       [4.54325684e-01, 6.92416877e-02, 2.04872931e-01, 2.03083533e-01],\n",
       "       [1.27348947e-01, 8.19185799e-01, 2.38315684e-01, 6.34096762e-01],\n",
       "       [4.31573413e-01, 8.02903653e-01, 2.57110766e-01, 8.41389500e-01],\n",
       "       [1.58250805e-01, 1.36995387e-01, 4.52970370e-01, 7.37500368e-01],\n",
       "       [4.29134655e-01, 9.66696108e-01, 4.48976834e-01, 3.57437661e-01],\n",
       "       [6.94562139e-01, 3.08770706e-01, 2.26662629e-01, 9.03563057e-01],\n",
       "       [5.48469453e-01, 8.83003899e-01, 4.92495383e-01, 1.87263961e-01],\n",
       "       [4.04951371e-01, 6.75133350e-01, 3.50818262e-02, 7.45962060e-01],\n",
       "       [1.50475701e-01, 2.78201555e-05, 7.93676453e-01, 2.84027994e-01],\n",
       "       [4.64702227e-01, 4.21709529e-01, 4.06393399e-01, 3.67481301e-01],\n",
       "       [3.29230981e-01, 5.70884374e-01, 6.16628367e-01, 1.89767760e-01],\n",
       "       [3.24617693e-01, 2.05068920e-01, 8.27751189e-01, 5.45677477e-01],\n",
       "       [3.03152092e-01, 3.40808657e-01, 8.39038317e-01, 8.70806381e-01],\n",
       "       [4.39467491e-01, 8.17218695e-01, 2.11116831e-01, 3.93861167e-01],\n",
       "       [8.86658788e-01, 5.87013904e-01, 2.24809820e-01, 6.92653885e-01],\n",
       "       [6.12786685e-01, 2.69271747e-01, 9.85352154e-04, 6.94394914e-01],\n",
       "       [5.87613589e-01, 6.75877568e-01, 4.17117532e-02, 1.29279050e-01],\n",
       "       [9.14241124e-01, 9.78649493e-01, 2.00950043e-01, 2.30555173e-01],\n",
       "       [5.20148341e-01, 8.58673756e-01, 5.30501999e-01, 2.96373366e-01],\n",
       "       [8.47168916e-01, 6.72469572e-01, 2.17948368e-01, 8.96622646e-01],\n",
       "       [2.73177494e-01, 7.41602969e-01, 9.11951256e-01, 5.25941168e-01],\n",
       "       [4.13990556e-01, 8.37849842e-01, 2.29254418e-01, 8.24423763e-01],\n",
       "       [2.52228615e-01, 7.53026976e-01, 8.71197227e-01, 5.70948174e-01]])"
      ]
     },
     "execution_count": 109,
     "metadata": {},
     "output_type": "execute_result"
    }
   ],
   "source": [
    "np.random.rand(100,4)"
   ]
  },
  {
   "cell_type": "code",
   "execution_count": 111,
   "id": "ac9e9344",
   "metadata": {},
   "outputs": [
    {
     "data": {
      "text/plain": [
       "61"
      ]
     },
     "execution_count": 111,
     "metadata": {},
     "output_type": "execute_result"
    }
   ],
   "source": [
    "np.random.randint(4,100)   # it will generate random ineger for you"
   ]
  },
  {
   "cell_type": "code",
   "execution_count": 115,
   "id": "49e27474",
   "metadata": {
    "scrolled": true
   },
   "outputs": [
    {
     "data": {
      "text/plain": [
       "array([[-0.63317101, -1.69442384,  0.18720066,  3.16483762, -0.49729474],\n",
       "       [-0.12382513, -0.53891774, -0.37410302,  1.77991671,  0.19542961],\n",
       "       [ 0.87305562, -0.46997944,  0.68109043, -0.63781641, -0.72125728],\n",
       "       [-1.07098768,  1.46396224,  0.76546597,  0.37124763, -2.25643689]])"
      ]
     },
     "execution_count": 115,
     "metadata": {},
     "output_type": "execute_result"
    }
   ],
   "source": [
    "np.random.randn(4,5)"
   ]
  },
  {
   "cell_type": "code",
   "execution_count": 114,
   "id": "aec2004d",
   "metadata": {},
   "outputs": [],
   "source": [
    "# Difference between rand and randn\n",
    "#rand= will give random number \n",
    "#randn=will give random number but will have normal distribution(avg =0 and standard deviation =1)"
   ]
  },
  {
   "cell_type": "code",
   "execution_count": 116,
   "id": "a2e38e21",
   "metadata": {},
   "outputs": [
    {
     "data": {
      "text/html": [
       "<div>\n",
       "<style scoped>\n",
       "    .dataframe tbody tr th:only-of-type {\n",
       "        vertical-align: middle;\n",
       "    }\n",
       "\n",
       "    .dataframe tbody tr th {\n",
       "        vertical-align: top;\n",
       "    }\n",
       "\n",
       "    .dataframe thead th {\n",
       "        text-align: right;\n",
       "    }\n",
       "</style>\n",
       "<table border=\"1\" class=\"dataframe\">\n",
       "  <thead>\n",
       "    <tr style=\"text-align: right;\">\n",
       "      <th></th>\n",
       "      <th>0</th>\n",
       "      <th>1</th>\n",
       "      <th>2</th>\n",
       "      <th>3</th>\n",
       "      <th>4</th>\n",
       "    </tr>\n",
       "  </thead>\n",
       "  <tbody>\n",
       "    <tr>\n",
       "      <th>0</th>\n",
       "      <td>0.205607</td>\n",
       "      <td>0.507262</td>\n",
       "      <td>-0.331664</td>\n",
       "      <td>-0.640434</td>\n",
       "      <td>-1.062765</td>\n",
       "    </tr>\n",
       "    <tr>\n",
       "      <th>1</th>\n",
       "      <td>-0.355627</td>\n",
       "      <td>-0.575158</td>\n",
       "      <td>1.262409</td>\n",
       "      <td>-0.742441</td>\n",
       "      <td>0.256821</td>\n",
       "    </tr>\n",
       "    <tr>\n",
       "      <th>2</th>\n",
       "      <td>-0.883565</td>\n",
       "      <td>0.955084</td>\n",
       "      <td>1.077151</td>\n",
       "      <td>-0.426439</td>\n",
       "      <td>1.619205</td>\n",
       "    </tr>\n",
       "    <tr>\n",
       "      <th>3</th>\n",
       "      <td>-0.608516</td>\n",
       "      <td>-0.256053</td>\n",
       "      <td>-0.483957</td>\n",
       "      <td>-0.174999</td>\n",
       "      <td>0.835045</td>\n",
       "    </tr>\n",
       "  </tbody>\n",
       "</table>\n",
       "</div>"
      ],
      "text/plain": [
       "          0         1         2         3         4\n",
       "0  0.205607  0.507262 -0.331664 -0.640434 -1.062765\n",
       "1 -0.355627 -0.575158  1.262409 -0.742441  0.256821\n",
       "2 -0.883565  0.955084  1.077151 -0.426439  1.619205\n",
       "3 -0.608516 -0.256053 -0.483957 -0.174999  0.835045"
      ]
     },
     "execution_count": 116,
     "metadata": {},
     "output_type": "execute_result"
    }
   ],
   "source": [
    "pd.DataFrame(np.random.randn(4,5))"
   ]
  },
  {
   "cell_type": "code",
   "execution_count": null,
   "id": "cbe04fe0",
   "metadata": {},
   "outputs": [],
   "source": [
    "# Covert dimension from 3dto 2d to covet it to data frame"
   ]
  },
  {
   "cell_type": "code",
   "execution_count": 118,
   "id": "1582b378",
   "metadata": {},
   "outputs": [],
   "source": [
    "a=np.fromfunction(lambda i,j,k : i*j*k,(5,4,3),dtype = int)"
   ]
  },
  {
   "cell_type": "code",
   "execution_count": 119,
   "id": "fa0fa490",
   "metadata": {
    "scrolled": true
   },
   "outputs": [
    {
     "data": {
      "text/plain": [
       "array([[[ 0,  0,  0],\n",
       "        [ 0,  0,  0],\n",
       "        [ 0,  0,  0],\n",
       "        [ 0,  0,  0]],\n",
       "\n",
       "       [[ 0,  0,  0],\n",
       "        [ 0,  1,  2],\n",
       "        [ 0,  2,  4],\n",
       "        [ 0,  3,  6]],\n",
       "\n",
       "       [[ 0,  0,  0],\n",
       "        [ 0,  2,  4],\n",
       "        [ 0,  4,  8],\n",
       "        [ 0,  6, 12]],\n",
       "\n",
       "       [[ 0,  0,  0],\n",
       "        [ 0,  3,  6],\n",
       "        [ 0,  6, 12],\n",
       "        [ 0,  9, 18]],\n",
       "\n",
       "       [[ 0,  0,  0],\n",
       "        [ 0,  4,  8],\n",
       "        [ 0,  8, 16],\n",
       "        [ 0, 12, 24]]])"
      ]
     },
     "execution_count": 119,
     "metadata": {},
     "output_type": "execute_result"
    }
   ],
   "source": [
    "a"
   ]
  },
  {
   "cell_type": "code",
   "execution_count": 120,
   "id": "8b740dec",
   "metadata": {},
   "outputs": [
    {
     "data": {
      "text/plain": [
       "array([[ 0,  0,  0,  0,  0,  0],\n",
       "       [ 0,  0,  0,  0,  0,  0],\n",
       "       [ 0,  0,  0,  0,  1,  2],\n",
       "       [ 0,  2,  4,  0,  3,  6],\n",
       "       [ 0,  0,  0,  0,  2,  4],\n",
       "       [ 0,  4,  8,  0,  6, 12],\n",
       "       [ 0,  0,  0,  0,  3,  6],\n",
       "       [ 0,  6, 12,  0,  9, 18],\n",
       "       [ 0,  0,  0,  0,  4,  8],\n",
       "       [ 0,  8, 16,  0, 12, 24]])"
      ]
     },
     "execution_count": 120,
     "metadata": {},
     "output_type": "execute_result"
    }
   ],
   "source": [
    "a.reshape(10,6)\n",
    "# (5,4,3)=60 for make i*j =60 for 2d"
   ]
  },
  {
   "cell_type": "code",
   "execution_count": 122,
   "id": "b2e75d65",
   "metadata": {},
   "outputs": [
    {
     "data": {
      "text/html": [
       "<div>\n",
       "<style scoped>\n",
       "    .dataframe tbody tr th:only-of-type {\n",
       "        vertical-align: middle;\n",
       "    }\n",
       "\n",
       "    .dataframe tbody tr th {\n",
       "        vertical-align: top;\n",
       "    }\n",
       "\n",
       "    .dataframe thead th {\n",
       "        text-align: right;\n",
       "    }\n",
       "</style>\n",
       "<table border=\"1\" class=\"dataframe\">\n",
       "  <thead>\n",
       "    <tr style=\"text-align: right;\">\n",
       "      <th></th>\n",
       "      <th>0</th>\n",
       "      <th>1</th>\n",
       "      <th>2</th>\n",
       "      <th>3</th>\n",
       "      <th>4</th>\n",
       "      <th>5</th>\n",
       "    </tr>\n",
       "  </thead>\n",
       "  <tbody>\n",
       "    <tr>\n",
       "      <th>0</th>\n",
       "      <td>0</td>\n",
       "      <td>0</td>\n",
       "      <td>0</td>\n",
       "      <td>0</td>\n",
       "      <td>0</td>\n",
       "      <td>0</td>\n",
       "    </tr>\n",
       "    <tr>\n",
       "      <th>1</th>\n",
       "      <td>0</td>\n",
       "      <td>0</td>\n",
       "      <td>0</td>\n",
       "      <td>0</td>\n",
       "      <td>0</td>\n",
       "      <td>0</td>\n",
       "    </tr>\n",
       "    <tr>\n",
       "      <th>2</th>\n",
       "      <td>0</td>\n",
       "      <td>0</td>\n",
       "      <td>0</td>\n",
       "      <td>0</td>\n",
       "      <td>1</td>\n",
       "      <td>2</td>\n",
       "    </tr>\n",
       "    <tr>\n",
       "      <th>3</th>\n",
       "      <td>0</td>\n",
       "      <td>2</td>\n",
       "      <td>4</td>\n",
       "      <td>0</td>\n",
       "      <td>3</td>\n",
       "      <td>6</td>\n",
       "    </tr>\n",
       "    <tr>\n",
       "      <th>4</th>\n",
       "      <td>0</td>\n",
       "      <td>0</td>\n",
       "      <td>0</td>\n",
       "      <td>0</td>\n",
       "      <td>2</td>\n",
       "      <td>4</td>\n",
       "    </tr>\n",
       "    <tr>\n",
       "      <th>5</th>\n",
       "      <td>0</td>\n",
       "      <td>4</td>\n",
       "      <td>8</td>\n",
       "      <td>0</td>\n",
       "      <td>6</td>\n",
       "      <td>12</td>\n",
       "    </tr>\n",
       "    <tr>\n",
       "      <th>6</th>\n",
       "      <td>0</td>\n",
       "      <td>0</td>\n",
       "      <td>0</td>\n",
       "      <td>0</td>\n",
       "      <td>3</td>\n",
       "      <td>6</td>\n",
       "    </tr>\n",
       "    <tr>\n",
       "      <th>7</th>\n",
       "      <td>0</td>\n",
       "      <td>6</td>\n",
       "      <td>12</td>\n",
       "      <td>0</td>\n",
       "      <td>9</td>\n",
       "      <td>18</td>\n",
       "    </tr>\n",
       "    <tr>\n",
       "      <th>8</th>\n",
       "      <td>0</td>\n",
       "      <td>0</td>\n",
       "      <td>0</td>\n",
       "      <td>0</td>\n",
       "      <td>4</td>\n",
       "      <td>8</td>\n",
       "    </tr>\n",
       "    <tr>\n",
       "      <th>9</th>\n",
       "      <td>0</td>\n",
       "      <td>8</td>\n",
       "      <td>16</td>\n",
       "      <td>0</td>\n",
       "      <td>12</td>\n",
       "      <td>24</td>\n",
       "    </tr>\n",
       "  </tbody>\n",
       "</table>\n",
       "</div>"
      ],
      "text/plain": [
       "   0  1   2  3   4   5\n",
       "0  0  0   0  0   0   0\n",
       "1  0  0   0  0   0   0\n",
       "2  0  0   0  0   1   2\n",
       "3  0  2   4  0   3   6\n",
       "4  0  0   0  0   2   4\n",
       "5  0  4   8  0   6  12\n",
       "6  0  0   0  0   3   6\n",
       "7  0  6  12  0   9  18\n",
       "8  0  0   0  0   4   8\n",
       "9  0  8  16  0  12  24"
      ]
     },
     "execution_count": 122,
     "metadata": {},
     "output_type": "execute_result"
    }
   ],
   "source": [
    "pd.DataFrame(a.reshape(10,6))"
   ]
  },
  {
   "cell_type": "code",
   "execution_count": 123,
   "id": "f4a5c2db",
   "metadata": {},
   "outputs": [],
   "source": [
    "# 3d to 4d"
   ]
  },
  {
   "cell_type": "code",
   "execution_count": 124,
   "id": "890a4e5a",
   "metadata": {},
   "outputs": [],
   "source": [
    "a=np.fromfunction(lambda i,j,k : i*j*k,(5,4,3),dtype = int)"
   ]
  },
  {
   "cell_type": "code",
   "execution_count": 125,
   "id": "ba84a78a",
   "metadata": {
    "scrolled": false
   },
   "outputs": [
    {
     "data": {
      "text/plain": [
       "array([[[[ 0,  0,  0,  0,  0],\n",
       "         [ 0,  0,  0,  0,  0],\n",
       "         [ 0,  0,  0,  0,  0]],\n",
       "\n",
       "        [[ 0,  1,  2,  0,  2],\n",
       "         [ 4,  0,  3,  6,  0],\n",
       "         [ 0,  0,  0,  2,  4]]],\n",
       "\n",
       "\n",
       "       [[[ 0,  4,  8,  0,  6],\n",
       "         [12,  0,  0,  0,  0],\n",
       "         [ 3,  6,  0,  6, 12]],\n",
       "\n",
       "        [[ 0,  9, 18,  0,  0],\n",
       "         [ 0,  0,  4,  8,  0],\n",
       "         [ 8, 16,  0, 12, 24]]]])"
      ]
     },
     "execution_count": 125,
     "metadata": {},
     "output_type": "execute_result"
    }
   ],
   "source": [
    "a.reshape(2,2,3,5)"
   ]
  },
  {
   "cell_type": "code",
   "execution_count": 126,
   "id": "9f241e45",
   "metadata": {},
   "outputs": [
    {
     "data": {
      "text/plain": [
       "array([[ 0,  0,  0,  0,  0,  0,  0,  0,  0,  0,  0,  0,  0,  0,  0,  0,\n",
       "         1,  2,  0,  2,  4,  0,  3,  6,  0,  0,  0,  0,  2,  4],\n",
       "       [ 0,  4,  8,  0,  6, 12,  0,  0,  0,  0,  3,  6,  0,  6, 12,  0,\n",
       "         9, 18,  0,  0,  0,  0,  4,  8,  0,  8, 16,  0, 12, 24]])"
      ]
     },
     "execution_count": 126,
     "metadata": {},
     "output_type": "execute_result"
    }
   ],
   "source": [
    "a.reshape(2,-1)  # System will automatcally check 60= 2*(possible multiples)\n",
    "# you can take any negative number (-1 is not compulsion)"
   ]
  },
  {
   "cell_type": "code",
   "execution_count": 127,
   "id": "b0e1b140",
   "metadata": {},
   "outputs": [
    {
     "data": {
      "text/plain": [
       "[4, 6, 8]"
      ]
     },
     "execution_count": 127,
     "metadata": {},
     "output_type": "execute_result"
    }
   ],
   "source": [
    "list(range(4,10,2))"
   ]
  },
  {
   "cell_type": "code",
   "execution_count": 128,
   "id": "7f963a5d",
   "metadata": {},
   "outputs": [
    {
     "ename": "TypeError",
     "evalue": "'float' object cannot be interpreted as an integer",
     "output_type": "error",
     "traceback": [
      "\u001b[1;31m---------------------------------------------------------------------------\u001b[0m",
      "\u001b[1;31mTypeError\u001b[0m                                 Traceback (most recent call last)",
      "\u001b[1;32m~\\AppData\\Local\\Temp/ipykernel_9608/1161076697.py\u001b[0m in \u001b[0;36m<module>\u001b[1;34m\u001b[0m\n\u001b[1;32m----> 1\u001b[1;33m \u001b[0mlist\u001b[0m\u001b[1;33m(\u001b[0m\u001b[0mrange\u001b[0m\u001b[1;33m(\u001b[0m\u001b[1;36m4\u001b[0m\u001b[1;33m,\u001b[0m\u001b[1;36m10\u001b[0m\u001b[1;33m,\u001b[0m\u001b[1;36m0.2\u001b[0m\u001b[1;33m)\u001b[0m\u001b[1;33m)\u001b[0m\u001b[1;33m\u001b[0m\u001b[1;33m\u001b[0m\u001b[0m\n\u001b[0m",
      "\u001b[1;31mTypeError\u001b[0m: 'float' object cannot be interpreted as an integer"
     ]
    }
   ],
   "source": [
    "list(range(4,10,0.2))   # in range u cant use float value so use arange in numpy"
   ]
  },
  {
   "cell_type": "code",
   "execution_count": 131,
   "id": "ab8f201e",
   "metadata": {},
   "outputs": [
    {
     "data": {
      "text/plain": [
       "array([4. , 4.2, 4.4, 4.6, 4.8, 5. , 5.2, 5.4, 5.6, 5.8, 6. , 6.2, 6.4,\n",
       "       6.6, 6.8, 7. , 7.2, 7.4, 7.6, 7.8, 8. , 8.2, 8.4, 8.6, 8.8, 9. ,\n",
       "       9.2, 9.4, 9.6, 9.8])"
      ]
     },
     "execution_count": 131,
     "metadata": {},
     "output_type": "execute_result"
    }
   ],
   "source": [
    "np.arange(4,10,0.2)"
   ]
  },
  {
   "cell_type": "code",
   "execution_count": 132,
   "id": "04d715c4",
   "metadata": {},
   "outputs": [],
   "source": [
    "arr=np.random.rand(4,5)"
   ]
  },
  {
   "cell_type": "code",
   "execution_count": 133,
   "id": "0b48958d",
   "metadata": {},
   "outputs": [
    {
     "data": {
      "text/plain": [
       "array([[0.10284651, 0.35595883, 0.30208721, 0.94537594, 0.78616973],\n",
       "       [0.10447213, 0.52636108, 0.32227428, 0.87038677, 0.28786035],\n",
       "       [0.06579315, 0.96013943, 0.39448334, 0.3364112 , 0.67500948],\n",
       "       [0.85447018, 0.14019934, 0.53537148, 0.21002709, 0.50155894]])"
      ]
     },
     "execution_count": 133,
     "metadata": {},
     "output_type": "execute_result"
    }
   ],
   "source": [
    "arr"
   ]
  },
  {
   "cell_type": "code",
   "execution_count": 134,
   "id": "faa16d4c",
   "metadata": {},
   "outputs": [],
   "source": [
    "# extract all data whicle has value greater than 0.5"
   ]
  },
  {
   "cell_type": "code",
   "execution_count": 137,
   "id": "a1f822b3",
   "metadata": {},
   "outputs": [
    {
     "data": {
      "text/plain": [
       "array([0.94537594, 0.78616973, 0.52636108, 0.87038677, 0.96013943,\n",
       "       0.67500948, 0.85447018, 0.53537148, 0.50155894])"
      ]
     },
     "execution_count": 137,
     "metadata": {},
     "output_type": "execute_result"
    }
   ],
   "source": [
    "arr[arr>0.5]  # similar to pandas"
   ]
  },
  {
   "cell_type": "code",
   "execution_count": 143,
   "id": "c74f68ec",
   "metadata": {},
   "outputs": [
    {
     "data": {
      "text/plain": [
       "array([[0.10284651, 0.35595883, 0.30208721, 0.94537594, 0.78616973],\n",
       "       [0.10447213, 0.52636108, 0.32227428, 0.87038677, 0.28786035],\n",
       "       [0.06579315, 0.96013943, 0.39448334, 0.3364112 , 0.67500948],\n",
       "       [0.85447018, 0.14019934, 0.53537148, 0.21002709, 0.50155894]])"
      ]
     },
     "execution_count": 143,
     "metadata": {},
     "output_type": "execute_result"
    }
   ],
   "source": [
    "arr"
   ]
  },
  {
   "cell_type": "code",
   "execution_count": 144,
   "id": "cfceed5c",
   "metadata": {},
   "outputs": [
    {
     "data": {
      "text/plain": [
       "array([0.32227428, 0.39448334])"
      ]
     },
     "execution_count": 144,
     "metadata": {},
     "output_type": "execute_result"
    }
   ],
   "source": [
    "arr[[1,2],[2]]  # similar to pandas "
   ]
  },
  {
   "cell_type": "code",
   "execution_count": 145,
   "id": "81092909",
   "metadata": {},
   "outputs": [],
   "source": [
    "arr=np.random.rand(8,5)"
   ]
  },
  {
   "cell_type": "code",
   "execution_count": 146,
   "id": "52efc115",
   "metadata": {},
   "outputs": [
    {
     "data": {
      "text/plain": [
       "array([[0.23004552, 0.91623938, 0.21605439, 0.15816665, 0.96548792],\n",
       "       [0.99932324, 0.11083505, 0.14461143, 0.01435344, 0.98355499],\n",
       "       [0.39433329, 0.78051032, 0.28213476, 0.86418334, 0.68266963],\n",
       "       [0.00378116, 0.92008622, 0.85208946, 0.77844377, 0.06273544],\n",
       "       [0.13246443, 0.15954389, 0.48610808, 0.93628679, 0.64859827],\n",
       "       [0.74660062, 0.38486897, 0.00212645, 0.25122539, 0.7782427 ],\n",
       "       [0.69840749, 0.01850266, 0.87520604, 0.54451978, 0.53630694],\n",
       "       [0.25043334, 0.23967285, 0.38870113, 0.19695782, 0.52241339]])"
      ]
     },
     "execution_count": 146,
     "metadata": {},
     "output_type": "execute_result"
    }
   ],
   "source": [
    "arr"
   ]
  },
  {
   "cell_type": "code",
   "execution_count": 147,
   "id": "6d911022",
   "metadata": {},
   "outputs": [
    {
     "data": {
      "text/plain": [
       "array([[0.99932324, 0.11083505, 0.14461143],\n",
       "       [0.39433329, 0.78051032, 0.28213476],\n",
       "       [0.00378116, 0.92008622, 0.85208946],\n",
       "       [0.13246443, 0.15954389, 0.48610808],\n",
       "       [0.74660062, 0.38486897, 0.00212645],\n",
       "       [0.69840749, 0.01850266, 0.87520604],\n",
       "       [0.25043334, 0.23967285, 0.38870113]])"
      ]
     },
     "execution_count": 147,
     "metadata": {},
     "output_type": "execute_result"
    }
   ],
   "source": [
    "arr[1:8,0:3]   # 1 to 7 row and 0 to 2 column data"
   ]
  },
  {
   "cell_type": "code",
   "execution_count": 153,
   "id": "86a4901a",
   "metadata": {},
   "outputs": [],
   "source": [
    "a2=arr[1:8,[0,1,2]] "
   ]
  },
  {
   "cell_type": "code",
   "execution_count": 154,
   "id": "3cf2fd23",
   "metadata": {},
   "outputs": [
    {
     "data": {
      "text/plain": [
       "array([[0.99932324, 0.11083505, 0.14461143],\n",
       "       [0.39433329, 0.78051032, 0.28213476],\n",
       "       [0.00378116, 0.92008622, 0.85208946],\n",
       "       [0.13246443, 0.15954389, 0.48610808],\n",
       "       [0.74660062, 0.38486897, 0.00212645],\n",
       "       [0.69840749, 0.01850266, 0.87520604],\n",
       "       [0.25043334, 0.23967285, 0.38870113]])"
      ]
     },
     "execution_count": 154,
     "metadata": {},
     "output_type": "execute_result"
    }
   ],
   "source": [
    "a2"
   ]
  },
  {
   "cell_type": "code",
   "execution_count": 155,
   "id": "28e30ca6",
   "metadata": {},
   "outputs": [],
   "source": [
    "# replace first data with 1111"
   ]
  },
  {
   "cell_type": "code",
   "execution_count": 157,
   "id": "79a8b848",
   "metadata": {},
   "outputs": [],
   "source": [
    "a2[0][0] =1111"
   ]
  },
  {
   "cell_type": "code",
   "execution_count": 158,
   "id": "db59d4c7",
   "metadata": {},
   "outputs": [
    {
     "data": {
      "text/plain": [
       "array([[1.11100000e+03, 1.10835047e-01, 1.44611426e-01],\n",
       "       [3.94333291e-01, 7.80510317e-01, 2.82134760e-01],\n",
       "       [3.78115676e-03, 9.20086216e-01, 8.52089457e-01],\n",
       "       [1.32464429e-01, 1.59543888e-01, 4.86108078e-01],\n",
       "       [7.46600617e-01, 3.84868967e-01, 2.12644511e-03],\n",
       "       [6.98407493e-01, 1.85026558e-02, 8.75206039e-01],\n",
       "       [2.50433337e-01, 2.39672850e-01, 3.88701127e-01]])"
      ]
     },
     "execution_count": 158,
     "metadata": {},
     "output_type": "execute_result"
    }
   ],
   "source": [
    "a2"
   ]
  },
  {
   "cell_type": "code",
   "execution_count": 159,
   "id": "d817f4bb",
   "metadata": {},
   "outputs": [],
   "source": [
    "a=np.array([[1,2],[3,4]])\n",
    "b=np.array([[2,3],[4,5]])"
   ]
  },
  {
   "cell_type": "code",
   "execution_count": 161,
   "id": "267aa989",
   "metadata": {},
   "outputs": [
    {
     "data": {
      "text/plain": [
       "array([[1, 2],\n",
       "       [3, 4]])"
      ]
     },
     "execution_count": 161,
     "metadata": {},
     "output_type": "execute_result"
    }
   ],
   "source": [
    "a"
   ]
  },
  {
   "cell_type": "code",
   "execution_count": 162,
   "id": "edd19148",
   "metadata": {},
   "outputs": [
    {
     "data": {
      "text/plain": [
       "array([[2, 3],\n",
       "       [4, 5]])"
      ]
     },
     "execution_count": 162,
     "metadata": {},
     "output_type": "execute_result"
    }
   ],
   "source": [
    "b"
   ]
  },
  {
   "cell_type": "code",
   "execution_count": 160,
   "id": "7c7a90f4",
   "metadata": {},
   "outputs": [
    {
     "data": {
      "text/plain": [
       "array([[ 2,  6],\n",
       "       [12, 20]])"
      ]
     },
     "execution_count": 160,
     "metadata": {},
     "output_type": "execute_result"
    }
   ],
   "source": [
    "a*b # its not matrix multiplication its just a element multipliction"
   ]
  },
  {
   "cell_type": "code",
   "execution_count": 163,
   "id": "95d2e78e",
   "metadata": {},
   "outputs": [],
   "source": [
    "m=a*b"
   ]
  },
  {
   "cell_type": "code",
   "execution_count": 164,
   "id": "eef61808",
   "metadata": {},
   "outputs": [
    {
     "name": "stderr",
     "output_type": "stream",
     "text": [
      "C:\\Users\\dell\\AppData\\Local\\Temp/ipykernel_9608/3791875896.py:1: RuntimeWarning: divide by zero encountered in true_divide\n",
      "  m/0\n"
     ]
    },
    {
     "data": {
      "text/plain": [
       "array([[inf, inf],\n",
       "       [inf, inf]])"
      ]
     },
     "execution_count": 164,
     "metadata": {},
     "output_type": "execute_result"
    }
   ],
   "source": [
    "m/0   # in numpy u wont get zero division error lke core python, it will show inf"
   ]
  }
 ],
 "metadata": {
  "kernelspec": {
   "display_name": "Python 3 (ipykernel)",
   "language": "python",
   "name": "python3"
  },
  "language_info": {
   "codemirror_mode": {
    "name": "ipython",
    "version": 3
   },
   "file_extension": ".py",
   "mimetype": "text/x-python",
   "name": "python",
   "nbconvert_exporter": "python",
   "pygments_lexer": "ipython3",
   "version": "3.9.7"
  }
 },
 "nbformat": 4,
 "nbformat_minor": 5
}
