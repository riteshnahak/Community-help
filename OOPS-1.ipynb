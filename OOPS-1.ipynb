{
 "cells": [
  {
   "cell_type": "code",
   "execution_count": 5,
   "id": "946a6ef2",
   "metadata": {},
   "outputs": [],
   "source": [
    "class car:\n",
    "    def __init__(self,body_type,engine,fuel_type):\n",
    "        self.body_type=body_type\n",
    "        self.fuel_type=fuel_type\n",
    "        self.engine=engine\n",
    "    def test(self):\n",
    "        print('This is my first method in my car class')"
   ]
  },
  {
   "cell_type": "code",
   "execution_count": 6,
   "id": "cb33ccf3",
   "metadata": {},
   "outputs": [
    {
     "ename": "TypeError",
     "evalue": "__init__() missing 3 required positional arguments: 'body_type', 'engine', and 'fuel_type'",
     "output_type": "error",
     "traceback": [
      "\u001b[1;31m---------------------------------------------------------------------------\u001b[0m",
      "\u001b[1;31mTypeError\u001b[0m                                 Traceback (most recent call last)",
      "\u001b[1;32m~\\AppData\\Local\\Temp/ipykernel_2572/2512210626.py\u001b[0m in \u001b[0;36m<module>\u001b[1;34m\u001b[0m\n\u001b[1;32m----> 1\u001b[1;33m \u001b[0mfortuner\u001b[0m\u001b[1;33m=\u001b[0m\u001b[0mcar\u001b[0m\u001b[1;33m(\u001b[0m\u001b[1;33m)\u001b[0m\u001b[1;33m\u001b[0m\u001b[1;33m\u001b[0m\u001b[0m\n\u001b[0m",
      "\u001b[1;31mTypeError\u001b[0m: __init__() missing 3 required positional arguments: 'body_type', 'engine', and 'fuel_type'"
     ]
    }
   ],
   "source": [
    "fortuner=car()"
   ]
  },
  {
   "cell_type": "code",
   "execution_count": 7,
   "id": "4138f0d4",
   "metadata": {},
   "outputs": [],
   "source": [
    "fortuner=car('suv','disesl','bs4') ### fortuner is a variable/object of a car class"
   ]
  },
  {
   "cell_type": "code",
   "execution_count": 8,
   "id": "4b4d2eae",
   "metadata": {},
   "outputs": [],
   "source": [
    "nexon=car('suv','petrol','bs6')"
   ]
  },
  {
   "cell_type": "code",
   "execution_count": 9,
   "id": "288177a4",
   "metadata": {},
   "outputs": [
    {
     "data": {
      "text/plain": [
       "'suv'"
      ]
     },
     "execution_count": 9,
     "metadata": {},
     "output_type": "execute_result"
    }
   ],
   "source": [
    "fortuner.body_type "
   ]
  },
  {
   "cell_type": "markdown",
   "id": "fc178a2d",
   "metadata": {},
   "source": [
    "#### for above this wont call neither fortuner=car('suv','disesl','bs4') nor =body_type. this will call the class variable i.e self.body_type"
   ]
  },
  {
   "cell_type": "markdown",
   "id": "9eba00be",
   "metadata": {},
   "source": [
    "# Proof"
   ]
  },
  {
   "cell_type": "code",
   "execution_count": 10,
   "id": "34059feb",
   "metadata": {},
   "outputs": [],
   "source": [
    "class car:\n",
    "    def __init__(self,body_type,engine,fuel_type):\n",
    "        self.body_type1=body_type\n",
    "        self.fuel_type=fuel_type\n",
    "        self.engine=engine\n",
    "    def test(self):\n",
    "        print('This is my first method in my car class')"
   ]
  },
  {
   "cell_type": "code",
   "execution_count": 11,
   "id": "c10cc6f4",
   "metadata": {},
   "outputs": [],
   "source": [
    "fortuner=car('suv','disesl','bs4')"
   ]
  },
  {
   "cell_type": "code",
   "execution_count": 12,
   "id": "1dd2d4fd",
   "metadata": {
    "scrolled": true
   },
   "outputs": [
    {
     "ename": "AttributeError",
     "evalue": "'car' object has no attribute 'body_type'",
     "output_type": "error",
     "traceback": [
      "\u001b[1;31m---------------------------------------------------------------------------\u001b[0m",
      "\u001b[1;31mAttributeError\u001b[0m                            Traceback (most recent call last)",
      "\u001b[1;32m~\\AppData\\Local\\Temp/ipykernel_2572/3138332200.py\u001b[0m in \u001b[0;36m<module>\u001b[1;34m\u001b[0m\n\u001b[1;32m----> 1\u001b[1;33m \u001b[0mfortuner\u001b[0m\u001b[1;33m.\u001b[0m\u001b[0mbody_type\u001b[0m\u001b[1;33m\u001b[0m\u001b[1;33m\u001b[0m\u001b[0m\n\u001b[0m",
      "\u001b[1;31mAttributeError\u001b[0m: 'car' object has no attribute 'body_type'"
     ]
    }
   ],
   "source": [
    "fortuner.body_type"
   ]
  },
  {
   "cell_type": "code",
   "execution_count": 13,
   "id": "ba0cbb55",
   "metadata": {},
   "outputs": [
    {
     "data": {
      "text/plain": [
       "'suv'"
      ]
     },
     "execution_count": 13,
     "metadata": {},
     "output_type": "execute_result"
    }
   ],
   "source": [
    "fortuner.body_type1"
   ]
  },
  {
   "cell_type": "code",
   "execution_count": 14,
   "id": "4e5a79f5",
   "metadata": {},
   "outputs": [
    {
     "name": "stdout",
     "output_type": "stream",
     "text": [
      "This is my first method in my car class\n"
     ]
    }
   ],
   "source": [
    "fortuner.test()"
   ]
  },
  {
   "cell_type": "code",
   "execution_count": 15,
   "id": "2b596826",
   "metadata": {},
   "outputs": [],
   "source": [
    "### If  u dont want to pass data at the initiatilation of object u can avaoid using init...still u will get output."
   ]
  },
  {
   "cell_type": "code",
   "execution_count": 16,
   "id": "99baf0f1",
   "metadata": {},
   "outputs": [],
   "source": [
    "class car:\n",
    "    def test(self):\n",
    "        print('This is my first method in my car class')"
   ]
  },
  {
   "cell_type": "code",
   "execution_count": 17,
   "id": "769c6bc7",
   "metadata": {},
   "outputs": [],
   "source": [
    "x=car()   ### X is a object of car class ,It is not necessary to have a contructor to creat oject,without it also u can creat"
   ]
  },
  {
   "cell_type": "code",
   "execution_count": 18,
   "id": "48fc227f",
   "metadata": {},
   "outputs": [
    {
     "name": "stdout",
     "output_type": "stream",
     "text": [
      "<class '__main__.car'>\n"
     ]
    }
   ],
   "source": [
    "print(type(x))  ### main is superclass of all class."
   ]
  },
  {
   "cell_type": "code",
   "execution_count": 19,
   "id": "c14bb313",
   "metadata": {},
   "outputs": [
    {
     "name": "stdout",
     "output_type": "stream",
     "text": [
      "This is my first method in my car class\n"
     ]
    }
   ],
   "source": [
    "x.test()"
   ]
  },
  {
   "cell_type": "code",
   "execution_count": 20,
   "id": "82bde3df",
   "metadata": {},
   "outputs": [],
   "source": [
    "class car:\n",
    "    def test(self, a , b):\n",
    "        print('This is my first method in my car class')"
   ]
  },
  {
   "cell_type": "code",
   "execution_count": 21,
   "id": "39276cc6",
   "metadata": {},
   "outputs": [],
   "source": [
    "y=car()"
   ]
  },
  {
   "cell_type": "code",
   "execution_count": 22,
   "id": "77db039b",
   "metadata": {},
   "outputs": [
    {
     "ename": "TypeError",
     "evalue": "test() missing 2 required positional arguments: 'a' and 'b'",
     "output_type": "error",
     "traceback": [
      "\u001b[1;31m---------------------------------------------------------------------------\u001b[0m",
      "\u001b[1;31mTypeError\u001b[0m                                 Traceback (most recent call last)",
      "\u001b[1;32m~\\AppData\\Local\\Temp/ipykernel_2572/3940777788.py\u001b[0m in \u001b[0;36m<module>\u001b[1;34m\u001b[0m\n\u001b[1;32m----> 1\u001b[1;33m \u001b[0my\u001b[0m\u001b[1;33m.\u001b[0m\u001b[0mtest\u001b[0m\u001b[1;33m(\u001b[0m\u001b[1;33m)\u001b[0m\u001b[1;33m\u001b[0m\u001b[1;33m\u001b[0m\u001b[0m\n\u001b[0m",
      "\u001b[1;31mTypeError\u001b[0m: test() missing 2 required positional arguments: 'a' and 'b'"
     ]
    }
   ],
   "source": [
    "y.test()"
   ]
  },
  {
   "cell_type": "code",
   "execution_count": 23,
   "id": "919d5d31",
   "metadata": {},
   "outputs": [
    {
     "ename": "TypeError",
     "evalue": "test() takes 3 positional arguments but 4 were given",
     "output_type": "error",
     "traceback": [
      "\u001b[1;31m---------------------------------------------------------------------------\u001b[0m",
      "\u001b[1;31mTypeError\u001b[0m                                 Traceback (most recent call last)",
      "\u001b[1;32m~\\AppData\\Local\\Temp/ipykernel_2572/3080383687.py\u001b[0m in \u001b[0;36m<module>\u001b[1;34m\u001b[0m\n\u001b[1;32m----> 1\u001b[1;33m \u001b[0my\u001b[0m\u001b[1;33m.\u001b[0m\u001b[0mtest\u001b[0m\u001b[1;33m(\u001b[0m\u001b[1;36m2\u001b[0m\u001b[1;33m,\u001b[0m\u001b[1;36m4\u001b[0m\u001b[1;33m,\u001b[0m\u001b[1;36m5\u001b[0m\u001b[1;33m)\u001b[0m    \u001b[1;31m### As self is a pointer .\u001b[0m\u001b[1;33m\u001b[0m\u001b[1;33m\u001b[0m\u001b[0m\n\u001b[0m",
      "\u001b[1;31mTypeError\u001b[0m: test() takes 3 positional arguments but 4 were given"
     ]
    }
   ],
   "source": [
    "y.test(2,4,5)    ### As self is a pointer ."
   ]
  },
  {
   "cell_type": "code",
   "execution_count": 24,
   "id": "41ced4e8",
   "metadata": {},
   "outputs": [
    {
     "name": "stdout",
     "output_type": "stream",
     "text": [
      "This is my first method in my car class\n"
     ]
    }
   ],
   "source": [
    "y.test(4,5)"
   ]
  },
  {
   "cell_type": "code",
   "execution_count": 25,
   "id": "83d2e39c",
   "metadata": {},
   "outputs": [],
   "source": [
    "### take a list,tuple,dict ...pass a list and give me output"
   ]
  },
  {
   "cell_type": "code",
   "execution_count": 26,
   "id": "90f963e7",
   "metadata": {},
   "outputs": [],
   "source": [
    "class list_parser:\n",
    "    def parcer(self,a):\n",
    "        if type(a)==list:\n",
    "            for i in a:\n",
    "                print(i)"
   ]
  },
  {
   "cell_type": "code",
   "execution_count": 27,
   "id": "7f3135ab",
   "metadata": {},
   "outputs": [],
   "source": [
    "c=list_parser()   ### lets say i wnan create class object and call parcer from list_parser class "
   ]
  },
  {
   "cell_type": "code",
   "execution_count": 28,
   "id": "fc5c9a6c",
   "metadata": {},
   "outputs": [
    {
     "name": "stdout",
     "output_type": "stream",
     "text": [
      "1\n",
      "2\n",
      "3\n",
      "4\n",
      "5\n",
      "6\n"
     ]
    }
   ],
   "source": [
    "c.parcer([1,2,3,4,5,6])"
   ]
  },
  {
   "cell_type": "raw",
   "id": "370137a8",
   "metadata": {},
   "source": [
    "### Write 4 different methods in one class\n",
    "1-to extrect each data\n",
    "2-reverse a list\n",
    "3-print all the alternate element\n",
    "4-perform index "
   ]
  },
  {
   "cell_type": "code",
   "execution_count": 29,
   "id": "5560361a",
   "metadata": {},
   "outputs": [],
   "source": [
    "class list_parser:\n",
    "    def parcer(self,a):\n",
    "        if type(a)==list:\n",
    "            for i in a:\n",
    "                print(i)\n",
    "    def reverse_list(self,b):\n",
    "        if type(b)==list:\n",
    "            return b[::-1]\n",
    "    def index_list(self,c):\n",
    "        if type(c)==list:\n",
    "            for i in range(len(c)):\n",
    "                print('The index of ',i,'is',':',c[i])"
   ]
  },
  {
   "cell_type": "code",
   "execution_count": 30,
   "id": "7aa7a29e",
   "metadata": {},
   "outputs": [],
   "source": [
    "d=list_parser()"
   ]
  },
  {
   "cell_type": "code",
   "execution_count": 31,
   "id": "7dacc6b7",
   "metadata": {},
   "outputs": [
    {
     "name": "stdout",
     "output_type": "stream",
     "text": [
      "The index of  0 is : 1\n",
      "The index of  1 is : 2\n",
      "The index of  2 is : 3\n",
      "The index of  3 is : 4\n",
      "The index of  4 is : 5\n"
     ]
    }
   ],
   "source": [
    "d.index_list([1,2,3,4,5])"
   ]
  },
  {
   "cell_type": "code",
   "execution_count": 32,
   "id": "96cffa6a",
   "metadata": {},
   "outputs": [
    {
     "data": {
      "text/plain": [
       "[5, 4, 3, 2, 1]"
      ]
     },
     "execution_count": 32,
     "metadata": {},
     "output_type": "execute_result"
    }
   ],
   "source": [
    "d.reverse_list([1,2,3,4,5])"
   ]
  },
  {
   "cell_type": "markdown",
   "id": "66534373",
   "metadata": {},
   "source": [
    "#### Lets say i wana pass only one value [1,2,3,4,5] to all method....for this use constructor(init) to pass data directly to class"
   ]
  },
  {
   "cell_type": "code",
   "execution_count": 33,
   "id": "5cf52998",
   "metadata": {},
   "outputs": [],
   "source": [
    "class list_parser:\n",
    "    def __init__(self,l):\n",
    "        self.l=l\n",
    "    def parcer(self):\n",
    "        if type(self.l)==list:\n",
    "            for i in self.l:\n",
    "                print(i)\n",
    "    def reverse_list(self):\n",
    "        if type(self.l)==list:\n",
    "            return self.l [::-1]\n",
    "    def index_list(self):\n",
    "        if type(self.l)==list:\n",
    "            for i in range(len(self.l)):\n",
    "                print('The index of ',i,'is',':',self.l[i])"
   ]
  },
  {
   "cell_type": "code",
   "execution_count": 34,
   "id": "63a8275d",
   "metadata": {},
   "outputs": [],
   "source": [
    "c=list_parser([2,3,4,5,7])"
   ]
  },
  {
   "cell_type": "code",
   "execution_count": 35,
   "id": "6e848220",
   "metadata": {},
   "outputs": [
    {
     "name": "stdout",
     "output_type": "stream",
     "text": [
      "2\n",
      "3\n",
      "4\n",
      "5\n",
      "7\n"
     ]
    }
   ],
   "source": [
    "c.parcer()"
   ]
  },
  {
   "cell_type": "code",
   "execution_count": 36,
   "id": "33016a9a",
   "metadata": {},
   "outputs": [
    {
     "name": "stdout",
     "output_type": "stream",
     "text": [
      "The index of  0 is : 2\n",
      "The index of  1 is : 3\n",
      "The index of  2 is : 4\n",
      "The index of  3 is : 5\n",
      "The index of  4 is : 7\n"
     ]
    }
   ],
   "source": [
    "c.index_list()"
   ]
  },
  {
   "cell_type": "code",
   "execution_count": 37,
   "id": "8336305e",
   "metadata": {},
   "outputs": [
    {
     "data": {
      "text/plain": [
       "[7, 5, 4, 3, 2]"
      ]
     },
     "execution_count": 37,
     "metadata": {},
     "output_type": "execute_result"
    }
   ],
   "source": [
    "c.reverse_list()"
   ]
  },
  {
   "cell_type": "raw",
   "id": "c85796ff",
   "metadata": {},
   "source": [
    "# PS= Creat a class for dictionary parsing\n",
    "1-Write a function to give all the keys\n",
    "2-Write a function to give all the keys\n",
    "3-Write afyunction to throw error if incase input is not dictionary\n",
    "4-Write a function to take user input then phrase a key and value out of dictionary\n",
    "5-write a function to inert new key value pair into dictionary."
   ]
  },
  {
   "cell_type": "code",
   "execution_count": 38,
   "id": "df1e74b7",
   "metadata": {},
   "outputs": [],
   "source": [
    "class dict_parsing:\n",
    "    def __init__(self,d):\n",
    "        self.d=d\n",
    "    def getkeys(self):\n",
    "        if type(self.d) == dict:\n",
    "            return list(self.d.keys())\n",
    "    def getpairs(self):\n",
    "        if type(self.d) == dict:\n",
    "            return list(self.d.keys())\n",
    "    def error_input(self):\n",
    "        if type(self.d)!=dict:\n",
    "            print('Please enter a dictionary')\n",
    "    def user_input(a):\n",
    "        a=input('Enter key value pair')\n",
    "        if type(a)==dict:\n",
    "            print('The key values are ',':',a.keys())\n",
    "            print('The value pairs are ',':',a.values())"
   ]
  },
  {
   "cell_type": "code",
   "execution_count": 39,
   "id": "e5a7275e",
   "metadata": {},
   "outputs": [
    {
     "ename": "AttributeError",
     "evalue": "'dict' object has no attribute 'd'",
     "output_type": "error",
     "traceback": [
      "\u001b[1;31m---------------------------------------------------------------------------\u001b[0m",
      "\u001b[1;31mAttributeError\u001b[0m                            Traceback (most recent call last)",
      "\u001b[1;32m~\\AppData\\Local\\Temp/ipykernel_2572/1805482769.py\u001b[0m in \u001b[0;36m<module>\u001b[1;34m\u001b[0m\n\u001b[1;32m----> 1\u001b[1;33m \u001b[0mdict_parsing\u001b[0m\u001b[1;33m.\u001b[0m\u001b[0mgetkeys\u001b[0m\u001b[1;33m(\u001b[0m\u001b[1;33m{\u001b[0m\u001b[1;34m'Name'\u001b[0m\u001b[1;33m:\u001b[0m\u001b[1;34m'Ritesh'\u001b[0m\u001b[1;33m,\u001b[0m\u001b[1;34m'Age'\u001b[0m\u001b[1;33m:\u001b[0m\u001b[1;36m25\u001b[0m\u001b[1;33m}\u001b[0m\u001b[1;33m)\u001b[0m\u001b[1;33m\u001b[0m\u001b[1;33m\u001b[0m\u001b[0m\n\u001b[0m",
      "\u001b[1;32m~\\AppData\\Local\\Temp/ipykernel_2572/3666552901.py\u001b[0m in \u001b[0;36mgetkeys\u001b[1;34m(self)\u001b[0m\n\u001b[0;32m      3\u001b[0m         \u001b[0mself\u001b[0m\u001b[1;33m.\u001b[0m\u001b[0md\u001b[0m\u001b[1;33m=\u001b[0m\u001b[0md\u001b[0m\u001b[1;33m\u001b[0m\u001b[1;33m\u001b[0m\u001b[0m\n\u001b[0;32m      4\u001b[0m     \u001b[1;32mdef\u001b[0m \u001b[0mgetkeys\u001b[0m\u001b[1;33m(\u001b[0m\u001b[0mself\u001b[0m\u001b[1;33m)\u001b[0m\u001b[1;33m:\u001b[0m\u001b[1;33m\u001b[0m\u001b[1;33m\u001b[0m\u001b[0m\n\u001b[1;32m----> 5\u001b[1;33m         \u001b[1;32mif\u001b[0m \u001b[0mtype\u001b[0m\u001b[1;33m(\u001b[0m\u001b[0mself\u001b[0m\u001b[1;33m.\u001b[0m\u001b[0md\u001b[0m\u001b[1;33m)\u001b[0m \u001b[1;33m==\u001b[0m \u001b[0mdict\u001b[0m\u001b[1;33m:\u001b[0m\u001b[1;33m\u001b[0m\u001b[1;33m\u001b[0m\u001b[0m\n\u001b[0m\u001b[0;32m      6\u001b[0m             \u001b[1;32mreturn\u001b[0m \u001b[0mlist\u001b[0m\u001b[1;33m(\u001b[0m\u001b[0mself\u001b[0m\u001b[1;33m.\u001b[0m\u001b[0md\u001b[0m\u001b[1;33m.\u001b[0m\u001b[0mkeys\u001b[0m\u001b[1;33m(\u001b[0m\u001b[1;33m)\u001b[0m\u001b[1;33m)\u001b[0m\u001b[1;33m\u001b[0m\u001b[1;33m\u001b[0m\u001b[0m\n\u001b[0;32m      7\u001b[0m     \u001b[1;32mdef\u001b[0m \u001b[0mgetpairs\u001b[0m\u001b[1;33m(\u001b[0m\u001b[0mself\u001b[0m\u001b[1;33m)\u001b[0m\u001b[1;33m:\u001b[0m\u001b[1;33m\u001b[0m\u001b[1;33m\u001b[0m\u001b[0m\n",
      "\u001b[1;31mAttributeError\u001b[0m: 'dict' object has no attribute 'd'"
     ]
    }
   ],
   "source": [
    "dict_parsing.getkeys({'Name':'Ritesh','Age':25})"
   ]
  },
  {
   "cell_type": "code",
   "execution_count": 49,
   "id": "744bfa12",
   "metadata": {},
   "outputs": [],
   "source": [
    "class dict_parsing1:\n",
    "    def __init__(self,d):\n",
    "        self.d=d\n",
    "    def getkeys(self):\n",
    "        if self.notdict():\n",
    "            return list(self.d.keys())\n",
    "    def getvalues(self):\n",
    "        if self.notdict():\n",
    "            return list(self.d.values())\n",
    "    def notdict(self):\n",
    "        if type(self.d)!=dict:\n",
    "            raise Exception(self.d,'is not a dictionary')\n",
    "        return 1\n",
    "    def user_input(self):\n",
    "        self.d = eval(input())\n",
    "        print(self.d,type(self.d))\n",
    "        print(self.getkeys())\n",
    "        print(self.getvalues())\n",
    "    def insertion(self,k,v):\n",
    "           self.d[k]=v"
   ]
  },
  {
   "cell_type": "code",
   "execution_count": 50,
   "id": "5a77720c",
   "metadata": {},
   "outputs": [],
   "source": [
    "c=dict_parsing1({'k1':'ritu','k2':25})"
   ]
  },
  {
   "cell_type": "code",
   "execution_count": 51,
   "id": "27162556",
   "metadata": {},
   "outputs": [
    {
     "data": {
      "text/plain": [
       "['k1', 'k2']"
      ]
     },
     "execution_count": 51,
     "metadata": {},
     "output_type": "execute_result"
    }
   ],
   "source": [
    "c.getkeys()"
   ]
  },
  {
   "cell_type": "code",
   "execution_count": 52,
   "id": "de7d0590",
   "metadata": {},
   "outputs": [
    {
     "data": {
      "text/plain": [
       "['ritu', 25]"
      ]
     },
     "execution_count": 52,
     "metadata": {},
     "output_type": "execute_result"
    }
   ],
   "source": [
    "c.getvalues()"
   ]
  },
  {
   "cell_type": "code",
   "execution_count": 53,
   "id": "9fb68e14",
   "metadata": {},
   "outputs": [
    {
     "data": {
      "text/plain": [
       "1"
      ]
     },
     "execution_count": 53,
     "metadata": {},
     "output_type": "execute_result"
    }
   ],
   "source": [
    "c.notdict()"
   ]
  },
  {
   "cell_type": "code",
   "execution_count": 54,
   "id": "791c0499",
   "metadata": {},
   "outputs": [
    {
     "name": "stdout",
     "output_type": "stream",
     "text": [
      "{'k1':'ritesh'}\n",
      "{'k1': 'ritesh'} <class 'dict'>\n",
      "['k1']\n",
      "['ritesh']\n"
     ]
    }
   ],
   "source": [
    "c.user_input()"
   ]
  },
  {
   "cell_type": "code",
   "execution_count": 47,
   "id": "a4304055",
   "metadata": {},
   "outputs": [],
   "source": [
    "c.insertion('key',[12,4,5])"
   ]
  },
  {
   "cell_type": "code",
   "execution_count": 55,
   "id": "5dd4f620",
   "metadata": {},
   "outputs": [],
   "source": [
    "### If i recall c. in another kernel it will show error...SO use previous concept modulue and packages"
   ]
  },
  {
   "cell_type": "code",
   "execution_count": 56,
   "id": "27cfac8b",
   "metadata": {},
   "outputs": [
    {
     "data": {
      "text/plain": [
       "<_io.TextIOWrapper name='mydict.py' mode='w' encoding='cp1252'>"
      ]
     },
     "execution_count": 56,
     "metadata": {},
     "output_type": "execute_result"
    }
   ],
   "source": [
    "open('mydict.py','w')"
   ]
  },
  {
   "cell_type": "code",
   "execution_count": 57,
   "id": "63792524",
   "metadata": {
    "scrolled": true
   },
   "outputs": [
    {
     "name": "stdout",
     "output_type": "stream",
     "text": [
      " Volume in drive C has no label.\n",
      " Volume Serial Number is F4D8-FFBD\n",
      "\n",
      " Directory of C:\\Users\\dell\n",
      "\n",
      "08-Dec-22  05:21 PM    <DIR>          .\n",
      "08-Dec-22  05:21 PM    <DIR>          ..\n",
      "22-Oct-22  03:45 PM                95 .accessibility.properties\n",
      "11-Oct-22  12:05 PM    <DIR>          .astropy\n",
      "16-Oct-22  04:11 PM    <DIR>          .conda\n",
      "21-Nov-22  11:21 PM    <DIR>          .cufflinks\n",
      "08-Dec-22  02:19 PM    <DIR>          .ipynb_checkpoints\n",
      "25-Jul-22  12:17 PM    <DIR>          .ipython\n",
      "24-Nov-22  04:20 PM    <DIR>          .jupyter\n",
      "11-Oct-22  12:15 PM    <DIR>          .matplotlib\n",
      "07-Dec-22  10:34 AM    <DIR>          __pycache__\n",
      "03-Nov-22  01:12 PM    <DIR>          3D Objects\n",
      "24-Nov-22  06:55 PM                 0 51-Numpy.pdf\n",
      "04-Dec-22  07:59 PM             5,166 Advertising.csv\n",
      "04-Dec-22  07:56 PM    <DIR>          anaconda3\n",
      "07-Dec-22  10:05 AM               146 arithmatic.py\n",
      "19-Nov-22  04:38 PM           461,474 bank.csv\n",
      "16-Jul-22  10:59 AM    <DIR>          Contacts\n",
      "25-Nov-22  11:21 AM           530,389 Data_Train.xlsx\n",
      "08-Dec-22  01:14 PM    <DIR>          Desktop\n",
      "03-Nov-22  01:12 PM    <DIR>          Documents\n",
      "08-Dec-22  02:14 PM    <DIR>          Downloads\n",
      "25-Nov-22  11:50 AM           303,079 EDA(2).ipynb\n",
      "24-Nov-22  05:18 PM         1,597,503 EDA(Part1).ipynb\n",
      "16-Jul-22  10:59 AM    <DIR>          Favorites\n",
      "26-Nov-22  04:59 PM            62,742 Flight prdiction eda.ipynb\n",
      "25-Nov-22  12:12 PM            30,022 Flight predicton.ipynb\n",
      "03-Dec-22  03:12 PM             9,032 Function Practice 2.ipynb\n",
      "03-Nov-22  09:30 AM            11,903 glass.data\n",
      "06-Dec-22  12:40 PM                 0 google.txt\n",
      "06-Dec-22  12:41 PM                 0 google1.txt\n",
      "06-Dec-22  12:48 PM            15,015 Iterator,Generator-2.ipynb\n",
      "04-Dec-22  09:33 PM         1,972,810 Linear Regresion.ipynb\n",
      "04-Dec-22  09:09 PM         1,978,232 Linear regression.ipynb\n",
      "16-Jul-22  10:59 AM    <DIR>          Links\n",
      "15-Nov-22  07:00 PM            18,015 locations.csv\n",
      "06-Dec-22  03:09 PM             2,995 Logging.ipynb\n",
      "01-Aug-22  07:30 PM    <DIR>          Microsoft\n",
      "07-Dec-22  12:13 PM            13,159 Module,Package.ipynb\n",
      "25-Oct-22  01:30 PM    <DIR>          Music\n",
      "07-Dec-22  12:26 PM               213 my_module.py\n",
      "08-Dec-22  05:21 PM                 0 mydict.py\n",
      "18-Nov-22  07:51 PM           104,946 NBA.xlsx\n",
      "10-Jul-22  04:55 PM    <DIR>          OneDrive\n",
      "07-Dec-22  05:57 PM             6,306 OOPS basics.ipynb\n",
      "08-Dec-22  05:20 PM            21,224 OOPS-1.ipynb\n",
      "29-Sep-22  01:05 PM    <DIR>          Pictures\n",
      "07-Dec-22  04:02 PM    <DIR>          PycharmProjects\n",
      "22-Nov-22  03:44 PM            31,939 sample_submission.csv\n",
      "15-Nov-22  06:51 PM               172 sample_test.csv\n",
      "16-Jul-22  10:59 AM    <DIR>          Saved Games\n",
      "22-Nov-22  06:14 PM    <DIR>          seaborn-data\n",
      "16-Jul-22  10:59 AM    <DIR>          Searches\n",
      "15-Nov-22  07:47 PM            19,128 services.csv\n",
      "22-Nov-22  03:44 PM           451,405 test.csv\n",
      "04-Dec-22  09:31 PM         1,572,720 test.html\n",
      "07-Dec-22  09:54 AM                27 test.py\n",
      "24-Nov-22  11:44 AM                 0 test2.txt\n",
      "24-Nov-22  11:46 AM                 0 test4.txt\n",
      "24-Nov-22  01:04 PM                22 test5.txt\n",
      "22-Nov-22  03:44 PM           460,676 train.csv\n",
      "06-Dec-22  02:21 PM             1,354 Untitled55.ipynb\n",
      "05-Nov-22  08:29 AM            56,833 Untitled9.ipynb\n",
      "16-Jul-22  10:59 AM    <DIR>          Videos\n",
      "              37 File(s)      9,738,742 bytes\n",
      "              27 Dir(s)  180,870,746,112 bytes free\n"
     ]
    }
   ],
   "source": [
    "ls"
   ]
  },
  {
   "cell_type": "code",
   "execution_count": 58,
   "id": "40a789a0",
   "metadata": {},
   "outputs": [],
   "source": [
    "#### Now copy our code and paste it in mydict.py file"
   ]
  },
  {
   "cell_type": "code",
   "execution_count": 59,
   "id": "4872ec1d",
   "metadata": {},
   "outputs": [],
   "source": [
    "### Now on another kernel import mydict file and u can use all the module of dictprasing1 class"
   ]
  },
  {
   "cell_type": "code",
   "execution_count": null,
   "id": "9c87eee8",
   "metadata": {},
   "outputs": [],
   "source": []
  }
 ],
 "metadata": {
  "kernelspec": {
   "display_name": "Python 3 (ipykernel)",
   "language": "python",
   "name": "python3"
  },
  "language_info": {
   "codemirror_mode": {
    "name": "ipython",
    "version": 3
   },
   "file_extension": ".py",
   "mimetype": "text/x-python",
   "name": "python",
   "nbconvert_exporter": "python",
   "pygments_lexer": "ipython3",
   "version": "3.9.7"
  }
 },
 "nbformat": 4,
 "nbformat_minor": 5
}
