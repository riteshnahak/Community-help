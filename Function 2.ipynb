{
 "cells": [
  {
   "cell_type": "code",
   "execution_count": 2,
   "id": "794b552c",
   "metadata": {},
   "outputs": [],
   "source": [
    "def test(a,b,c):\n",
    "    return a,b,c #Here we are defining only three argument you have to put....."
   ]
  },
  {
   "cell_type": "code",
   "execution_count": 3,
   "id": "987afa1f",
   "metadata": {},
   "outputs": [
    {
     "data": {
      "text/plain": [
       "(4, 5, 6)"
      ]
     },
     "execution_count": 3,
     "metadata": {},
     "output_type": "execute_result"
    }
   ],
   "source": [
    "test(4,5,6)"
   ]
  },
  {
   "cell_type": "code",
   "execution_count": 7,
   "id": "3c6958d5",
   "metadata": {
    "scrolled": true
   },
   "outputs": [
    {
     "ename": "TypeError",
     "evalue": "test() missing 1 required positional argument: 'c'",
     "output_type": "error",
     "traceback": [
      "\u001b[1;31m---------------------------------------------------------------------------\u001b[0m",
      "\u001b[1;31mTypeError\u001b[0m                                 Traceback (most recent call last)",
      "\u001b[1;32m~\\AppData\\Local\\Temp/ipykernel_4052/265589679.py\u001b[0m in \u001b[0;36m<module>\u001b[1;34m\u001b[0m\n\u001b[1;32m----> 1\u001b[1;33m \u001b[0mtest\u001b[0m\u001b[1;33m(\u001b[0m\u001b[1;36m2\u001b[0m\u001b[1;33m,\u001b[0m\u001b[1;36m3\u001b[0m\u001b[1;33m)\u001b[0m\u001b[1;33m\u001b[0m\u001b[1;33m\u001b[0m\u001b[0m\n\u001b[0m",
      "\u001b[1;31mTypeError\u001b[0m: test() missing 1 required positional argument: 'c'"
     ]
    }
   ],
   "source": [
    "test(2,3) # error as we have defined only three argument should be there in function"
   ]
  },
  {
   "cell_type": "code",
   "execution_count": null,
   "id": "4eec87ae",
   "metadata": {},
   "outputs": [],
   "source": [
    "def test1(*args):\n",
    "    return args  ## For passing any number of argument define function like this"
   ]
  },
  {
   "cell_type": "code",
   "execution_count": 5,
   "id": "a4e3089f",
   "metadata": {},
   "outputs": [
    {
     "data": {
      "text/plain": [
       "(4, 5, 6)"
      ]
     },
     "execution_count": 5,
     "metadata": {},
     "output_type": "execute_result"
    }
   ],
   "source": [
    "test1(4,5,6)"
   ]
  },
  {
   "cell_type": "code",
   "execution_count": 8,
   "id": "8ff5a3a0",
   "metadata": {},
   "outputs": [
    {
     "data": {
      "text/plain": [
       "(4, 5, 6, 7, 8, 9, [1, 2, 3], (5+7j))"
      ]
     },
     "execution_count": 8,
     "metadata": {},
     "output_type": "execute_result"
    }
   ],
   "source": [
    "test1(4,5,6,7,8,9,[1,2,3],(5+7j))"
   ]
  },
  {
   "cell_type": "markdown",
   "id": "54558d5b",
   "metadata": {},
   "source": [
    "## U can use anything in place of args"
   ]
  },
  {
   "cell_type": "code",
   "execution_count": 10,
   "id": "61a3a54e",
   "metadata": {},
   "outputs": [],
   "source": [
    "def test2(*ritu):\n",
    "    return ritu"
   ]
  },
  {
   "cell_type": "code",
   "execution_count": 11,
   "id": "edc03d32",
   "metadata": {},
   "outputs": [
    {
     "data": {
      "text/plain": [
       "(5, 6, 4, 7, 8, [2, 3])"
      ]
     },
     "execution_count": 11,
     "metadata": {},
     "output_type": "execute_result"
    }
   ],
   "source": [
    "test2(5,6,4,7,8,[2,3])"
   ]
  },
  {
   "cell_type": "code",
   "execution_count": 16,
   "id": "e13ba0f9",
   "metadata": {},
   "outputs": [],
   "source": [
    "def test3(*ritu,a):\n",
    "    return ritu,a   # we we want to give some specific value from ourside "
   ]
  },
  {
   "cell_type": "code",
   "execution_count": 14,
   "id": "2c0cb259",
   "metadata": {},
   "outputs": [
    {
     "ename": "TypeError",
     "evalue": "test3() missing 1 required keyword-only argument: 'a'",
     "output_type": "error",
     "traceback": [
      "\u001b[1;31m---------------------------------------------------------------------------\u001b[0m",
      "\u001b[1;31mTypeError\u001b[0m                                 Traceback (most recent call last)",
      "\u001b[1;32m~\\AppData\\Local\\Temp/ipykernel_4052/566645733.py\u001b[0m in \u001b[0;36m<module>\u001b[1;34m\u001b[0m\n\u001b[1;32m----> 1\u001b[1;33m \u001b[0mtest3\u001b[0m\u001b[1;33m(\u001b[0m\u001b[1;36m4\u001b[0m\u001b[1;33m,\u001b[0m\u001b[1;36m5\u001b[0m\u001b[1;33m,\u001b[0m\u001b[1;36m6\u001b[0m\u001b[1;33m)\u001b[0m\u001b[1;33m\u001b[0m\u001b[1;33m\u001b[0m\u001b[0m\n\u001b[0m",
      "\u001b[1;31mTypeError\u001b[0m: test3() missing 1 required keyword-only argument: 'a'"
     ]
    }
   ],
   "source": [
    "test3(4,5,6)  # it is not able to find out any value of a all values coming under ritu"
   ]
  },
  {
   "cell_type": "code",
   "execution_count": 17,
   "id": "2b0acb24",
   "metadata": {},
   "outputs": [
    {
     "data": {
      "text/plain": [
       "((4, 5, 6), 'ritesh')"
      ]
     },
     "execution_count": 17,
     "metadata": {},
     "output_type": "execute_result"
    }
   ],
   "source": [
    "test3(4,5,6,a='ritesh')"
   ]
  },
  {
   "cell_type": "code",
   "execution_count": 19,
   "id": "eff44d8c",
   "metadata": {},
   "outputs": [],
   "source": [
    "def test4(a,*ritu):\n",
    "    return ritu,a"
   ]
  },
  {
   "cell_type": "code",
   "execution_count": 20,
   "id": "1d338c4f",
   "metadata": {},
   "outputs": [
    {
     "ename": "TypeError",
     "evalue": "test4() got multiple values for argument 'a'",
     "output_type": "error",
     "traceback": [
      "\u001b[1;31m---------------------------------------------------------------------------\u001b[0m",
      "\u001b[1;31mTypeError\u001b[0m                                 Traceback (most recent call last)",
      "\u001b[1;32m~\\AppData\\Local\\Temp/ipykernel_4052/3633657201.py\u001b[0m in \u001b[0;36m<module>\u001b[1;34m\u001b[0m\n\u001b[1;32m----> 1\u001b[1;33m \u001b[0mtest4\u001b[0m\u001b[1;33m(\u001b[0m\u001b[1;36m55\u001b[0m\u001b[1;33m,\u001b[0m\u001b[1;36m474\u001b[0m\u001b[1;33m,\u001b[0m\u001b[1;36m9\u001b[0m\u001b[1;33m,\u001b[0m\u001b[1;36m7\u001b[0m\u001b[1;33m,\u001b[0m\u001b[0ma\u001b[0m\u001b[1;33m=\u001b[0m\u001b[1;34m'ritesh'\u001b[0m\u001b[1;33m)\u001b[0m\u001b[1;33m\u001b[0m\u001b[1;33m\u001b[0m\u001b[0m\n\u001b[0m",
      "\u001b[1;31mTypeError\u001b[0m: test4() got multiple values for argument 'a'"
     ]
    }
   ],
   "source": [
    "test4(55,474,9,7,a='ritesh')"
   ]
  },
  {
   "cell_type": "code",
   "execution_count": 21,
   "id": "e19be140",
   "metadata": {},
   "outputs": [
    {
     "data": {
      "text/plain": [
       "((474, 9, 7), 55)"
      ]
     },
     "execution_count": 21,
     "metadata": {},
     "output_type": "execute_result"
    }
   ],
   "source": [
    "test4(55,474,9,7)"
   ]
  },
  {
   "cell_type": "markdown",
   "id": "26641fc9",
   "metadata": {},
   "source": [
    "### Whenever u write a in the begining it will take first value of input value for arg a.Thats why u got error as test4() got multiple values for argument 'a' bcoz a=55 is already assigned"
   ]
  },
  {
   "cell_type": "code",
   "execution_count": 22,
   "id": "c9739881",
   "metadata": {},
   "outputs": [],
   "source": [
    "def test5(*ritu,a):\n",
    "    return a,ritu"
   ]
  },
  {
   "cell_type": "code",
   "execution_count": 28,
   "id": "750f6e57",
   "metadata": {},
   "outputs": [
    {
     "ename": "TypeError",
     "evalue": "test5() missing 1 required keyword-only argument: 'a'",
     "output_type": "error",
     "traceback": [
      "\u001b[1;31m---------------------------------------------------------------------------\u001b[0m",
      "\u001b[1;31mTypeError\u001b[0m                                 Traceback (most recent call last)",
      "\u001b[1;32m~\\AppData\\Local\\Temp/ipykernel_4052/2854259644.py\u001b[0m in \u001b[0;36m<module>\u001b[1;34m\u001b[0m\n\u001b[1;32m----> 1\u001b[1;33m \u001b[0mtest5\u001b[0m\u001b[1;33m(\u001b[0m\u001b[1;36m5\u001b[0m\u001b[1;33m,\u001b[0m\u001b[1;36m4\u001b[0m\u001b[1;33m,\u001b[0m\u001b[1;36m5\u001b[0m\u001b[1;33m,\u001b[0m\u001b[1;36m9\u001b[0m\u001b[1;33m,\u001b[0m\u001b[1;36m9\u001b[0m\u001b[1;33m)\u001b[0m\u001b[1;33m\u001b[0m\u001b[1;33m\u001b[0m\u001b[0m\n\u001b[0m",
      "\u001b[1;31mTypeError\u001b[0m: test5() missing 1 required keyword-only argument: 'a'"
     ]
    }
   ],
   "source": [
    "test5(5,4,5,9,9)"
   ]
  },
  {
   "cell_type": "code",
   "execution_count": 30,
   "id": "5183be43",
   "metadata": {},
   "outputs": [
    {
     "data": {
      "text/plain": [
       "(9, (5, 4, 5, 9))"
      ]
     },
     "execution_count": 30,
     "metadata": {},
     "output_type": "execute_result"
    }
   ],
   "source": [
    "test5(5,4,5,9,a=9)"
   ]
  },
  {
   "cell_type": "markdown",
   "id": "2c8199a0",
   "metadata": {},
   "source": [
    "### args always gives output in the form of tuple"
   ]
  },
  {
   "cell_type": "markdown",
   "id": "07bb44d8",
   "metadata": {},
   "source": [
    "#### Problem statement:= Creat a function, user can pass anything and my function is supposed to return only list part "
   ]
  },
  {
   "cell_type": "markdown",
   "id": "76c53ab7",
   "metadata": {},
   "source": [
    "##### Wrong attempts"
   ]
  },
  {
   "cell_type": "code",
   "execution_count": 61,
   "id": "473d1e33",
   "metadata": {},
   "outputs": [],
   "source": [
    "def test6(*args):\n",
    "    for i in args:\n",
    "        if type(args)==list:\n",
    "            return args"
   ]
  },
  {
   "cell_type": "code",
   "execution_count": 53,
   "id": "803ba48a",
   "metadata": {},
   "outputs": [],
   "source": [
    "test6(2,3,4,5,[1,2,3])"
   ]
  },
  {
   "cell_type": "code",
   "execution_count": 49,
   "id": "cb59c9d9",
   "metadata": {},
   "outputs": [],
   "source": [
    "def test7(*args):\n",
    "    l=[]\n",
    "    for i in args:\n",
    "        if type(args)==list:\n",
    "            l.append(i)\n",
    "    return l"
   ]
  },
  {
   "cell_type": "code",
   "execution_count": 51,
   "id": "c3ccf0b0",
   "metadata": {},
   "outputs": [
    {
     "data": {
      "text/plain": [
       "[]"
      ]
     },
     "execution_count": 51,
     "metadata": {},
     "output_type": "execute_result"
    }
   ],
   "source": [
    "test7(4,5,6,[1,2,3])"
   ]
  },
  {
   "cell_type": "markdown",
   "id": "db384262",
   "metadata": {},
   "source": [
    "#### Right attempts"
   ]
  },
  {
   "cell_type": "code",
   "execution_count": 55,
   "id": "2dfc903f",
   "metadata": {},
   "outputs": [],
   "source": [
    "def test8(*args):\n",
    "    for i in args:\n",
    "        if type(i)==list:\n",
    "            return i"
   ]
  },
  {
   "cell_type": "code",
   "execution_count": 56,
   "id": "8c3b17c6",
   "metadata": {},
   "outputs": [
    {
     "data": {
      "text/plain": [
       "[1, 2, 3]"
      ]
     },
     "execution_count": 56,
     "metadata": {},
     "output_type": "execute_result"
    }
   ],
   "source": [
    "test8(4,5,6,[1,2,3])"
   ]
  },
  {
   "cell_type": "code",
   "execution_count": 62,
   "id": "91e9f6b4",
   "metadata": {},
   "outputs": [
    {
     "data": {
      "text/plain": [
       "[1, 2, 3]"
      ]
     },
     "execution_count": 62,
     "metadata": {},
     "output_type": "execute_result"
    }
   ],
   "source": [
    "test8(4,5,6,[1,2,3],[4,5,6])"
   ]
  },
  {
   "cell_type": "markdown",
   "id": "40c72c6b",
   "metadata": {},
   "source": [
    "#### For above code if tou pass more than one list only one list show in output\n",
    "###### if u write print u can print both list then the type of function will be none type so primitive operation u cant do with none type function"
   ]
  },
  {
   "cell_type": "markdown",
   "id": "d9a1b860",
   "metadata": {},
   "source": [
    "### Method 1"
   ]
  },
  {
   "cell_type": "code",
   "execution_count": 57,
   "id": "275113dc",
   "metadata": {},
   "outputs": [],
   "source": [
    "def test9(*args):\n",
    "    l=[]\n",
    "    for i in args:\n",
    "        if type(i)==list:\n",
    "            l.append(i)\n",
    "    return l"
   ]
  },
  {
   "cell_type": "code",
   "execution_count": 64,
   "id": "9533b743",
   "metadata": {},
   "outputs": [
    {
     "data": {
      "text/plain": [
       "[[1, 2, 3], [5, 6, 7]]"
      ]
     },
     "execution_count": 64,
     "metadata": {},
     "output_type": "execute_result"
    }
   ],
   "source": [
    "test9(4,5,6,[1,2,3],[5,6,7])"
   ]
  },
  {
   "cell_type": "markdown",
   "id": "cbc728ed",
   "metadata": {},
   "source": [
    "### Method 2"
   ]
  },
  {
   "cell_type": "code",
   "execution_count": 65,
   "id": "d0ba606a",
   "metadata": {},
   "outputs": [],
   "source": [
    "def test10(*args):\n",
    "    for i in range(len(args)):\n",
    "        if type(i)==list:\n",
    "            return(i)"
   ]
  },
  {
   "cell_type": "code",
   "execution_count": 66,
   "id": "6f17fd30",
   "metadata": {},
   "outputs": [
    {
     "data": {
      "text/plain": [
       "[[1, 2, 3], [5, 6, 7]]"
      ]
     },
     "execution_count": 66,
     "metadata": {},
     "output_type": "execute_result"
    }
   ],
   "source": [
    "test9(4,5,6,[1,2,3],[5,6,7])"
   ]
  },
  {
   "cell_type": "markdown",
   "id": "0c3c2b42",
   "metadata": {},
   "source": [
    "#### Problem statement 2:= Creat a function, which will take n number of data in form of (anything=anything) but it will show key value pair only"
   ]
  },
  {
   "cell_type": "code",
   "execution_count": 67,
   "id": "4419731b",
   "metadata": {},
   "outputs": [],
   "source": [
    "def test11(*args):\n",
    "    l=[]\n",
    "    for i in range(len(args)):\n",
    "        if type(i)==dict:\n",
    "            l.append(i)\n",
    "    return l\n"
   ]
  },
  {
   "cell_type": "code",
   "execution_count": 70,
   "id": "90f1970a",
   "metadata": {},
   "outputs": [
    {
     "data": {
      "text/plain": [
       "[]"
      ]
     },
     "execution_count": 70,
     "metadata": {},
     "output_type": "execute_result"
    }
   ],
   "source": [
    "test11(3,4,5,{'rak':122,'kal':577})"
   ]
  },
  {
   "cell_type": "markdown",
   "id": "7e00a393",
   "metadata": {},
   "source": [
    "### U havenot properly read the problem statement"
   ]
  },
  {
   "cell_type": "markdown",
   "id": "77f44ee5",
   "metadata": {},
   "source": [
    "### Note :- single staric args is for values only  &    double staric args is for key value pair\n"
   ]
  },
  {
   "cell_type": "code",
   "execution_count": 75,
   "id": "ef7e2403",
   "metadata": {},
   "outputs": [],
   "source": [
    "def test12(**ritu):\n",
    "    return ritu"
   ]
  },
  {
   "cell_type": "code",
   "execution_count": 80,
   "id": "f32e7afc",
   "metadata": {},
   "outputs": [
    {
     "data": {
      "text/plain": [
       "{'a': 7, 'b': 9, 'c': 'ritu'}"
      ]
     },
     "execution_count": 80,
     "metadata": {},
     "output_type": "execute_result"
    }
   ],
   "source": [
    "test12(a=7,b=9,c='ritu')"
   ]
  },
  {
   "cell_type": "markdown",
   "id": "e5aa37d4",
   "metadata": {},
   "source": [
    "### Problem statement 3 :- Creat a function where a person will able to fill name,age,DOB"
   ]
  },
  {
   "cell_type": "code",
   "execution_count": 81,
   "id": "4e2b6e59",
   "metadata": {},
   "outputs": [],
   "source": [
    "def test13(**ritu):\n",
    "    return ritu"
   ]
  },
  {
   "cell_type": "code",
   "execution_count": 82,
   "id": "27887e39",
   "metadata": {},
   "outputs": [
    {
     "data": {
      "text/plain": [
       "{'name': 'ritesh', 'Age': '26', 'DOB': '6/9/96'}"
      ]
     },
     "execution_count": 82,
     "metadata": {},
     "output_type": "execute_result"
    }
   ],
   "source": [
    "test13(name='ritesh',Age='26',DOB='6/9/96')"
   ]
  },
  {
   "cell_type": "code",
   "execution_count": 83,
   "id": "96d9f89c",
   "metadata": {},
   "outputs": [],
   "source": [
    "def test14(a,**ritu):\n",
    "    return ritu,a"
   ]
  },
  {
   "cell_type": "code",
   "execution_count": 84,
   "id": "d1964af7",
   "metadata": {},
   "outputs": [
    {
     "data": {
      "text/plain": [
       "({'name': 'ritesh', 'Age': '26', 'DOB': '6/9/96'}, 14)"
      ]
     },
     "execution_count": 84,
     "metadata": {},
     "output_type": "execute_result"
    }
   ],
   "source": [
    "test14(14,name='ritesh',Age='26',DOB='6/9/96')"
   ]
  },
  {
   "cell_type": "code",
   "execution_count": 86,
   "id": "9cd4659b",
   "metadata": {},
   "outputs": [
    {
     "ename": "SyntaxError",
     "evalue": "invalid syntax (Temp/ipykernel_4052/1885003022.py, line 1)",
     "output_type": "error",
     "traceback": [
      "\u001b[1;36m  File \u001b[1;32m\"C:\\Users\\dell\\AppData\\Local\\Temp/ipykernel_4052/1885003022.py\"\u001b[1;36m, line \u001b[1;32m1\u001b[0m\n\u001b[1;33m    def test15(**ritu,a):\u001b[0m\n\u001b[1;37m                      ^\u001b[0m\n\u001b[1;31mSyntaxError\u001b[0m\u001b[1;31m:\u001b[0m invalid syntax\n"
     ]
    }
   ],
   "source": [
    "def test15(**ritu,a):\n",
    "    return a,ritu"
   ]
  },
  {
   "cell_type": "code",
   "execution_count": 87,
   "id": "b660c0db",
   "metadata": {},
   "outputs": [
    {
     "ename": "SyntaxError",
     "evalue": "invalid syntax (Temp/ipykernel_4052/4020731136.py, line 1)",
     "output_type": "error",
     "traceback": [
      "\u001b[1;36m  File \u001b[1;32m\"C:\\Users\\dell\\AppData\\Local\\Temp/ipykernel_4052/4020731136.py\"\u001b[1;36m, line \u001b[1;32m1\u001b[0m\n\u001b[1;33m    def test15(**ritu,a,*args):\u001b[0m\n\u001b[1;37m                      ^\u001b[0m\n\u001b[1;31mSyntaxError\u001b[0m\u001b[1;31m:\u001b[0m invalid syntax\n"
     ]
    }
   ],
   "source": [
    "def test15(**ritu,a,*args):\n",
    "    return a,ritu,args"
   ]
  },
  {
   "cell_type": "markdown",
   "id": "be08744a",
   "metadata": {},
   "source": [
    "### if we want to pass single staric,double staric,a then u should pass in sequence else it will show error"
   ]
  },
  {
   "cell_type": "code",
   "execution_count": 88,
   "id": "b116fd55",
   "metadata": {},
   "outputs": [],
   "source": [
    "def test16(a,*args,**kwargs):\n",
    "    return a,kwargs,args"
   ]
  },
  {
   "cell_type": "code",
   "execution_count": 89,
   "id": "58070cba",
   "metadata": {},
   "outputs": [
    {
     "ename": "SyntaxError",
     "evalue": "positional argument follows keyword argument (Temp/ipykernel_4052/815223031.py, line 1)",
     "output_type": "error",
     "traceback": [
      "\u001b[1;36m  File \u001b[1;32m\"C:\\Users\\dell\\AppData\\Local\\Temp/ipykernel_4052/815223031.py\"\u001b[1;36m, line \u001b[1;32m1\u001b[0m\n\u001b[1;33m    test16(s=9,45,96,82,44,66,name='ritesh',Age='26',DOB='6/9/96',82,86)\u001b[0m\n\u001b[1;37m                                                                    ^\u001b[0m\n\u001b[1;31mSyntaxError\u001b[0m\u001b[1;31m:\u001b[0m positional argument follows keyword argument\n"
     ]
    }
   ],
   "source": [
    "test16(s=9,45,96,82,44,66,name='ritesh',Age='26',DOB='6/9/96',82,86)"
   ]
  },
  {
   "cell_type": "code",
   "execution_count": 93,
   "id": "6034144d",
   "metadata": {},
   "outputs": [
    {
     "ename": "SyntaxError",
     "evalue": "positional argument follows keyword argument (Temp/ipykernel_4052/1818526078.py, line 1)",
     "output_type": "error",
     "traceback": [
      "\u001b[1;36m  File \u001b[1;32m\"C:\\Users\\dell\\AppData\\Local\\Temp/ipykernel_4052/1818526078.py\"\u001b[1;36m, line \u001b[1;32m1\u001b[0m\n\u001b[1;33m    test16(101,s=9,45,96,82,44,66,name='ritesh',Age='26',DOB='6/9/96')\u001b[0m\n\u001b[1;37m                                                                     ^\u001b[0m\n\u001b[1;31mSyntaxError\u001b[0m\u001b[1;31m:\u001b[0m positional argument follows keyword argument\n"
     ]
    }
   ],
   "source": [
    "test16(101,s=9,45,96,82,44,66,name='ritesh',Age='26',DOB='6/9/96')"
   ]
  },
  {
   "cell_type": "code",
   "execution_count": 94,
   "id": "b2d75939",
   "metadata": {},
   "outputs": [
    {
     "data": {
      "text/plain": [
       "(101, {'name': 'ritesh', 'Age': '26', 'DOB': '6/9/96'}, (45, 96, 82, 44, 66))"
      ]
     },
     "execution_count": 94,
     "metadata": {},
     "output_type": "execute_result"
    }
   ],
   "source": [
    "test16(101,45,96,82,44,66,name='ritesh',Age='26',DOB='6/9/96')"
   ]
  },
  {
   "cell_type": "markdown",
   "id": "40d15a24",
   "metadata": {},
   "source": [
    "### entering data also should be in form test16(), otherwise it will show syntax error"
   ]
  },
  {
   "cell_type": "markdown",
   "id": "dc88ab81",
   "metadata": {},
   "source": [
    "## lambda Function = function without name"
   ]
  },
  {
   "cell_type": "code",
   "execution_count": 95,
   "id": "94de74bb",
   "metadata": {},
   "outputs": [],
   "source": [
    "def test17(a,b):\n",
    "    return a*b"
   ]
  },
  {
   "cell_type": "code",
   "execution_count": 96,
   "id": "fd77e62b",
   "metadata": {},
   "outputs": [
    {
     "data": {
      "text/plain": [
       "528"
      ]
     },
     "execution_count": 96,
     "metadata": {},
     "output_type": "execute_result"
    }
   ],
   "source": [
    "test17(22,24)"
   ]
  },
  {
   "cell_type": "code",
   "execution_count": 97,
   "id": "9881a65d",
   "metadata": {},
   "outputs": [
    {
     "data": {
      "text/plain": [
       "<function __main__.<lambda>(a, b)>"
      ]
     },
     "execution_count": 97,
     "metadata": {},
     "output_type": "execute_result"
    }
   ],
   "source": [
    "lambda a,b :a*b"
   ]
  },
  {
   "cell_type": "code",
   "execution_count": 98,
   "id": "83aa0031",
   "metadata": {},
   "outputs": [],
   "source": [
    "a=lambda a,b :a*b"
   ]
  },
  {
   "cell_type": "code",
   "execution_count": 100,
   "id": "106ca69a",
   "metadata": {},
   "outputs": [
    {
     "data": {
      "text/plain": [
       "528"
      ]
     },
     "execution_count": 100,
     "metadata": {},
     "output_type": "execute_result"
    }
   ],
   "source": [
    "a(22,24)"
   ]
  },
  {
   "cell_type": "code",
   "execution_count": 101,
   "id": "5e2e1b9e",
   "metadata": {},
   "outputs": [],
   "source": [
    "a=lambda a,b :(a*b ,a+b)"
   ]
  },
  {
   "cell_type": "code",
   "execution_count": 102,
   "id": "571c6dc5",
   "metadata": {},
   "outputs": [
    {
     "data": {
      "text/plain": [
       "(528, 46)"
      ]
     },
     "execution_count": 102,
     "metadata": {},
     "output_type": "execute_result"
    }
   ],
   "source": [
    "a(22,24)"
   ]
  },
  {
   "cell_type": "code",
   "execution_count": 103,
   "id": "a3cd0746",
   "metadata": {},
   "outputs": [],
   "source": [
    "a=lambda **kwargs: kwargs"
   ]
  },
  {
   "cell_type": "code",
   "execution_count": 104,
   "id": "9cf6ee95",
   "metadata": {},
   "outputs": [
    {
     "data": {
      "text/plain": [
       "{'a': '45', 'b': '66'}"
      ]
     },
     "execution_count": 104,
     "metadata": {},
     "output_type": "execute_result"
    }
   ],
   "source": [
    "a(a='45',b='66')"
   ]
  },
  {
   "cell_type": "code",
   "execution_count": 105,
   "id": "54dc4f40",
   "metadata": {},
   "outputs": [],
   "source": [
    "a=10\n",
    "def test19(c,d):\n",
    "    return c*d"
   ]
  },
  {
   "cell_type": "code",
   "execution_count": 109,
   "id": "ead1cf81",
   "metadata": {},
   "outputs": [
    {
     "data": {
      "text/plain": [
       "200"
      ]
     },
     "execution_count": 109,
     "metadata": {},
     "output_type": "execute_result"
    }
   ],
   "source": [
    "test19(a,20)"
   ]
  },
  {
   "cell_type": "code",
   "execution_count": 107,
   "id": "240b453f",
   "metadata": {},
   "outputs": [
    {
     "data": {
      "text/plain": [
       "20"
      ]
     },
     "execution_count": 107,
     "metadata": {},
     "output_type": "execute_result"
    }
   ],
   "source": [
    "test19(5,4)"
   ]
  },
  {
   "cell_type": "code",
   "execution_count": 108,
   "id": "777430c5",
   "metadata": {},
   "outputs": [
    {
     "ename": "TypeError",
     "evalue": "test19() takes 2 positional arguments but 3 were given",
     "output_type": "error",
     "traceback": [
      "\u001b[1;31m---------------------------------------------------------------------------\u001b[0m",
      "\u001b[1;31mTypeError\u001b[0m                                 Traceback (most recent call last)",
      "\u001b[1;32m~\\AppData\\Local\\Temp/ipykernel_4052/1920429915.py\u001b[0m in \u001b[0;36m<module>\u001b[1;34m\u001b[0m\n\u001b[1;32m----> 1\u001b[1;33m \u001b[0mtest19\u001b[0m\u001b[1;33m(\u001b[0m\u001b[0ma\u001b[0m\u001b[1;33m,\u001b[0m\u001b[1;36m5\u001b[0m\u001b[1;33m,\u001b[0m\u001b[1;36m4\u001b[0m\u001b[1;33m)\u001b[0m\u001b[1;33m\u001b[0m\u001b[1;33m\u001b[0m\u001b[0m\n\u001b[0m",
      "\u001b[1;31mTypeError\u001b[0m: test19() takes 2 positional arguments but 3 were given"
     ]
    }
   ],
   "source": [
    "test19(a,5,4)"
   ]
  },
  {
   "cell_type": "code",
   "execution_count": 110,
   "id": "4c7bd624",
   "metadata": {},
   "outputs": [],
   "source": [
    "a=10\n",
    "def test19(c,d):\n",
    "    a=5\n",
    "    return c*d"
   ]
  },
  {
   "cell_type": "code",
   "execution_count": 111,
   "id": "64ac6cc8",
   "metadata": {},
   "outputs": [
    {
     "data": {
      "text/plain": [
       "200"
      ]
     },
     "execution_count": 111,
     "metadata": {},
     "output_type": "execute_result"
    }
   ],
   "source": [
    "test19(a,20)"
   ]
  },
  {
   "cell_type": "code",
   "execution_count": 114,
   "id": "7018bdff",
   "metadata": {},
   "outputs": [],
   "source": [
    "a=10\n",
    "def test20(c,d):\n",
    "    c=5\n",
    "    return c*d"
   ]
  },
  {
   "cell_type": "code",
   "execution_count": 116,
   "id": "1c86b592",
   "metadata": {},
   "outputs": [
    {
     "data": {
      "text/plain": [
       "250"
      ]
     },
     "execution_count": 116,
     "metadata": {},
     "output_type": "execute_result"
    }
   ],
   "source": [
    "test20(10,50)   # As we have assigned so it will take c as 5 not 10 inside function"
   ]
  },
  {
   "cell_type": "markdown",
   "id": "57d083c2",
   "metadata": {},
   "source": [
    "### PS:- 4 == try to add two in every value of the list and show new list"
   ]
  },
  {
   "cell_type": "code",
   "execution_count": 119,
   "id": "8384b772",
   "metadata": {},
   "outputs": [],
   "source": [
    "l=[4,5,6,4,7,8]\n",
    "l1=[]\n",
    "for i in l:\n",
    "    l1.append(i+2)"
   ]
  },
  {
   "cell_type": "code",
   "execution_count": 120,
   "id": "309d1724",
   "metadata": {},
   "outputs": [
    {
     "data": {
      "text/plain": [
       "[6, 7, 8, 6, 9, 10]"
      ]
     },
     "execution_count": 120,
     "metadata": {},
     "output_type": "execute_result"
    }
   ],
   "source": [
    "l1"
   ]
  },
  {
   "cell_type": "code",
   "execution_count": 130,
   "id": "2bcdceb0",
   "metadata": {},
   "outputs": [],
   "source": [
    "def test21(a):\n",
    "    l1=[]\n",
    "    for i in a:\n",
    "        if type(a)==list:\n",
    "            l1.append(i+2)\n",
    "    return l1"
   ]
  },
  {
   "cell_type": "code",
   "execution_count": 131,
   "id": "43363e34",
   "metadata": {},
   "outputs": [
    {
     "data": {
      "text/plain": [
       "[4, 5, 6]"
      ]
     },
     "execution_count": 131,
     "metadata": {},
     "output_type": "execute_result"
    }
   ],
   "source": [
    "test21([2,3,4])"
   ]
  },
  {
   "cell_type": "code",
   "execution_count": 132,
   "id": "c8e5e357",
   "metadata": {},
   "outputs": [],
   "source": [
    "l=[5,6,7,9,8,7,55,4]"
   ]
  },
  {
   "cell_type": "markdown",
   "id": "3f4529ff",
   "metadata": {},
   "source": [
    "### list comprehension Operation\n",
    "#### syntax= [(return) loop condition ]"
   ]
  },
  {
   "cell_type": "code",
   "execution_count": 133,
   "id": "c6ad01ad",
   "metadata": {},
   "outputs": [
    {
     "data": {
      "text/plain": [
       "[(25, 10),\n",
       " (36, 12),\n",
       " (49, 14),\n",
       " (81, 18),\n",
       " (64, 16),\n",
       " (49, 14),\n",
       " (3025, 110),\n",
       " (16, 8)]"
      ]
     },
     "execution_count": 133,
     "metadata": {},
     "output_type": "execute_result"
    }
   ],
   "source": [
    "[(i**2,i+i) for i in l]"
   ]
  },
  {
   "cell_type": "code",
   "execution_count": 135,
   "id": "1f00b75a",
   "metadata": {},
   "outputs": [
    {
     "data": {
      "text/plain": [
       "[(25, 10), (36, 12), (49, 14), (49, 14), (16, 8)]"
      ]
     },
     "execution_count": 135,
     "metadata": {},
     "output_type": "execute_result"
    }
   ],
   "source": [
    "[(i**2,i+i) for i in l if i<8]"
   ]
  },
  {
   "cell_type": "code",
   "execution_count": 136,
   "id": "c2e1ad6c",
   "metadata": {},
   "outputs": [
    {
     "name": "stdout",
     "output_type": "stream",
     "text": [
      " Volume in drive C has no label.\n",
      " Volume Serial Number is F4D8-FFBD\n",
      "\n",
      " Directory of C:\\Users\\dell\n",
      "\n",
      "23-Nov-22  02:14 PM    <DIR>          .\n",
      "23-Nov-22  02:14 PM    <DIR>          ..\n",
      "22-Oct-22  03:45 PM                95 .accessibility.properties\n",
      "11-Oct-22  12:05 PM    <DIR>          .astropy\n",
      "16-Oct-22  04:11 PM    <DIR>          .conda\n",
      "21-Nov-22  11:21 PM    <DIR>          .cufflinks\n",
      "23-Nov-22  02:14 PM    <DIR>          .ipynb_checkpoints\n",
      "25-Jul-22  12:17 PM    <DIR>          .ipython\n",
      "26-Jul-22  07:27 AM    <DIR>          .jupyter\n",
      "11-Oct-22  12:15 PM    <DIR>          .matplotlib\n",
      "03-Nov-22  01:12 PM    <DIR>          3D Objects\n",
      "25-Jul-22  12:00 PM    <DIR>          anaconda3\n",
      "19-Nov-22  04:38 PM           461,474 bank.csv\n",
      "16-Jul-22  10:59 AM    <DIR>          Contacts\n",
      "21-Nov-22  12:37 PM    <DIR>          Desktop\n",
      "03-Nov-22  01:12 PM    <DIR>          Documents\n",
      "23-Nov-22  02:13 PM    <DIR>          Downloads\n",
      "16-Jul-22  10:59 AM    <DIR>          Favorites\n",
      "23-Nov-22  02:14 PM            29,240 Function 2.ipynb\n",
      "03-Nov-22  09:30 AM            11,903 glass.data\n",
      "16-Jul-22  10:59 AM    <DIR>          Links\n",
      "15-Nov-22  07:00 PM            18,015 locations.csv\n",
      "01-Aug-22  07:30 PM    <DIR>          Microsoft\n",
      "25-Oct-22  01:30 PM    <DIR>          Music\n",
      "18-Nov-22  07:51 PM           104,946 NBA.xlsx\n",
      "10-Jul-22  04:55 PM    <DIR>          OneDrive\n",
      "29-Sep-22  01:05 PM    <DIR>          Pictures\n",
      "03-Nov-22  09:45 AM    <DIR>          PycharmProjects\n",
      "22-Nov-22  03:44 PM            31,939 sample_submission.csv\n",
      "15-Nov-22  06:51 PM               172 sample_test.csv\n",
      "16-Jul-22  10:59 AM    <DIR>          Saved Games\n",
      "22-Nov-22  06:14 PM    <DIR>          seaborn-data\n",
      "16-Jul-22  10:59 AM    <DIR>          Searches\n",
      "15-Nov-22  07:47 PM            19,128 services.csv\n",
      "15-Nov-22  07:09 PM            20,752 TAT.csv\n",
      "22-Nov-22  03:44 PM           451,405 test.csv\n",
      "22-Nov-22  03:44 PM           460,676 train.csv\n",
      "01-Nov-22  11:43 AM             1,135 Untitled.ipynb\n",
      "01-Nov-22  03:48 PM               588 Untitled1.ipynb\n",
      "05-Nov-22  12:23 PM             8,531 Untitled10.ipynb\n",
      "05-Nov-22  07:02 PM             5,719 Untitled11.ipynb\n",
      "15-Nov-22  08:02 PM           143,953 Untitled12.ipynb\n",
      "16-Nov-22  09:02 AM               750 Untitled13.ipynb\n",
      "18-Nov-22  11:23 PM           286,901 Untitled14.ipynb\n",
      "19-Nov-22  04:25 PM            85,070 Untitled15.ipynb\n",
      "19-Nov-22  07:17 PM             2,093 Untitled16.ipynb\n",
      "19-Nov-22  08:57 PM            66,508 Untitled17.ipynb\n",
      "20-Nov-22  11:32 AM            64,559 Untitled18.ipynb\n",
      "20-Nov-22  12:02 PM            45,003 Untitled19.ipynb\n",
      "01-Nov-22  05:16 PM               588 Untitled2.ipynb\n",
      "20-Nov-22  04:39 PM            30,733 Untitled20.ipynb\n",
      "21-Nov-22  11:44 AM            25,144 Untitled21.ipynb\n",
      "21-Nov-22  05:35 PM            28,706 Untitled22.ipynb\n",
      "21-Nov-22  06:08 PM               931 Untitled23.ipynb\n",
      "21-Nov-22  11:13 PM         1,326,421 Untitled24.ipynb\n",
      "21-Nov-22  11:29 PM            78,848 Untitled25.ipynb\n",
      "22-Nov-22  09:21 AM             8,919 Untitled26.ipynb\n",
      "22-Nov-22  10:42 AM             2,648 Untitled27.ipynb\n",
      "22-Nov-22  03:20 PM             1,542 Untitled28.ipynb\n",
      "22-Nov-22  06:22 PM           107,581 Untitled29.ipynb\n",
      "02-Nov-22  09:56 AM               588 Untitled3.ipynb\n",
      "22-Nov-22  08:01 PM           211,334 Untitled30.ipynb\n",
      "23-Nov-22  09:39 AM               778 Untitled31.ipynb\n",
      "23-Nov-22  01:51 PM            29,240 Untitled32.ipynb\n",
      "02-Nov-22  10:27 AM             1,471 Untitled4.ipynb\n",
      "03-Nov-22  09:36 AM            17,354 Untitled5.ipynb\n",
      "03-Nov-22  03:39 PM           126,746 Untitled6.ipynb\n",
      "03-Nov-22  01:04 PM               588 Untitled7.ipynb\n",
      "03-Nov-22  04:01 PM            47,206 Untitled8.ipynb\n",
      "05-Nov-22  08:29 AM            56,833 Untitled9.ipynb\n",
      "16-Jul-22  10:59 AM    <DIR>          Videos\n",
      "              45 File(s)      4,424,754 bytes\n",
      "              26 Dir(s)  184,877,817,856 bytes free\n"
     ]
    }
   ],
   "source": [
    "ls"
   ]
  },
  {
   "cell_type": "code",
   "execution_count": null,
   "id": "231ca8ef",
   "metadata": {},
   "outputs": [],
   "source": []
  }
 ],
 "metadata": {
  "kernelspec": {
   "display_name": "Python 3 (ipykernel)",
   "language": "python",
   "name": "python3"
  },
  "language_info": {
   "codemirror_mode": {
    "name": "ipython",
    "version": 3
   },
   "file_extension": ".py",
   "mimetype": "text/x-python",
   "name": "python",
   "nbconvert_exporter": "python",
   "pygments_lexer": "ipython3",
   "version": "3.9.7"
  }
 },
 "nbformat": 4,
 "nbformat_minor": 5
}
