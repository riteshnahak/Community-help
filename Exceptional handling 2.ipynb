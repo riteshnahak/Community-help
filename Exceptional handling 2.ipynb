{
 "cells": [
  {
   "cell_type": "code",
   "execution_count": 1,
   "id": "27c88623",
   "metadata": {},
   "outputs": [
    {
     "name": "stdout",
     "output_type": "stream",
     "text": [
      "name 'test2' is not defined\n",
      "this is my handler\n",
      "1\n",
      "2\n",
      "3\n",
      "1\n",
      "5\n"
     ]
    }
   ],
   "source": [
    "try:\n",
    "    f=open(test2.txt,'r')\n",
    "    f.write('this is my code with exceptional handling')    ### Syntactical it is correct but in run time it may occur error a u opend read file then write in it.\n",
    "    print('this is my code after write operation')\n",
    "except Exception as e:  ### if error in try there then it will come to except\n",
    "        print(e)\n",
    "        print('this is my handler')\n",
    "l=[1,2,3,1,5]\n",
    "for i in l:\n",
    "    print(i)"
   ]
  },
  {
   "cell_type": "code",
   "execution_count": 1,
   "id": "a4db41af",
   "metadata": {},
   "outputs": [
    {
     "name": "stdout",
     "output_type": "stream",
     "text": [
      "sdf\n",
      "invalid literal for int() with base 10: 'sdf'\n"
     ]
    }
   ],
   "source": [
    "try:\n",
    "    d={'key1':'sudh','key2':[1,2,3,4],'key3':(1,5,6,7,8)}\n",
    "    d['key4']=int(input())\n",
    "except Exception as e:    ### Exception is superclass which include all the error\n",
    "    print(e)"
   ]
  },
  {
   "cell_type": "code",
   "execution_count": 2,
   "id": "249b735e",
   "metadata": {},
   "outputs": [
    {
     "name": "stdout",
     "output_type": "stream",
     "text": [
      "654564\n"
     ]
    }
   ],
   "source": [
    "try:\n",
    "    d={'key1':'sudh','key2':[1,2,3,4],'key3':(1,5,6,7,8)}\n",
    "    d['key4']=int(input())\n",
    "except Exception as ritu:\n",
    "    print(ritu)"
   ]
  },
  {
   "cell_type": "code",
   "execution_count": 3,
   "id": "aa16d8e4",
   "metadata": {},
   "outputs": [
    {
     "data": {
      "text/plain": [
       "{'key1': 'sudh', 'key2': [1, 2, 3, 4], 'key3': (1, 5, 6, 7, 8), 'key4': 654564}"
      ]
     },
     "execution_count": 3,
     "metadata": {},
     "output_type": "execute_result"
    }
   ],
   "source": [
    "d"
   ]
  },
  {
   "cell_type": "code",
   "execution_count": 3,
   "id": "6fadf9b5",
   "metadata": {},
   "outputs": [
    {
     "name": "stdout",
     "output_type": "stream",
     "text": [
      "[Errno 2] No such file or directory: 'test3.txt'\n"
     ]
    }
   ],
   "source": [
    "try:\n",
    "    d={'key1':'sudh','key2':[1,2,3,4],'key3':(1,5,6,7,8)}\n",
    "    d['key4']=int(input())\n",
    "    f=open('test3.txt','r')\n",
    "except Exception as ritu:\n",
    "    print(ritu)"
   ]
  },
  {
   "cell_type": "code",
   "execution_count": null,
   "id": "c2a1e1e7",
   "metadata": {},
   "outputs": [],
   "source": [
    "try:\n",
    "    d={'key1':'sudh','key2':[1,2,3,4],'key3':(1,5,6,7,8)}\n",
    "    d['key4']=int(input())\n",
    "    f=open('test4.txt','w')\n",
    "except Exception as ritu:\n",
    "    print(ritu)"
   ]
  },
  {
   "cell_type": "code",
   "execution_count": 5,
   "id": "3289d4a1",
   "metadata": {},
   "outputs": [
    {
     "data": {
      "text/plain": [
       "{'key1': 'sudh', 'key2': [1, 2, 3, 4], 'key3': (1, 5, 6, 7, 8)}"
      ]
     },
     "execution_count": 5,
     "metadata": {},
     "output_type": "execute_result"
    }
   ],
   "source": [
    "d"
   ]
  },
  {
   "cell_type": "code",
   "execution_count": 6,
   "id": "7072a409",
   "metadata": {},
   "outputs": [
    {
     "name": "stdout",
     "output_type": "stream",
     "text": [
      "5465454\n"
     ]
    }
   ],
   "source": [
    "try:\n",
    "    d={'key1':'sudh','key2':[1,2,3,4],'key3':(1,5,6,7,8)}\n",
    "    d['key4']=int(input())\n",
    "    f=open('test4.txt','r')  ### It is not showing error bcoz test 4 is created with 'w'in previous program\n",
    "except Exception as ritu:\n",
    "    print(ritu)"
   ]
  },
  {
   "cell_type": "code",
   "execution_count": 7,
   "id": "a448da5e",
   "metadata": {},
   "outputs": [
    {
     "data": {
      "text/plain": [
       "{'key1': 'sudh',\n",
       " 'key2': [1, 2, 3, 4],\n",
       " 'key3': (1, 5, 6, 7, 8),\n",
       " 'key4': 5465454}"
      ]
     },
     "execution_count": 7,
     "metadata": {},
     "output_type": "execute_result"
    }
   ],
   "source": [
    "d"
   ]
  },
  {
   "cell_type": "code",
   "execution_count": 4,
   "id": "996772f7",
   "metadata": {},
   "outputs": [
    {
     "name": "stdout",
     "output_type": "stream",
     "text": [
      "[Errno 2] No such file or directory: 'test4.txt'\n"
     ]
    }
   ],
   "source": [
    "try:\n",
    "    d={'key1':'sudh','key2':[1,2,3,4],'key3':(1,5,6,7,8)}\n",
    "    d['key4']=int(input())\n",
    "    f=open('test4.txt','r')  ### It is not showing error bcoz test 4 is created with 'w'in previous program\n",
    "except Exception as ritu:\n",
    "    print(ritu)\n",
    "except Valueerror as e:\n",
    "    print(e)"
   ]
  },
  {
   "cell_type": "code",
   "execution_count": null,
   "id": "bb111c61",
   "metadata": {
    "scrolled": true
   },
   "outputs": [],
   "source": [
    "try:\n",
    "    d={'key1':'sudh','key2':[1,2,3,4],'key3':(1,5,6,7,8)}\n",
    "    d['key4']=int(input())\n",
    "    f=open('test4.txt','r')  ### It is not showing error bcoz test 4 is created with 'w'in previous program\n",
    "except Valueerror as e:\n",
    "    print(e)\n",
    "except Exception as ritu:\n",
    "    print(ritu)"
   ]
  },
  {
   "cell_type": "markdown",
   "id": "f2e0d596",
   "metadata": {},
   "source": [
    "### In row 23 , We have superclass(Exception) at the top, So except will take Exception not ValueError\n",
    "### In row 24 , We have Child class(valueError) at top and superclass is under it Then except will take value error not Exception\n",
    "\n",
    "#### So Exception always manatin hirerchy"
   ]
  },
  {
   "cell_type": "markdown",
   "id": "9c3d914f",
   "metadata": {},
   "source": [
    "## Try-Except-Else (Only available in python not any other language)\n",
    "#### Else  will execcute if my try block will execute sucessfully if any error there it will go to except block"
   ]
  },
  {
   "cell_type": "code",
   "execution_count": 8,
   "id": "fae88d5c",
   "metadata": {},
   "outputs": [
    {
     "name": "stdout",
     "output_type": "stream",
     "text": [
      "this will execcute if my try block will execute sucessfully\n"
     ]
    }
   ],
   "source": [
    "try:\n",
    "    f=open('test5.txt','w')\n",
    "    f.write('This is my code in try')\n",
    "except Exception as e:\n",
    "    print('this will handle error')\n",
    "else:\n",
    "    print('this will execcute if my try block will execute sucessfully')\n",
    "    f.close()"
   ]
  },
  {
   "cell_type": "code",
   "execution_count": 9,
   "id": "de1aefb6",
   "metadata": {},
   "outputs": [
    {
     "name": "stdout",
     "output_type": "stream",
     "text": [
      "this will handle error\n"
     ]
    }
   ],
   "source": [
    "try:\n",
    "    f=open('test6.txt','r')\n",
    "    f.write('This is my code in try')\n",
    "except Exception as e:\n",
    "    print('this will handle error')\n",
    "else:\n",
    "    print('this will execcute if my try block will execute sucessfully')\n",
    "    f.close()"
   ]
  },
  {
   "cell_type": "markdown",
   "id": "2ba1b871",
   "metadata": {},
   "source": [
    "## Try-Except-Finally"
   ]
  },
  {
   "cell_type": "code",
   "execution_count": 10,
   "id": "3780bfea",
   "metadata": {},
   "outputs": [
    {
     "name": "stdout",
     "output_type": "stream",
     "text": [
      "this will handle error\n",
      "this will execcute everytime\n"
     ]
    }
   ],
   "source": [
    "try:\n",
    "    f=open('test6.txt','r')\n",
    "    f.write('This is my code in try')\n",
    "except Exception as e:\n",
    "    print('this will handle error')\n",
    "finally:\n",
    "    print('this will execcute everytime')\n",
    "    f.close()"
   ]
  },
  {
   "cell_type": "code",
   "execution_count": 11,
   "id": "613c0107",
   "metadata": {},
   "outputs": [
    {
     "name": "stdout",
     "output_type": "stream",
     "text": [
      "this will handle error\n",
      "this will execcute everytime\n"
     ]
    },
    {
     "ename": "FileNotFoundError",
     "evalue": "[Errno 2] No such file or directory: 'dsdsvd'",
     "output_type": "error",
     "traceback": [
      "\u001b[1;31m---------------------------------------------------------------------------\u001b[0m",
      "\u001b[1;31mFileNotFoundError\u001b[0m                         Traceback (most recent call last)",
      "\u001b[1;32m~\\AppData\\Local\\Temp/ipykernel_14132/2081791646.py\u001b[0m in \u001b[0;36m<module>\u001b[1;34m\u001b[0m\n\u001b[0;32m      6\u001b[0m \u001b[1;32mfinally\u001b[0m\u001b[1;33m:\u001b[0m\u001b[1;33m\u001b[0m\u001b[1;33m\u001b[0m\u001b[0m\n\u001b[0;32m      7\u001b[0m     \u001b[0mprint\u001b[0m\u001b[1;33m(\u001b[0m\u001b[1;34m'this will execcute everytime'\u001b[0m\u001b[1;33m)\u001b[0m\u001b[1;33m\u001b[0m\u001b[1;33m\u001b[0m\u001b[0m\n\u001b[1;32m----> 8\u001b[1;33m     \u001b[0mf\u001b[0m\u001b[1;33m=\u001b[0m\u001b[0mopen\u001b[0m\u001b[1;33m(\u001b[0m\u001b[1;34m'dsdsvd'\u001b[0m\u001b[1;33m,\u001b[0m\u001b[1;34m'r'\u001b[0m\u001b[1;33m)\u001b[0m\u001b[1;33m\u001b[0m\u001b[1;33m\u001b[0m\u001b[0m\n\u001b[0m\u001b[0;32m      9\u001b[0m     \u001b[0mf\u001b[0m\u001b[1;33m.\u001b[0m\u001b[0mclose\u001b[0m\u001b[1;33m(\u001b[0m\u001b[1;33m)\u001b[0m\u001b[1;33m\u001b[0m\u001b[1;33m\u001b[0m\u001b[0m\n",
      "\u001b[1;31mFileNotFoundError\u001b[0m: [Errno 2] No such file or directory: 'dsdsvd'"
     ]
    }
   ],
   "source": [
    "try:\n",
    "    f=open('test6.txt','r')\n",
    "    f.write('This is my code in try')\n",
    "except Exception as e:\n",
    "    print('this will handle error')\n",
    "finally:\n",
    "    print('this will execcute everytime')\n",
    "    f=open('dsdsvd','r')\n",
    "    f.close()"
   ]
  },
  {
   "cell_type": "markdown",
   "id": "243ea6c7",
   "metadata": {},
   "source": [
    "## Hirecrchy of operation"
   ]
  },
  {
   "cell_type": "code",
   "execution_count": 12,
   "id": "ca907f9d",
   "metadata": {},
   "outputs": [
    {
     "name": "stdout",
     "output_type": "stream",
     "text": [
      "this will handle error\n",
      "this will execcute everytime\n",
      "handle this\n",
      "hi\n"
     ]
    }
   ],
   "source": [
    "try:\n",
    "    f=open('test6.txt','r')\n",
    "    f.write('This is my code in try')\n",
    "except Exception as e:\n",
    "    print('this will handle error')\n",
    "finally:\n",
    "    print('this will execcute everytime')\n",
    "    try:\n",
    "        f=open('dsdsvd','r')\n",
    "    except:\n",
    "        print('handle this')\n",
    "    finally:\n",
    "        print('hi')"
   ]
  },
  {
   "cell_type": "markdown",
   "id": "0499171c",
   "metadata": {},
   "source": [
    "## Exception Handling in function"
   ]
  },
  {
   "cell_type": "code",
   "execution_count": 13,
   "id": "752b34a6",
   "metadata": {},
   "outputs": [],
   "source": [
    "def askint():\n",
    "    a=int(input())\n",
    "    return a"
   ]
  },
  {
   "cell_type": "code",
   "execution_count": 14,
   "id": "4fe5e046",
   "metadata": {},
   "outputs": [
    {
     "name": "stdout",
     "output_type": "stream",
     "text": [
      "5465\n"
     ]
    },
    {
     "data": {
      "text/plain": [
       "5465"
      ]
     },
     "execution_count": 14,
     "metadata": {},
     "output_type": "execute_result"
    }
   ],
   "source": [
    "askint()"
   ]
  },
  {
   "cell_type": "code",
   "execution_count": null,
   "id": "f1ec1b29",
   "metadata": {
    "scrolled": true
   },
   "outputs": [],
   "source": [
    "askint()"
   ]
  },
  {
   "cell_type": "code",
   "execution_count": 6,
   "id": "3f106d09",
   "metadata": {},
   "outputs": [],
   "source": [
    "def askint():\n",
    "    try:\n",
    "        a=int(input())\n",
    "        return a\n",
    "    except Exception as e:\n",
    "        print(e)\n",
    "        print('hey')"
   ]
  },
  {
   "cell_type": "code",
   "execution_count": 7,
   "id": "cfe2fa2a",
   "metadata": {},
   "outputs": [
    {
     "name": "stdout",
     "output_type": "stream",
     "text": [
      "invalid literal for int() with base 10: 'dhsd'\n",
      "hey\n"
     ]
    }
   ],
   "source": [
    "askint()"
   ]
  },
  {
   "cell_type": "markdown",
   "id": "da6863a3",
   "metadata": {},
   "source": [
    "## Problem Statement :- Create a function which will keep asking you enter a integer unless and untill u enter a interger "
   ]
  },
  {
   "cell_type": "code",
   "execution_count": 1,
   "id": "db1ad381",
   "metadata": {},
   "outputs": [],
   "source": [
    "def intdena():\n",
    "    try:\n",
    "        a=int(input('enter a integer'))\n",
    "        if type(a)== int:\n",
    "            return a\n",
    "        else:\n",
    "            a=input()\n",
    "            return a\n",
    "    except Exception as e:\n",
    "        print(e)\n",
    "## This coding ask u value for two time....u have to creat loop"
   ]
  },
  {
   "cell_type": "code",
   "execution_count": 2,
   "id": "6b5b9484",
   "metadata": {},
   "outputs": [
    {
     "name": "stdout",
     "output_type": "stream",
     "text": [
      "enter a integersdfgd\n",
      "invalid literal for int() with base 10: 'sdfgd'\n"
     ]
    }
   ],
   "source": [
    "intdena()"
   ]
  },
  {
   "cell_type": "code",
   "execution_count": null,
   "id": "72198173",
   "metadata": {},
   "outputs": [],
   "source": [
    "func()"
   ]
  },
  {
   "cell_type": "code",
   "execution_count": 17,
   "id": "160cb79a",
   "metadata": {},
   "outputs": [],
   "source": [
    "def func():\n",
    "    flag=True  ### Flag is just a variable Flag=true means it has entered the infinite loop\n",
    "    while flag: ## Whie check condition as flag is tru it will go inside loop\n",
    "        try:\n",
    "            a=int(input('enter a interger value'))  ## Dont forget int () otherwise even if u enter interger it will ask again and again\n",
    "            if type(a)==int:\n",
    "                return a\n",
    "                flag=False  ### Loop close\n",
    "        except Exception as e:\n",
    "            print('Soory buddy u have to enter int as u have entered' ,':',e )"
   ]
  },
  {
   "cell_type": "code",
   "execution_count": 18,
   "id": "82fd6df0",
   "metadata": {},
   "outputs": [
    {
     "name": "stdout",
     "output_type": "stream",
     "text": [
      "enter a interger valuejdh\n",
      "Soory buddy u have to enter int as u have entered : invalid literal for int() with base 10: 'jdh'\n",
      "enter a interger valuedhg\n",
      "Soory buddy u have to enter int as u have entered : invalid literal for int() with base 10: 'dhg'\n",
      "enter a interger valueadhg\n",
      "Soory buddy u have to enter int as u have entered : invalid literal for int() with base 10: 'adhg'\n",
      "enter a interger value565\n"
     ]
    },
    {
     "data": {
      "text/plain": [
       "565"
      ]
     },
     "execution_count": 18,
     "metadata": {},
     "output_type": "execute_result"
    }
   ],
   "source": [
    "func()"
   ]
  },
  {
   "cell_type": "code",
   "execution_count": 19,
   "id": "68c3cda9",
   "metadata": {},
   "outputs": [],
   "source": [
    "def func1():\n",
    "    while True:\n",
    "        try:\n",
    "            x=int(input())\n",
    "            break\n",
    "        except Exception as e:\n",
    "            print ('Enter the input again as : ',e)"
   ]
  },
  {
   "cell_type": "code",
   "execution_count": 20,
   "id": "cb5a1ab0",
   "metadata": {},
   "outputs": [
    {
     "name": "stdout",
     "output_type": "stream",
     "text": [
      "dkjfg\n",
      "Enter the input again as :  invalid literal for int() with base 10: 'dkjfg'\n",
      "sdfjbhv\n",
      "Enter the input again as :  invalid literal for int() with base 10: 'sdfjbhv'\n",
      "sdfjb\n",
      "Enter the input again as :  invalid literal for int() with base 10: 'sdfjb'\n",
      "6565\n"
     ]
    }
   ],
   "source": [
    "func1()"
   ]
  },
  {
   "cell_type": "code",
   "execution_count": 8,
   "id": "a106ec49",
   "metadata": {},
   "outputs": [],
   "source": [
    "def func1():\n",
    "    while True:\n",
    "        try:\n",
    "            x=int(input())\n",
    "            break\n",
    "        except Exception as e:\n",
    "            return ('Enter the input again as : ',e)"
   ]
  },
  {
   "cell_type": "code",
   "execution_count": 9,
   "id": "71b12181",
   "metadata": {},
   "outputs": [
    {
     "data": {
      "text/plain": [
       "('Enter the input again as : ',\n",
       " ValueError(\"invalid literal for int() with base 10: 'dgh'\"))"
      ]
     },
     "execution_count": 9,
     "metadata": {},
     "output_type": "execute_result"
    }
   ],
   "source": [
    "func1()"
   ]
  },
  {
   "cell_type": "markdown",
   "id": "c0a8290e",
   "metadata": {},
   "source": [
    "## raise"
   ]
  },
  {
   "cell_type": "code",
   "execution_count": 25,
   "id": "b74b880c",
   "metadata": {},
   "outputs": [],
   "source": [
    "def test(a):\n",
    "    if a <0:\n",
    "        raise Exception('you have entered a negatve value')   ### Custom error(override the system message and print your own message)\n",
    "    return a"
   ]
  },
  {
   "cell_type": "code",
   "execution_count": 26,
   "id": "d8acbb50",
   "metadata": {
    "scrolled": true
   },
   "outputs": [
    {
     "ename": "Exception",
     "evalue": "you have entered a negatve value",
     "output_type": "error",
     "traceback": [
      "\u001b[1;31m---------------------------------------------------------------------------\u001b[0m",
      "\u001b[1;31mException\u001b[0m                                 Traceback (most recent call last)",
      "\u001b[1;32m~\\AppData\\Local\\Temp/ipykernel_14132/2430745927.py\u001b[0m in \u001b[0;36m<module>\u001b[1;34m\u001b[0m\n\u001b[1;32m----> 1\u001b[1;33m \u001b[0mtest\u001b[0m\u001b[1;33m(\u001b[0m\u001b[1;33m-\u001b[0m\u001b[1;36m4\u001b[0m\u001b[1;33m)\u001b[0m\u001b[1;33m\u001b[0m\u001b[1;33m\u001b[0m\u001b[0m\n\u001b[0m",
      "\u001b[1;32m~\\AppData\\Local\\Temp/ipykernel_14132/1881770082.py\u001b[0m in \u001b[0;36mtest\u001b[1;34m(a)\u001b[0m\n\u001b[0;32m      1\u001b[0m \u001b[1;32mdef\u001b[0m \u001b[0mtest\u001b[0m\u001b[1;33m(\u001b[0m\u001b[0ma\u001b[0m\u001b[1;33m)\u001b[0m\u001b[1;33m:\u001b[0m\u001b[1;33m\u001b[0m\u001b[1;33m\u001b[0m\u001b[0m\n\u001b[0;32m      2\u001b[0m     \u001b[1;32mif\u001b[0m \u001b[0ma\u001b[0m \u001b[1;33m<\u001b[0m\u001b[1;36m0\u001b[0m\u001b[1;33m:\u001b[0m\u001b[1;33m\u001b[0m\u001b[1;33m\u001b[0m\u001b[0m\n\u001b[1;32m----> 3\u001b[1;33m         \u001b[1;32mraise\u001b[0m \u001b[0mException\u001b[0m\u001b[1;33m(\u001b[0m\u001b[1;34m'you have entered a negatve value'\u001b[0m\u001b[1;33m)\u001b[0m\u001b[1;33m\u001b[0m\u001b[1;33m\u001b[0m\u001b[0m\n\u001b[0m\u001b[0;32m      4\u001b[0m     \u001b[1;32mreturn\u001b[0m \u001b[0ma\u001b[0m\u001b[1;33m\u001b[0m\u001b[1;33m\u001b[0m\u001b[0m\n",
      "\u001b[1;31mException\u001b[0m: you have entered a negatve value"
     ]
    }
   ],
   "source": [
    "test(-4)   "
   ]
  },
  {
   "cell_type": "code",
   "execution_count": null,
   "id": "f68368ea",
   "metadata": {},
   "outputs": [],
   "source": []
  }
 ],
 "metadata": {
  "kernelspec": {
   "display_name": "Python 3",
   "language": "python",
   "name": "python3"
  },
  "language_info": {
   "codemirror_mode": {
    "name": "ipython",
    "version": 3
   },
   "file_extension": ".py",
   "mimetype": "text/x-python",
   "name": "python",
   "nbconvert_exporter": "python",
   "pygments_lexer": "ipython3",
   "version": "3.9.10"
  },
  "vscode": {
   "interpreter": {
    "hash": "e89691e4663d647bc11c8a9859f5cdd56224e794f653bdd6c406cd9780fe241b"
   }
  }
 },
 "nbformat": 4,
 "nbformat_minor": 5
}
