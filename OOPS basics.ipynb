{
 "cells": [
  {
   "cell_type": "code",
   "execution_count": 1,
   "id": "a0294e32",
   "metadata": {},
   "outputs": [
    {
     "name": "stdout",
     "output_type": "stream",
     "text": [
      "1\n",
      "2\n",
      "3\n",
      "5\n",
      "4\n",
      "8\n"
     ]
    }
   ],
   "source": [
    "l=[1,2,3,5,4,8]\n",
    "for i in l:\n",
    "    print(i)"
   ]
  },
  {
   "cell_type": "raw",
   "id": "e8031f32",
   "metadata": {},
   "source": [
    "ABove code is python scripting,oops will give structure to the code where i am going to treat each and every thing as an object then i am going to solve a problem"
   ]
  },
  {
   "cell_type": "raw",
   "id": "704083d8",
   "metadata": {},
   "source": [
    "Classes are user-defined data types that act as the blueprint for individual objects, attributes and methods.\n",
    "Objects are instances of a class created with specifically defined data. Objects can correspond to real-world objects or an abstract entity. When class is defined initially, the description is the only object that is defined."
   ]
  },
  {
   "cell_type": "code",
   "execution_count": 2,
   "id": "745129f5",
   "metadata": {},
   "outputs": [],
   "source": [
    "class car:  ### Car class created\n",
    "    pass"
   ]
  },
  {
   "cell_type": "code",
   "execution_count": 10,
   "id": "3853a1b1",
   "metadata": {},
   "outputs": [],
   "source": [
    "class car:\n",
    "    def __init__(self,brand_name,fueltype,body_type):### init function=inbuilt function\n",
    "        self.brand_name=brand_name\n",
    "        self.fueltype=fueltype\n",
    "        self.body_type=body_type\n",
    "    def desc_car(self):\n",
    "        print(self.brand_name,self.fueltype,self.body_type)"
   ]
  },
  {
   "cell_type": "code",
   "execution_count": 11,
   "id": "5a6c92ca",
   "metadata": {
    "scrolled": true
   },
   "outputs": [
    {
     "ename": "TypeError",
     "evalue": "__init__() missing 3 required positional arguments: 'brand_name', 'fueltype', and 'body_type'",
     "output_type": "error",
     "traceback": [
      "\u001b[1;31m---------------------------------------------------------------------------\u001b[0m",
      "\u001b[1;31mTypeError\u001b[0m                                 Traceback (most recent call last)",
      "\u001b[1;32m~\\AppData\\Local\\Temp/ipykernel_7996/2234615735.py\u001b[0m in \u001b[0;36m<module>\u001b[1;34m\u001b[0m\n\u001b[1;32m----> 1\u001b[1;33m \u001b[0minnova\u001b[0m\u001b[1;33m=\u001b[0m\u001b[0mcar\u001b[0m\u001b[1;33m(\u001b[0m\u001b[1;33m)\u001b[0m   \u001b[1;31m### lets say innova is object for car class\u001b[0m\u001b[1;33m\u001b[0m\u001b[1;33m\u001b[0m\u001b[0m\n\u001b[0m",
      "\u001b[1;31mTypeError\u001b[0m: __init__() missing 3 required positional arguments: 'brand_name', 'fueltype', and 'body_type'"
     ]
    }
   ],
   "source": [
    "innova=car()   ### lets say innova is object for car class"
   ]
  },
  {
   "cell_type": "raw",
   "id": "20f4124f",
   "metadata": {},
   "source": [
    "car is a blueprint ,it is a class not a function but still it asks to enter 'brand_name', 'fueltype', and 'body_type'"
   ]
  },
  {
   "cell_type": "raw",
   "id": "e8c3b045",
   "metadata": {},
   "source": [
    "__init__() is a constructor(an entity/function/menthod by which u will be able to pass data into the class)"
   ]
  },
  {
   "cell_type": "code",
   "execution_count": 12,
   "id": "ed427972",
   "metadata": {},
   "outputs": [],
   "source": [
    "innova=car('toyota','petrol','suv')"
   ]
  },
  {
   "cell_type": "raw",
   "id": "1066f560",
   "metadata": {},
   "source": [
    "### Self always act as a pointer which is responsible for poiniting to a class...u can write ritesh in place of self..\n",
    "Very first thing u need to do in class is to define a variable which is  a  pointer "
   ]
  },
  {
   "cell_type": "code",
   "execution_count": 13,
   "id": "00bb2d4d",
   "metadata": {},
   "outputs": [
    {
     "name": "stdout",
     "output_type": "stream",
     "text": [
      "toyota petrol suv\n"
     ]
    }
   ],
   "source": [
    "innova.desc_car()"
   ]
  },
  {
   "cell_type": "code",
   "execution_count": 14,
   "id": "e8cacee7",
   "metadata": {},
   "outputs": [
    {
     "data": {
      "text/plain": [
       "'toyota'"
      ]
     },
     "execution_count": 14,
     "metadata": {},
     "output_type": "execute_result"
    }
   ],
   "source": [
    "innova.brand_name"
   ]
  },
  {
   "cell_type": "code",
   "execution_count": 15,
   "id": "cd00ee8f",
   "metadata": {},
   "outputs": [
    {
     "data": {
      "text/plain": [
       "'petrol'"
      ]
     },
     "execution_count": 15,
     "metadata": {},
     "output_type": "execute_result"
    }
   ],
   "source": [
    "innova.fueltype"
   ]
  },
  {
   "cell_type": "code",
   "execution_count": 20,
   "id": "7ae6016f",
   "metadata": {},
   "outputs": [],
   "source": [
    "nexon=car('tata','petrol','mini_suv')\n",
    "fortuner=car('toyota','diesel','suv') ### Inova foutuner and nexon are object/variable of car class,in real object exist car doest exist"
   ]
  },
  {
   "cell_type": "code",
   "execution_count": 21,
   "id": "d1376e04",
   "metadata": {},
   "outputs": [
    {
     "name": "stdout",
     "output_type": "stream",
     "text": [
      "tata petrol mini_suv\n"
     ]
    }
   ],
   "source": [
    "nexon.desc_car()"
   ]
  },
  {
   "cell_type": "code",
   "execution_count": 22,
   "id": "71ca9503",
   "metadata": {},
   "outputs": [
    {
     "name": "stdout",
     "output_type": "stream",
     "text": [
      "<class 'int'>\n"
     ]
    }
   ],
   "source": [
    "a=10\n",
    "print(type(a))  ### a is variable of int class"
   ]
  },
  {
   "cell_type": "code",
   "execution_count": null,
   "id": "23bfc65a",
   "metadata": {},
   "outputs": [],
   "source": []
  }
 ],
 "metadata": {
  "kernelspec": {
   "display_name": "Python 3 (ipykernel)",
   "language": "python",
   "name": "python3"
  },
  "language_info": {
   "codemirror_mode": {
    "name": "ipython",
    "version": 3
   },
   "file_extension": ".py",
   "mimetype": "text/x-python",
   "name": "python",
   "nbconvert_exporter": "python",
   "pygments_lexer": "ipython3",
   "version": "3.9.7"
  }
 },
 "nbformat": 4,
 "nbformat_minor": 5
}
