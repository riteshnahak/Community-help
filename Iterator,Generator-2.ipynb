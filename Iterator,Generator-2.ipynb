{
 "cells": [
  {
   "cell_type": "code",
   "execution_count": 2,
   "id": "916875e2",
   "metadata": {},
   "outputs": [],
   "source": [
    "f=open('test.txt','w')   ###test.txt file created"
   ]
  },
  {
   "cell_type": "code",
   "execution_count": 4,
   "id": "56ce6fb7",
   "metadata": {},
   "outputs": [
    {
     "name": "stdout",
     "output_type": "stream",
     "text": [
      " Volume in drive C has no label.\n",
      " Volume Serial Number is F4D8-FFBD\n",
      "\n",
      " Directory of C:\\Users\\dell\n",
      "\n",
      "06-Dec-22  12:21 PM    <DIR>          .\n",
      "06-Dec-22  12:21 PM    <DIR>          ..\n",
      "22-Oct-22  03:45 PM                95 .accessibility.properties\n",
      "11-Oct-22  12:05 PM    <DIR>          .astropy\n",
      "16-Oct-22  04:11 PM    <DIR>          .conda\n",
      "21-Nov-22  11:21 PM    <DIR>          .cufflinks\n",
      "06-Dec-22  12:20 PM    <DIR>          .ipynb_checkpoints\n",
      "25-Jul-22  12:17 PM    <DIR>          .ipython\n",
      "24-Nov-22  04:20 PM    <DIR>          .jupyter\n",
      "11-Oct-22  12:15 PM    <DIR>          .matplotlib\n",
      "03-Nov-22  01:12 PM    <DIR>          3D Objects\n",
      "24-Nov-22  06:55 PM                 0 51-Numpy.pdf\n",
      "04-Dec-22  07:59 PM             5,166 Advertising.csv\n",
      "04-Dec-22  07:56 PM    <DIR>          anaconda3\n",
      "19-Nov-22  04:38 PM           461,474 bank.csv\n",
      "16-Jul-22  10:59 AM    <DIR>          Contacts\n",
      "25-Nov-22  11:21 AM           530,389 Data_Train.xlsx\n",
      "02-Dec-22  09:20 PM    <DIR>          Desktop\n",
      "03-Nov-22  01:12 PM    <DIR>          Documents\n",
      "06-Dec-22  07:54 AM    <DIR>          Downloads\n",
      "25-Nov-22  11:50 AM           303,079 EDA(2).ipynb\n",
      "24-Nov-22  05:18 PM         1,597,503 EDA(Part1).ipynb\n",
      "16-Jul-22  10:59 AM    <DIR>          Favorites\n",
      "26-Nov-22  04:59 PM            62,742 Flight prdiction eda.ipynb\n",
      "25-Nov-22  12:12 PM            30,022 Flight predicton.ipynb\n",
      "03-Dec-22  03:12 PM             9,032 Function Practice 2.ipynb\n",
      "03-Nov-22  09:30 AM            11,903 glass.data\n",
      "06-Dec-22  12:21 PM               753 Iterator,Generator-2.ipynb\n",
      "04-Dec-22  09:33 PM         1,972,810 Linear Regresion.ipynb\n",
      "04-Dec-22  09:09 PM         1,978,232 Linear regression.ipynb\n",
      "16-Jul-22  10:59 AM    <DIR>          Links\n",
      "15-Nov-22  07:00 PM            18,015 locations.csv\n",
      "01-Aug-22  07:30 PM    <DIR>          Microsoft\n",
      "25-Oct-22  01:30 PM    <DIR>          Music\n",
      "18-Nov-22  07:51 PM           104,946 NBA.xlsx\n",
      "10-Jul-22  04:55 PM    <DIR>          OneDrive\n",
      "29-Sep-22  01:05 PM    <DIR>          Pictures\n",
      "03-Nov-22  09:45 AM    <DIR>          PycharmProjects\n",
      "22-Nov-22  03:44 PM            31,939 sample_submission.csv\n",
      "15-Nov-22  06:51 PM               172 sample_test.csv\n",
      "16-Jul-22  10:59 AM    <DIR>          Saved Games\n",
      "24-Nov-22  06:59 PM             7,782 sdgv.ipynb\n",
      "22-Nov-22  06:14 PM    <DIR>          seaborn-data\n",
      "16-Jul-22  10:59 AM    <DIR>          Searches\n",
      "15-Nov-22  07:47 PM            19,128 services.csv\n",
      "15-Nov-22  07:09 PM            20,752 TAT.csv\n",
      "22-Nov-22  03:44 PM           451,405 test.csv\n",
      "04-Dec-22  09:31 PM         1,572,720 test.html\n",
      "06-Dec-22  12:21 PM                 0 test.txt\n",
      "24-Nov-22  11:44 AM                 0 test2.txt\n",
      "24-Nov-22  11:46 AM                 0 test4.txt\n",
      "24-Nov-22  01:04 PM                22 test5.txt\n",
      "22-Nov-22  03:44 PM           460,676 train.csv\n",
      "01-Nov-22  11:43 AM             1,135 Untitled.ipynb\n",
      "01-Nov-22  03:48 PM               588 Untitled1.ipynb\n",
      "05-Nov-22  12:23 PM             8,531 Untitled10.ipynb\n",
      "05-Nov-22  07:02 PM             5,719 Untitled11.ipynb\n",
      "15-Nov-22  08:02 PM           143,953 Untitled12.ipynb\n",
      "16-Nov-22  09:02 AM               750 Untitled13.ipynb\n",
      "18-Nov-22  11:23 PM           286,901 Untitled14.ipynb\n",
      "19-Nov-22  04:25 PM            85,070 Untitled15.ipynb\n",
      "19-Nov-22  07:17 PM             2,093 Untitled16.ipynb\n",
      "19-Nov-22  08:57 PM            66,508 Untitled17.ipynb\n",
      "20-Nov-22  11:32 AM            64,559 Untitled18.ipynb\n",
      "20-Nov-22  12:02 PM            45,003 Untitled19.ipynb\n",
      "01-Nov-22  05:16 PM               588 Untitled2.ipynb\n",
      "20-Nov-22  04:39 PM            30,733 Untitled20.ipynb\n",
      "21-Nov-22  11:44 AM            25,144 Untitled21.ipynb\n",
      "21-Nov-22  05:35 PM            28,706 Untitled22.ipynb\n",
      "21-Nov-22  06:08 PM               931 Untitled23.ipynb\n",
      "21-Nov-22  11:13 PM         1,326,421 Untitled24.ipynb\n",
      "21-Nov-22  11:29 PM            78,848 Untitled25.ipynb\n",
      "22-Nov-22  09:21 AM             8,919 Untitled26.ipynb\n",
      "22-Nov-22  10:42 AM             2,648 Untitled27.ipynb\n",
      "24-Nov-22  07:27 PM             4,683 Untitled28.ipynb\n",
      "22-Nov-22  06:22 PM           107,581 Untitled29.ipynb\n",
      "02-Nov-22  09:56 AM               588 Untitled3.ipynb\n",
      "22-Nov-22  08:01 PM           211,334 Untitled30.ipynb\n",
      "23-Nov-22  09:39 AM               778 Untitled31.ipynb\n",
      "23-Nov-22  01:51 PM            29,240 Untitled32.ipynb\n",
      "23-Nov-22  02:19 PM               588 Untitled33.ipynb\n",
      "23-Nov-22  04:40 PM             2,421 Untitled34.ipynb\n",
      "23-Nov-22  08:47 PM           174,685 Untitled35.ipynb\n",
      "24-Nov-22  11:13 AM            13,395 Untitled36.ipynb\n",
      "24-Nov-22  01:38 PM            19,981 Untitled37.ipynb\n",
      "24-Nov-22  01:40 PM                72 Untitled38.ipynb\n",
      "24-Nov-22  06:47 PM             2,076 Untitled39.ipynb\n",
      "02-Nov-22  10:27 AM             1,471 Untitled4.ipynb\n",
      "24-Nov-22  07:25 PM               588 Untitled40.ipynb\n",
      "24-Nov-22  07:56 PM           185,666 Untitled41.ipynb\n",
      "24-Nov-22  08:24 PM             2,108 Untitled42.ipynb\n",
      "25-Nov-22  09:19 AM           804,493 Untitled43.ipynb\n",
      "26-Nov-22  01:10 PM           148,993 Untitled44.ipynb\n",
      "27-Nov-22  08:14 AM               588 Untitled45.ipynb\n",
      "28-Nov-22  08:49 AM               588 Untitled46.ipynb\n",
      "02-Dec-22  04:47 PM            27,072 Untitled47.ipynb\n",
      "02-Dec-22  06:39 PM            32,071 Untitled48.ipynb\n",
      "03-Dec-22  03:49 PM             7,432 Untitled49.ipynb\n",
      "03-Nov-22  09:36 AM            17,354 Untitled5.ipynb\n",
      "03-Dec-22  02:25 PM             1,452 Untitled50.ipynb\n",
      "04-Dec-22  08:35 PM         1,963,169 Untitled51.ipynb\n",
      "04-Dec-22  08:54 PM         1,964,313 Untitled52.ipynb\n",
      "06-Dec-22  12:14 PM               588 Untitled53.ipynb\n",
      "03-Nov-22  03:39 PM           126,746 Untitled6.ipynb\n",
      "03-Nov-22  01:04 PM               588 Untitled7.ipynb\n",
      "03-Nov-22  04:01 PM            47,206 Untitled8.ipynb\n",
      "05-Nov-22  08:29 AM            56,833 Untitled9.ipynb\n",
      "16-Jul-22  10:59 AM    <DIR>          Videos\n",
      "              82 File(s)     17,821,246 bytes\n",
      "              26 Dir(s)  184,314,347,520 bytes free\n"
     ]
    }
   ],
   "source": [
    "ls"
   ]
  },
  {
   "cell_type": "code",
   "execution_count": 5,
   "id": "5b31a7f2",
   "metadata": {},
   "outputs": [
    {
     "data": {
      "text/plain": [
       "31"
      ]
     },
     "execution_count": 5,
     "metadata": {},
     "output_type": "execute_result"
    }
   ],
   "source": [
    "f.write('this is my first file operation')   ### If u open file feom computer it will still open as blank notepad bcoz u havent colses it"
   ]
  },
  {
   "cell_type": "code",
   "execution_count": 6,
   "id": "93533a71",
   "metadata": {},
   "outputs": [],
   "source": [
    "f.close()"
   ]
  },
  {
   "cell_type": "code",
   "execution_count": 7,
   "id": "fcde38a8",
   "metadata": {},
   "outputs": [],
   "source": [
    "f=open('test.txt')  ### If u doestnt mention w it take bydefault as read...."
   ]
  },
  {
   "cell_type": "code",
   "execution_count": 8,
   "id": "10beef98",
   "metadata": {},
   "outputs": [
    {
     "data": {
      "text/plain": [
       "'this is my first file operation'"
      ]
     },
     "execution_count": 8,
     "metadata": {},
     "output_type": "execute_result"
    }
   ],
   "source": [
    "f.read()"
   ]
  },
  {
   "cell_type": "code",
   "execution_count": 9,
   "id": "15d9acf7",
   "metadata": {},
   "outputs": [
    {
     "ename": "TypeError",
     "evalue": "TextIOWrapper.write() takes exactly one argument (0 given)",
     "output_type": "error",
     "traceback": [
      "\u001b[1;31m---------------------------------------------------------------------------\u001b[0m",
      "\u001b[1;31mTypeError\u001b[0m                                 Traceback (most recent call last)",
      "\u001b[1;32m~\\AppData\\Local\\Temp/ipykernel_3528/3267976891.py\u001b[0m in \u001b[0;36m<module>\u001b[1;34m\u001b[0m\n\u001b[1;32m----> 1\u001b[1;33m \u001b[0mf\u001b[0m\u001b[1;33m.\u001b[0m\u001b[0mwrite\u001b[0m\u001b[1;33m(\u001b[0m\u001b[1;33m)\u001b[0m\u001b[1;33m\u001b[0m\u001b[1;33m\u001b[0m\u001b[0m\n\u001b[0m",
      "\u001b[1;31mTypeError\u001b[0m: TextIOWrapper.write() takes exactly one argument (0 given)"
     ]
    }
   ],
   "source": [
    "f.write() ### If u doestnt mention w it take bydefault as read....so u cant write in it"
   ]
  },
  {
   "cell_type": "code",
   "execution_count": 10,
   "id": "108816d1",
   "metadata": {},
   "outputs": [
    {
     "data": {
      "text/plain": [
       "''"
      ]
     },
     "execution_count": 10,
     "metadata": {},
     "output_type": "execute_result"
    }
   ],
   "source": [
    "f.read()  ### as my cursor is at last position of text so we need to move our cursor"
   ]
  },
  {
   "cell_type": "code",
   "execution_count": 11,
   "id": "cde6caae",
   "metadata": {},
   "outputs": [
    {
     "data": {
      "text/plain": [
       "5"
      ]
     },
     "execution_count": 11,
     "metadata": {},
     "output_type": "execute_result"
    }
   ],
   "source": [
    "f.seek(5)   ### Now our cursor is at 5th position"
   ]
  },
  {
   "cell_type": "code",
   "execution_count": 12,
   "id": "ec5296c4",
   "metadata": {},
   "outputs": [
    {
     "data": {
      "text/plain": [
       "'is my first file operation'"
      ]
     },
     "execution_count": 12,
     "metadata": {},
     "output_type": "execute_result"
    }
   ],
   "source": [
    "f.read()"
   ]
  },
  {
   "cell_type": "code",
   "execution_count": 13,
   "id": "125a338b",
   "metadata": {},
   "outputs": [
    {
     "data": {
      "text/plain": [
       "31"
      ]
     },
     "execution_count": 13,
     "metadata": {},
     "output_type": "execute_result"
    }
   ],
   "source": [
    "f.tell()   ### My cursor is at31st indexes"
   ]
  },
  {
   "cell_type": "code",
   "execution_count": 14,
   "id": "944fa0f2",
   "metadata": {},
   "outputs": [],
   "source": [
    "f.close()"
   ]
  },
  {
   "cell_type": "code",
   "execution_count": 15,
   "id": "b764a815",
   "metadata": {},
   "outputs": [],
   "source": [
    "f=open('test.txt','r+')"
   ]
  },
  {
   "cell_type": "code",
   "execution_count": 16,
   "id": "9864a711",
   "metadata": {},
   "outputs": [
    {
     "data": {
      "text/plain": [
       "'this is my first file operation'"
      ]
     },
     "execution_count": 16,
     "metadata": {},
     "output_type": "execute_result"
    }
   ],
   "source": [
    "f.read()"
   ]
  },
  {
   "cell_type": "code",
   "execution_count": 17,
   "id": "3de674ce",
   "metadata": {},
   "outputs": [
    {
     "data": {
      "text/plain": [
       "''"
      ]
     },
     "execution_count": 17,
     "metadata": {},
     "output_type": "execute_result"
    }
   ],
   "source": [
    "f.readline()"
   ]
  },
  {
   "cell_type": "code",
   "execution_count": 18,
   "id": "a72b2557",
   "metadata": {},
   "outputs": [
    {
     "data": {
      "text/plain": [
       "0"
      ]
     },
     "execution_count": 18,
     "metadata": {},
     "output_type": "execute_result"
    }
   ],
   "source": [
    "f.seek(0)"
   ]
  },
  {
   "cell_type": "code",
   "execution_count": 19,
   "id": "e06c9325",
   "metadata": {},
   "outputs": [
    {
     "data": {
      "text/plain": [
       "'this is my first file operation'"
      ]
     },
     "execution_count": 19,
     "metadata": {},
     "output_type": "execute_result"
    }
   ],
   "source": [
    "f.readline()"
   ]
  },
  {
   "cell_type": "code",
   "execution_count": 22,
   "id": "4f343334",
   "metadata": {},
   "outputs": [],
   "source": [
    "### Read will always read the data as whole but readbyline will read te data line by line if there is a break in line."
   ]
  },
  {
   "cell_type": "code",
   "execution_count": 23,
   "id": "26413141",
   "metadata": {},
   "outputs": [],
   "source": [
    "f.close()"
   ]
  },
  {
   "cell_type": "code",
   "execution_count": 26,
   "id": "434136d0",
   "metadata": {},
   "outputs": [
    {
     "ename": "FileNotFoundError",
     "evalue": "[Errno 2] No such file or directory: 'google1.txt'",
     "output_type": "error",
     "traceback": [
      "\u001b[1;31m---------------------------------------------------------------------------\u001b[0m",
      "\u001b[1;31mFileNotFoundError\u001b[0m                         Traceback (most recent call last)",
      "\u001b[1;32m~\\AppData\\Local\\Temp/ipykernel_3528/1789547540.py\u001b[0m in \u001b[0;36m<module>\u001b[1;34m\u001b[0m\n\u001b[1;32m----> 1\u001b[1;33m \u001b[0mf\u001b[0m\u001b[1;33m=\u001b[0m\u001b[0mopen\u001b[0m\u001b[1;33m(\u001b[0m\u001b[1;34m'google1.txt'\u001b[0m\u001b[1;33m,\u001b[0m\u001b[1;34m'r'\u001b[0m\u001b[1;33m)\u001b[0m\u001b[1;33m\u001b[0m\u001b[1;33m\u001b[0m\u001b[0m\n\u001b[0m",
      "\u001b[1;31mFileNotFoundError\u001b[0m: [Errno 2] No such file or directory: 'google1.txt'"
     ]
    }
   ],
   "source": [
    "f=open('google1.txt','r')"
   ]
  },
  {
   "cell_type": "code",
   "execution_count": 27,
   "id": "d15857d1",
   "metadata": {},
   "outputs": [],
   "source": [
    "f=open('google1.txt','w')"
   ]
  }
 ],
 "metadata": {
  "kernelspec": {
   "display_name": "Python 3 (ipykernel)",
   "language": "python",
   "name": "python3"
  },
  "language_info": {
   "codemirror_mode": {
    "name": "ipython",
    "version": 3
   },
   "file_extension": ".py",
   "mimetype": "text/x-python",
   "name": "python",
   "nbconvert_exporter": "python",
   "pygments_lexer": "ipython3",
   "version": "3.9.7"
  }
 },
 "nbformat": 4,
 "nbformat_minor": 5
}
